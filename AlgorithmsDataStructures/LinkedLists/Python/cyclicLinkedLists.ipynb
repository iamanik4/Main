{
 "nbformat": 4,
 "nbformat_minor": 2,
 "metadata": {
  "language_info": {
   "name": "python",
   "codemirror_mode": {
    "name": "ipython",
    "version": 3
   },
   "version": "3.6.5-final"
  },
  "orig_nbformat": 2,
  "file_extension": ".py",
  "mimetype": "text/x-python",
  "name": "python",
  "npconvert_exporter": "python",
  "pygments_lexer": "ipython3",
  "version": 3,
  "kernelspec": {
   "name": "python3",
   "display_name": "Python 3"
  }
 },
 "cells": [
  {
   "cell_type": "code",
   "execution_count": 72,
   "metadata": {},
   "outputs": [],
   "source": [
    "class Node():\n",
    "    def __init__(self,data):\n",
    "        self.data = data\n",
    "        self.next = None"
   ]
  },
  {
   "cell_type": "code",
   "execution_count": 78,
   "metadata": {},
   "outputs": [],
   "source": [
    "class LinkedList():\n",
    "    def __init__(self):\n",
    "        self.head = None\n",
    "        self.loop = False\n",
    "        self.loopHead = None\n",
    "        self.loopElem = []\n",
    "    \n",
    "    def display(self):\n",
    "        temp = self.head\n",
    "        while(temp):\n",
    "            print(temp.data,end = ' ')\n",
    "            temp = temp.next\n",
    "        print()\n",
    "\n",
    "    def insertAtBeg(self,node):\n",
    "        node.next = self.head\n",
    "        self.head = node\n",
    "\n",
    "    def checkLoop(self):\n",
    "        temp1=temp2=self.head\n",
    "        while(temp1!=None and temp1.next!=None):\n",
    "            temp1 = temp1.next.next\n",
    "            temp2 = temp2.next\n",
    "            if(temp1==temp2):\n",
    "                self.loop = True\n",
    "                self.meetPt = temp1\n",
    "                return True\n",
    "        return False \n",
    "\n",
    "    def remLoop(self):\n",
    "        if not self.loop:\n",
    "            return('Loop does not exist')  \n",
    "        temp1 = self.meetPt \n",
    "        temp2 = self.head\n",
    "        while(temp1.next!=temp2.next):\n",
    "            temp1 = temp1.next\n",
    "            temp2 = temp2.next\n",
    "        temp1.next = None\n",
    "        self.loopHead = temp2.next.data\n",
    "        self.loopElem = []\n",
    "        return ('Loop removed')\n",
    "\n",
    "    def getLoopElem(self):\n",
    "        if not self.loop:\n",
    "            return loopElem\n",
    "        temp1 = self.meetPt\n",
    "        temp2 = self.meetPt.next\n",
    "        self.loopElem.append(temp1.data)\n",
    "        while(temp1!=temp2):\n",
    "            self.loopElem.append(temp2.data)\n",
    "            temp2 = temp2.next\n",
    "        return self.loopElem"
   ]
  },
  {
   "cell_type": "code",
   "execution_count": 79,
   "metadata": {},
   "outputs": [],
   "source": [
    "loopLinkedList = LinkedList()\n",
    "a = Node(1)\n",
    "b = Node(2)\n",
    "c = Node(3)\n",
    "d = Node(4)\n",
    "e = Node(5)\n",
    "f = Node(6)\n",
    "g = Node(7)\n",
    "loopLinkedList.head = a\n",
    "a.next = b\n",
    "b.next = c\n",
    "c.next = d\n",
    "d.next = e\n",
    "e.next = f\n",
    "f.next = g\n",
    "g.next = c\n",
    "linkedList = LinkedList()\n",
    "linkedList.insertAtBeg(Node(1))\n",
    "linkedList.insertAtBeg(Node(2))\n",
    "linkedList.insertAtBeg(Node(3))"
   ]
  },
  {
   "cell_type": "code",
   "execution_count": 80,
   "metadata": {},
   "outputs": [
    {
     "name": "stdout",
     "output_type": "stream",
     "text": "[6, 7, 3, 4, 5]\nLoop removed\n3\n1 2 3 4 5 6 7 \n"
    }
   ],
   "source": [
    "if loopLinkedList.checkLoop():\n",
    "    print(loopLinkedList.getLoopElem())\n",
    "    print(loopLinkedList.remLoop())\n",
    "    print(loopLinkedList.loopHead)\n",
    "loopLinkedList.display()"
   ]
  }
 ]
}