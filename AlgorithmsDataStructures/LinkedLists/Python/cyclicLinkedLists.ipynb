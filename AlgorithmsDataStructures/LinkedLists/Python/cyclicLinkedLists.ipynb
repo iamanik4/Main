{
 "nbformat": 4,
 "nbformat_minor": 2,
 "metadata": {
  "language_info": {
   "name": "python",
   "codemirror_mode": {
    "name": "ipython",
    "version": 3
   },
   "version": "3.6.5-final"
  },
  "orig_nbformat": 2,
  "file_extension": ".py",
  "mimetype": "text/x-python",
  "name": "python",
  "npconvert_exporter": "python",
  "pygments_lexer": "ipython3",
  "version": 3,
  "kernelspec": {
   "name": "python3",
   "display_name": "Python 3"
  }
 },
 "cells": [
  {
   "cell_type": "code",
   "execution_count": 1,
   "metadata": {},
   "outputs": [],
   "source": [
    "class Node():\n",
    "    def __init__(self,data):\n",
    "        self.data = data\n",
    "        self.next = None"
   ]
  },
  {
   "cell_type": "code",
   "execution_count": 2,
   "metadata": {},
   "outputs": [],
   "source": [
    "class LinkedList():\n",
    "    def __init__(self):\n",
    "        self.head = None\n",
    "    \n",
    "    def display(self):\n",
    "        temp = self.head\n",
    "        while(temp):\n",
    "            print(temp.data,end = ' ')\n",
    "            temp = temp.next\n",
    "        print()\n",
    "\n",
    "    def insertAtBeg(self,node):\n",
    "        node.next = self.head\n",
    "        self.head = node"
   ]
  },
  {
   "cell_type": "code",
   "execution_count": 18,
   "metadata": {},
   "outputs": [],
   "source": [
    "loopLinkedList = LinkedList()\n",
    "a = Node(1)\n",
    "b = Node(2)\n",
    "c = Node(3)\n",
    "d = Node(4)\n",
    "e = Node(5)\n",
    "f = Node(6)\n",
    "g = Node(7)\n",
    "loopLinkedList.head = a\n",
    "a.next = b\n",
    "b.next = c\n",
    "c.next = d\n",
    "d.next = e\n",
    "e.next = f\n",
    "f.next = c\n",
    "linkedList = LinkedList()\n",
    "linkedList.insertAtBeg(Node(1))\n",
    "linkedList.insertAtBeg(Node(2))\n",
    "linkedList.insertAtBeg(Node(3))"
   ]
  },
  {
   "cell_type": "code",
   "execution_count": 15,
   "metadata": {},
   "outputs": [],
   "source": [
    "def checkLoop(head):\n",
    "    temp1=temp2=head\n",
    "    while(temp1!=None and temp1.next!=None):\n",
    "        temp1 = temp1.next.next\n",
    "        temp2 = temp2.next\n",
    "        if(temp1==temp2):\n",
    "            return True\n",
    "    return False"
   ]
  },
  {
   "cell_type": "code",
   "execution_count": 16,
   "metadata": {},
   "outputs": [
    {
     "name": "stdout",
     "output_type": "stream",
     "text": "Loop Exists\n"
    }
   ],
   "source": [
    "if(checkLoop(loopLinkedList.head)):\n",
    "    print('Loop Exists')\n",
    "else:\n",
    "    print('Loop does not exist')"
   ]
  },
  {
   "cell_type": "code",
   "execution_count": 19,
   "metadata": {},
   "outputs": [
    {
     "name": "stdout",
     "output_type": "stream",
     "text": "3 2 1 \nLoop does not exist\n"
    }
   ],
   "source": [
    "linkedList.display()\n",
    "if(checkLoop(linkedList.head)):\n",
    "    print('Loop Exists')\n",
    "else:\n",
    "    print('Loop does not exist')"
   ]
  },
  {
   "cell_type": "code",
   "execution_count": null,
   "metadata": {},
   "outputs": [],
   "source": []
  }
 ]
}