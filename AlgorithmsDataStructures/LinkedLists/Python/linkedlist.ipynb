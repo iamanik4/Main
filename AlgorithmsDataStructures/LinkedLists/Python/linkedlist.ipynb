{
 "cells": [
  {
   "cell_type": "code",
   "execution_count": 113,
   "metadata": {},
   "outputs": [],
   "source": [
    "class Node():\n",
    "    def __init__(self,data):\n",
    "        self.data = data\n",
    "        self.next = None"
   ]
  },
  {
   "cell_type": "code",
   "execution_count": 114,
   "metadata": {},
   "outputs": [],
   "source": [
    "class LinkedList():\n",
    "    def __init__(self):\n",
    "        self.head = None\n",
    "    \n",
    "    def display(self):\n",
    "        temp = self.head\n",
    "        while(temp):\n",
    "            print(temp.data, end=' ')\n",
    "            temp = temp.next\n",
    "            \n",
    "    def insertAtBeg(self,node):\n",
    "        node.next = self.head\n",
    "        self.head = node\n",
    "        \n",
    "    def insertAtEnd(self,node):\n",
    "        if self.head==None:\n",
    "            self.head = node\n",
    "            return\n",
    "        temp = self.head\n",
    "        while(temp.next != None):\n",
    "            temp = temp.next\n",
    "        temp.next = node"
   ]
  },
  {
   "cell_type": "code",
   "execution_count": 115,
   "metadata": {},
   "outputs": [
    {
     "name": "stdout",
     "output_type": "stream",
     "text": "3 2 1 0 4 5"
    }
   ],
   "source": [
    "linkedList = LinkedList()\n",
    "linkedList.insertAtEnd(Node(0))\n",
    "linkedList.insertAtBeg(Node(1))\n",
    "linkedList.insertAtBeg(Node(2))\n",
    "linkedList.insertAtBeg(Node(3))\n",
    "linkedList.insertAtEnd(Node(4))\n",
    "linkedList.insertAtEnd(Node(5))\n",
    "linkedList.display()"
   ]
  },
  {
   "cell_type": "code",
   "execution_count": 116,
   "metadata": {},
   "outputs": [],
   "source": [
    "class DllNode():\n",
    "    def __init__(self,data):\n",
    "        self.data = data\n",
    "        self.next = None\n",
    "        self.prev = None"
   ]
  },
  {
   "cell_type": "code",
   "execution_count": 117,
   "metadata": {},
   "outputs": [],
   "source": [
    "class DoubleLinkedList():\n",
    "    def __init__(self):\n",
    "        self.head = None\n",
    "    \n",
    "    def display(self):\n",
    "        temp = self.head\n",
    "        while(temp):\n",
    "            print(temp.data, end=' ')\n",
    "            temp = temp.next\n",
    "            \n",
    "    def insertAtBeg(self,node):\n",
    "        node.next = self.head\n",
    "        self.head = node\n",
    "        \n",
    "    def insertAtEnd(self,node):\n",
    "        if self.head==None:\n",
    "            self.head = node\n",
    "            return\n",
    "        temp = self.head\n",
    "        while(temp.next != None):\n",
    "            temp = temp.next\n",
    "        temp.next = node\n",
    "        node.prev = temp    "
   ]
  },
  {
   "cell_type": "code",
   "execution_count": 118,
   "metadata": {},
   "outputs": [
    {
     "name": "stdout",
     "output_type": "stream",
     "text": "3 2 1 0 4 5"
    }
   ],
   "source": [
    "dlinkedList = DoubleLinkedList()\n",
    "dlinkedList.insertAtEnd(DllNode(0))\n",
    "dlinkedList.insertAtBeg(DllNode(1))\n",
    "dlinkedList.insertAtBeg(DllNode(2))\n",
    "dlinkedList.insertAtBeg(DllNode(3))\n",
    "dlinkedList.insertAtEnd(DllNode(4))\n",
    "dlinkedList.insertAtEnd(DllNode(5))\n",
    "dlinkedList.display()"
   ]
  },
  {
   "cell_type": "markdown",
   "metadata": {},
   "source": [
    "### Problem Statement\n",
    "* Find the middle element of a linked list\n",
    "* Incase of odd number of elements, take the last of the 2 middle elements\n",
    "* Incase of only one element, return the element\n",
    "* Incase of 2 elements, return the 2nd element\n",
    "* Incase of no elements, return NULL\n",
    "\n",
    "\n",
    "*Naive Approach: \n",
    "* Count number of elements (n) in the node.\n",
    "* From head move (n/2) elements and print the node value.\n",
    "* No elements case has to be handled seperately.\n",
    "*Disadvantages:\n",
    "* Traverse the linkedList twice\n",
    "\n",
    "*Efficient Approach: Slow Fast moving pointers\n",
    "* Start with two pointers A,B pointing to head.\n",
    "* A moves 2 nodes at a time and B moves one node at a time.\n",
    "* When A reaches end, B is at middle. Return value of node pointed by B.\n",
    "*Advantages:\n",
    "* Traverse the linkedList once"
   ]
  },
  {
   "cell_type": "code",
   "execution_count": 119,
   "metadata": {},
   "outputs": [],
   "source": [
    "def midOfLLNaive(linkedList):\n",
    "    if linkedList.head==None:\n",
    "        return \"Empty Linked List\"\n",
    "    count = 0\n",
    "    temp = linkedList.head\n",
    "    while(temp):\n",
    "        temp = temp.next\n",
    "        count += 1\n",
    "    temp = linkedList.head\n",
    "    for i in range(count//2):\n",
    "        temp = temp.next\n",
    "    return temp.data"
   ]
  },
  {
   "cell_type": "code",
   "execution_count": 120,
   "metadata": {},
   "outputs": [],
   "source": [
    "def midOfLLEff(linkedList):\n",
    "    if linkedList.head==None:\n",
    "        return \"Empty Linked List\"\n",
    "    slow=fast=linkedList.head\n",
    "    while(fast!=None and fast.next!=None):\n",
    "        fast = fast.next.next\n",
    "        slow = slow.next\n",
    "    return slow.data    "
   ]
  },
  {
   "cell_type": "code",
   "execution_count": 121,
   "metadata": {},
   "outputs": [
    {
     "name": "stdout",
     "output_type": "stream",
     "text": "5 4 3 2 1 \n3\n3\n\nEmpty Linked List\nEmpty Linked List\n\n4 3 2 1 \n2\n2\n"
    }
   ],
   "source": [
    "linkedList1 = LinkedList()\n",
    "linkedList1.insertAtBeg(Node(1))\n",
    "linkedList1.insertAtBeg(Node(2))\n",
    "linkedList1.insertAtBeg(Node(3))\n",
    "linkedList1.insertAtBeg(Node(4))\n",
    "linkedList1.insertAtBeg(Node(5))\n",
    "linkedList1.display()\n",
    "print()\n",
    "print(midOfLLNaive(linkedList1))\n",
    "print(midOfLLEff(linkedList1))\n",
    "\n",
    "linkedList2 = LinkedList()\n",
    "print()\n",
    "print(midOfLLNaive(linkedList2))\n",
    "print(midOfLLEff(linkedList2))\n",
    "print()\n",
    "\n",
    "linkedList3 = LinkedList()\n",
    "linkedList3.insertAtBeg(Node(1))\n",
    "linkedList3.insertAtBeg(Node(2))\n",
    "linkedList3.insertAtBeg(Node(3))\n",
    "linkedList3.insertAtBeg(Node(4))\n",
    "linkedList3.display()\n",
    "print()\n",
    "print(midOfLLNaive(linkedList3))\n",
    "print(midOfLLEff(linkedList3))"
   ]
  },
  {
   "cell_type": "markdown",
   "metadata": {},
   "source": [
    "### Problem Statement\n",
    "* Find nth node from end of a linked list\n",
    "* Incase n>length of linked list, return NULL\n",
    "\n",
    "*First Approach: \n",
    "* Count number of elements (l) in the node.\n",
    "* From head move (l-n) elements and print the node value.\n",
    "* No elements case has to be handled seperately.\n",
    "\n",
    "*Second Approach: Double pointers\n",
    "* Start with two pointers A,B pointing to head.\n",
    "* A moves n nodes first.\n",
    "* Untill A reaches end, A,B both move one node on every iteration"
   ]
  },
  {
   "cell_type": "code",
   "execution_count": 122,
   "metadata": {},
   "outputs": [],
   "source": [
    "def nFromLast1(linkedList,n):\n",
    "    \n",
    "    if linkedList.head==None:\n",
    "        return \"Empty Linked List\"\n",
    "    temp = linkedList.head\n",
    "    count = 0\n",
    "    \n",
    "    while(temp):\n",
    "        count += 1\n",
    "        temp = temp.next\n",
    "    \n",
    "    temp = linkedList.head\n",
    "    \n",
    "    if count-n>=0:\n",
    "        for i in range(count-n):\n",
    "            temp = temp.next\n",
    "        return temp.data\n",
    "\n",
    "    else:\n",
    "        return \"Insufficient Nodes\""
   ]
  },
  {
   "cell_type": "code",
   "execution_count": 123,
   "metadata": {},
   "outputs": [],
   "source": [
    "def nFromLast2(linkedList,n):\n",
    "    \n",
    "    if linkedList.head==None:\n",
    "        return \"Empty Linked List\"\n",
    "    refA = refB = linkedList.head\n",
    "    \n",
    "    for _ in range(n):\n",
    "        if refA==None:\n",
    "            return \"Insufficient Nodes\"\n",
    "        refA = refA.next\n",
    "    \n",
    "    while refA:\n",
    "        if refA==None:\n",
    "            return \"Insufficient Nodes\"\n",
    "        refA = refA.next\n",
    "        refB = refB.next\n",
    "        \n",
    "    return refB.data"
   ]
  },
  {
   "cell_type": "code",
   "execution_count": 124,
   "metadata": {},
   "outputs": [
    {
     "name": "stdout",
     "output_type": "stream",
     "text": "5 4 3 2 1 \n4\n3\n\nEmpty Linked List\nEmpty Linked List\n\n4 3 2 1 \nInsufficient Nodes\n2\n"
    }
   ],
   "source": [
    "linkedList1 = LinkedList()\n",
    "linkedList1.insertAtBeg(Node(1))\n",
    "linkedList1.insertAtBeg(Node(2))\n",
    "linkedList1.insertAtBeg(Node(3))\n",
    "linkedList1.insertAtBeg(Node(4))\n",
    "linkedList1.insertAtBeg(Node(5))\n",
    "linkedList1.display()\n",
    "print()\n",
    "print(nFromLast1(linkedList1,4))\n",
    "print(nFromLast2(linkedList1,3))\n",
    "\n",
    "linkedList2 = LinkedList()\n",
    "print()\n",
    "print(nFromLast1(linkedList2,4))\n",
    "print(nFromLast2(linkedList2,4))\n",
    "print()\n",
    "\n",
    "linkedList3 = LinkedList()\n",
    "linkedList3.insertAtBeg(Node(1))\n",
    "linkedList3.insertAtBeg(Node(2))\n",
    "linkedList3.insertAtBeg(Node(3))\n",
    "linkedList3.insertAtBeg(Node(4))\n",
    "linkedList3.display()\n",
    "print()\n",
    "print(nFromLast1(linkedList3,5))\n",
    "print(nFromLast2(linkedList3,2))"
   ]
  },
  {
   "cell_type": "markdown",
   "metadata": {},
   "source": [
    "### Problem Statement\n",
    "* Reverse a Linked List\n",
    "\n",
    "*Recursive Approach:\n",
    "* Reverse the links recursively starting from last node, towards head\n",
    "* for the base case(head==None or head.next==None), return head, as it will be the last node and store it separately(rest_head)\n",
    "* for the current head in the recursive call, make the next node as the tail\n",
    "* make the current head in the recursive call as the next node for the tail (i.e. reverse the link)\n",
    "* for the current head in the recursive call, make it's next as null to make it as last node for the current call\n",
    "* return rest_head"
   ]
  },
  {
   "cell_type": "code",
   "execution_count": 125,
   "metadata": {},
   "outputs": [],
   "source": [
    "def revLinkedListRec(head):\n",
    "    if head==None or head.next==None: #if last node is reached\n",
    "        return head\n",
    "    rest_head = revLinkedListRec(head.next)  #this makes the last node as the rest_head\n",
    "    tail = head.next #for the current head in the recursive call, make the next node as the tail\n",
    "    tail.next = head #make the current head in the recursive call as the next node for the tail (i.e. reverse the link)\n",
    "    head.next = None #for the current head in the recursive call, make it's next as null to make it as last node\n",
    "    return rest_head"
   ]
  },
  {
   "cell_type": "code",
   "execution_count": 126,
   "metadata": {},
   "outputs": [
    {
     "name": "stdout",
     "output_type": "stream",
     "text": "5 4 3 2 1 \n1 2 3 4 5 \n\n10"
    }
   ],
   "source": [
    "linkedList1 = LinkedList()\n",
    "linkedList1.insertAtBeg(Node(1))\n",
    "linkedList1.insertAtBeg(Node(2))\n",
    "linkedList1.insertAtBeg(Node(3))\n",
    "linkedList1.insertAtBeg(Node(4))\n",
    "linkedList1.insertAtBeg(Node(5))\n",
    "linkedList1.display()\n",
    "print()\n",
    "linkedList1.head = revLinkedListRec(linkedList1.head)\n",
    "linkedList1.display()\n",
    "print()\n",
    "linkedList2 = LinkedList()\n",
    "linkedList2.head = revLinkedListRec(linkedList2.head)\n",
    "linkedList2.display()\n",
    "print()\n",
    "linkedList3 = LinkedList()\n",
    "linkedList3.insertAtBeg(Node(10))\n",
    "linkedList3.head = revLinkedListRec(linkedList3.head)\n",
    "linkedList3.display()"
   ]
  },
  {
   "cell_type": "markdown",
   "metadata": {},
   "source": [
    "### Problem Statement\n",
    "* Reverse a linked list in groups of k\n",
    "\n",
    "*Solution: use effective solution in revLinkedList.c recursively\n",
    "* Auxiliary space required is n/k"
   ]
  },
  {
   "cell_type": "code",
   "execution_count": 127,
   "metadata": {},
   "outputs": [],
   "source": [
    "def revLinkedListRecGrp(head,k):\n",
    "    curr = head\n",
    "    next = prev = None\n",
    "    count = 0\n",
    "    while(curr!=None and count<k):\n",
    "        next = curr.next\n",
    "        curr.next = prev\n",
    "        prev = curr\n",
    "        curr = next\n",
    "        count += 1\n",
    "    if next!=None: # we can also use curr here as both curr and next have same reference after the while loop finishes\n",
    "        rest_head = revLinkedListRecGrp(next,k) # ---------------same applies here-----------------\n",
    "        head.next = rest_head  #link last node of the previous group to head of the next group\n",
    "    return prev"
   ]
  },
  {
   "cell_type": "code",
   "execution_count": 128,
   "metadata": {},
   "outputs": [
    {
     "name": "stdout",
     "output_type": "stream",
     "text": "8 7 6 5 4 3 2 1 \n6 7 8 3 4 5 1 2"
    }
   ],
   "source": [
    "linkedList1 = LinkedList()\n",
    "linkedList1.insertAtBeg(Node(1))\n",
    "linkedList1.insertAtBeg(Node(2))\n",
    "linkedList1.insertAtBeg(Node(3))\n",
    "linkedList1.insertAtBeg(Node(4))\n",
    "linkedList1.insertAtBeg(Node(5))\n",
    "linkedList1.insertAtBeg(Node(6))\n",
    "linkedList1.insertAtBeg(Node(7))\n",
    "linkedList1.insertAtBeg(Node(8))\n",
    "linkedList1.display()\n",
    "print()\n",
    "linkedList1.head = revLinkedListRecGrp(linkedList1.head,3)\n",
    "linkedList1.display()"
   ]
  },
  {
   "cell_type": "markdown",
   "metadata": {},
   "source": [
    "Problem Statement:\n",
    "* Remove a node from a linked list with only a pointer given to it\n",
    "* Assume the node to be removed can never be the last node\n",
    "\n",
    "Solution:\n",
    "* Copy data of the next node to the pointed node\n",
    "* Copy address of next to next node to the pointed node's next\n",
    "* Delete the next node\n",
    "* <i>This approach would have caused a problem if the assumption was not there</i>"
   ]
  },
  {
   "cell_type": "code",
   "execution_count": 129,
   "metadata": {},
   "outputs": [],
   "source": [
    "def removeNode(nodePointer):\n",
    "        nodePointer.data = nodePointer.next.data\n",
    "        nodePointer.next = nodePointer.next.next"
   ]
  },
  {
   "cell_type": "code",
   "execution_count": 130,
   "metadata": {},
   "outputs": [
    {
     "name": "stdout",
     "output_type": "stream",
     "text": "11 21 31 32 41 51 \n11 21 31 41 51"
    }
   ],
   "source": [
    "a = Node(11)\n",
    "b = Node(21)\n",
    "c = Node(31)\n",
    "d = Node(32)\n",
    "e = Node(41)\n",
    "f = Node(51)\n",
    "\n",
    "linkedList2 = LinkedList()\n",
    "\n",
    "linkedList2.head = a\n",
    "a.next = b\n",
    "b.next = c\n",
    "c.next = d\n",
    "d.next = e\n",
    "e.next = f\n",
    "\n",
    "linkedList2.display()\n",
    "removeNode(d)\n",
    "print()\n",
    "linkedList2.display()"
   ]
  },
  {
   "cell_type": "markdown",
   "metadata": {},
   "source": [
    "Problem Statement:\n",
    "* Given a singly linked list, the task is to segregate or separate the even and odd nodes of the linked list."
   ]
  },
  {
   "cell_type": "code",
   "execution_count": 131,
   "metadata": {},
   "outputs": [],
   "source": [
    "def segEvenOdd(head):\n",
    "    evens = evenHead = None\n",
    "    odds = oddHead = None\n",
    "    while(head):\n",
    "        if head.data%2==0:\n",
    "            if not evenHead:\n",
    "                evenHead = head\n",
    "                evens = head\n",
    "            else:\n",
    "                evens.next = head\n",
    "                evens = evens.next\n",
    "\n",
    "        else:\n",
    "            if not oddHead:\n",
    "                oddHead = head\n",
    "                odds = head\n",
    "            else:\n",
    "                odds.next = head\n",
    "                odds = odds.next\n",
    "        head = head.next\n",
    "    evens.next = oddHead\n",
    "    odds.next = None\n",
    "    return evenHead"
   ]
  },
  {
   "cell_type": "code",
   "execution_count": 132,
   "metadata": {},
   "outputs": [
    {
     "name": "stdout",
     "output_type": "stream",
     "text": "6 7 8 3 4 5 1 2 \n6 8 4 2 7 3 5 1"
    }
   ],
   "source": [
    "linkedList1.display()\n",
    "print()\n",
    "linkedList1.head = segEvenOdd(linkedList1.head)\n",
    "linkedList1.display()"
   ]
  },
  {
   "cell_type": "code",
   "execution_count": null,
   "metadata": {},
   "outputs": [],
   "source": []
  }
 ],
 "metadata": {
  "kernelspec": {
   "display_name": "Python 3",
   "language": "python",
   "name": "python3"
  },
  "language_info": {
   "codemirror_mode": {
    "name": "ipython",
    "version": 3
   },
   "file_extension": ".py",
   "mimetype": "text/x-python",
   "name": "python",
   "nbconvert_exporter": "python",
   "pygments_lexer": "ipython3",
   "version": "3.6.5-final"
  }
 },
 "nbformat": 4,
 "nbformat_minor": 2
}