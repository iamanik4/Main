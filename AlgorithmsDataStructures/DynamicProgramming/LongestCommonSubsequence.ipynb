{
 "cells": [
  {
   "cell_type": "markdown",
   "metadata": {},
   "source": [
    "### Problem Statement\n",
    "Given to strings, S1 and S2, and their lengths, l1 and l2,find the Longest Common Sequence which occurs between them"
   ]
  },
  {
   "cell_type": "code",
   "execution_count": 23,
   "metadata": {},
   "outputs": [],
   "source": [
    "#Using recursion\n",
    "def longestCommSub(S1,S2,l1,l2):\n",
    "    if l1==0 or l2==0:\n",
    "        return 0\n",
    "    if S1[l1-1]==S2[l2-1]:\n",
    "        return 1+longestCommSub(S1,S2,l1-1,l2-1)\n",
    "    else:\n",
    "        return max(longestCommSub(S1,S2,l1,l2-1),longestCommSub(S1,S2,l1-1,l2))"
   ]
  },
  {
   "cell_type": "code",
   "execution_count": 30,
   "metadata": {},
   "outputs": [
    {
     "data": {
      "text/plain": [
       "[384.69321630000013]"
      ]
     },
     "execution_count": 30,
     "metadata": {},
     "output_type": "execute_result"
    }
   ],
   "source": [
    "import timeit\n",
    "setup = 'from __main__ import longestCommSub'\n",
    "stmt = '''\n",
    "S1 = 'abcdefghijklmnopqrstuvwxyz'\n",
    "S2 = 'bdfhjbcdefh'\n",
    "longestCommSub(S1,S2,len(S1),len(S2))\n",
    "'''\n",
    "timeit.repeat(setup=setup,stmt=stmt,repeat=1,number=1)"
   ]
  },
  {
   "cell_type": "code",
   "execution_count": 24,
   "metadata": {},
   "outputs": [
    {
     "data": {
      "text/plain": [
       "6"
      ]
     },
     "execution_count": 24,
     "metadata": {},
     "output_type": "execute_result"
    }
   ],
   "source": [
    "S1 = 'abcdefghijklmnopqrstuvwxyz'\n",
    "S2 = 'bdfhjbcdefh'\n",
    "longestCommSub(S1,S2,len(S1),len(S2))"
   ]
  },
  {
   "cell_type": "code",
   "execution_count": 31,
   "metadata": {},
   "outputs": [],
   "source": [
    "#Using memoization\n",
    "def longestCommSub_memo(S1,S2,l1,l2,dp):\n",
    "    if l1==0 or l2==0:\n",
    "        return 0\n",
    "    if dp[l1-1][l2-1]!=-1:\n",
    "        return dp[l1-1][l2-1]\n",
    "    if S1[l1-1]==S2[l2-1]:\n",
    "        dp[l1-1][l2-1] = 1+longestCommSub_memo(S1,S2,l1-1,l2-1,dp)\n",
    "    else:\n",
    "        dp[l1-1][l2-1] = max(longestCommSub_memo(S1,S2,l1,l2-1,dp),longestCommSub_memo(S1,S2,l1-1,l2,dp))\n",
    "    return dp[l1-1][l2-1]"
   ]
  },
  {
   "cell_type": "code",
   "execution_count": 32,
   "metadata": {},
   "outputs": [
    {
     "data": {
      "text/plain": [
       "[0.00022030000002359884]"
      ]
     },
     "execution_count": 32,
     "metadata": {},
     "output_type": "execute_result"
    }
   ],
   "source": [
    "import timeit\n",
    "setup = 'from __main__ import longestCommSub_memo'\n",
    "stmt = '''\n",
    "S1 = 'abcdefghijklmnopqrstuvwxyz'\n",
    "S2 = 'bdfhjbcdefh'\n",
    "dp = [[-1 for i in range(len(S2))]for i in range(len(S1))]\n",
    "longestCommSub_memo(S1,S2,len(S1),len(S2),dp)\n",
    "'''\n",
    "timeit.repeat(setup=setup,stmt=stmt,repeat=1,number=1)"
   ]
  },
  {
   "cell_type": "code",
   "execution_count": 33,
   "metadata": {},
   "outputs": [
    {
     "data": {
      "text/plain": [
       "6"
      ]
     },
     "execution_count": 33,
     "metadata": {},
     "output_type": "execute_result"
    }
   ],
   "source": [
    "S1 = 'abcdefghijklmnopqrstuvwxyz'\n",
    "S2 = 'bdfhjbcdefh'\n",
    "dp = [[-1 for i in range(len(S2))]for i in range(len(S1))]\n",
    "longestCommSub_memo(S1,S2,len(S1),len(S2),dp)"
   ]
  },
  {
   "cell_type": "code",
   "execution_count": 28,
   "metadata": {},
   "outputs": [],
   "source": [
    "#using memoization with a global variable\n",
    "def longestCommSubMemo(S1,S2,l1,l2):\n",
    "    global dp\n",
    "    if l1==0 or l2==0:\n",
    "        return 0\n",
    "    if dp[l1-1][l2-1]!=-1:\n",
    "        return dp[l1-1][l2-1]\n",
    "    if S1[l1-1]==S2[l2-1]:\n",
    "        dp[l1-1][l2-1] = 1+longestCommSubMemo(S1,S2,l1-1,l2-1)\n",
    "    else:\n",
    "        dp[l1-1][l2-1] = max(longestCommSubMemo(S1,S2,l1,l2-1),longestCommSubMemo(S1,S2,l1-1,l2))\n",
    "    return dp[l1-1][l2-1]"
   ]
  },
  {
   "cell_type": "code",
   "execution_count": 29,
   "metadata": {},
   "outputs": [
    {
     "data": {
      "text/plain": [
       "[0.0002127999999856911]"
      ]
     },
     "execution_count": 29,
     "metadata": {},
     "output_type": "execute_result"
    }
   ],
   "source": [
    "import timeit\n",
    "setup = '''from __main__ import longestCommSubMemo'''\n",
    "stmt = '''\n",
    "S1 = 'abcdefghijklmnopqrstuvwxyz'\n",
    "S2 = 'bdfhjbcdefh'\n",
    "longestCommSubMemo(S1,S2,len(S1),len(S2))\n",
    "'''\n",
    "dp = [[-1 for i in range(len(S2))]for i in range(len(S1))]\n",
    "timeit.repeat(setup=setup,stmt=stmt,repeat=1,number=1)"
   ]
  },
  {
   "cell_type": "code",
   "execution_count": 30,
   "metadata": {},
   "outputs": [
    {
     "data": {
      "text/plain": [
       "6"
      ]
     },
     "execution_count": 30,
     "metadata": {},
     "output_type": "execute_result"
    }
   ],
   "source": [
    "S1 = 'abcdefghijklmnopqrstuvwxyz'\n",
    "S2 = 'bdfhjbcdefh'\n",
    "dp = [[-1 for i in range(len(S2))]for i in range(len(S1))]\n",
    "longestCommSubMemo(S1,S2,len(S1),len(S2))"
   ]
  },
  {
   "cell_type": "code",
   "execution_count": 34,
   "metadata": {},
   "outputs": [],
   "source": [
    "#Using tabulation\n",
    "def longestCommSubTabu(S1,S2):\n",
    "    l1,l2 = len(S1),len(S2)\n",
    "    dp = [[0 for i in range(l2+1)]for i in range(l1+1)]\n",
    "    for i in range(1,l1+1):\n",
    "        for j in range(1,l2+1):\n",
    "            if S1[i-1]==S2[j-1]:\n",
    "                dp[i][j] = 1+dp[i-1][j-1]\n",
    "            else:\n",
    "                dp[i][j] = max(dp[i-1][j],dp[i][j-1])\n",
    "    return dp[-1][-1]"
   ]
  },
  {
   "cell_type": "code",
   "execution_count": 36,
   "metadata": {},
   "outputs": [
    {
     "data": {
      "text/plain": [
       "[0.00012949999995726102]"
      ]
     },
     "execution_count": 36,
     "metadata": {},
     "output_type": "execute_result"
    }
   ],
   "source": [
    "import timeit\n",
    "setup = 'from __main__ import longestCommSubTabu'\n",
    "stmt = '''\n",
    "S1 = 'abcdefghijklmnopqrstuvwxyz'\n",
    "S2 = 'bdfhjbcdefh'\n",
    "dp = [[-1 for i in range(len(S2))]for i in range(len(S1))]\n",
    "longestCommSubTabu(S1,S2)\n",
    "'''\n",
    "timeit.repeat(setup=setup,stmt=stmt,repeat=1,number=1)"
   ]
  },
  {
   "cell_type": "code",
   "execution_count": 38,
   "metadata": {},
   "outputs": [
    {
     "data": {
      "text/plain": [
       "6"
      ]
     },
     "execution_count": 38,
     "metadata": {},
     "output_type": "execute_result"
    }
   ],
   "source": [
    "S1 = 'abcdefghijklmnopqrstuvwxyz'\n",
    "S2 = 'bdfhjbcdefh'\n",
    "longestCommSubTabu(S1,S2)"
   ]
  },
  {
   "cell_type": "code",
   "execution_count": null,
   "metadata": {},
   "outputs": [],
   "source": []
  }
 ],
 "metadata": {
  "kernelspec": {
   "display_name": "Python 3",
   "language": "python",
   "name": "python3"
  },
  "language_info": {
   "codemirror_mode": {
    "name": "ipython",
    "version": 3
   },
   "file_extension": ".py",
   "mimetype": "text/x-python",
   "name": "python",
   "nbconvert_exporter": "python",
   "pygments_lexer": "ipython3",
   "version": "3.6.4"
  }
 },
 "nbformat": 4,
 "nbformat_minor": 2
}
