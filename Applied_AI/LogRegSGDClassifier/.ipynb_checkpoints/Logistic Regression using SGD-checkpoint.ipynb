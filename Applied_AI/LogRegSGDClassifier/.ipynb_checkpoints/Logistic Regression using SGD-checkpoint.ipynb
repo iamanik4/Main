{
 "cells": [
  {
   "cell_type": "code",
   "execution_count": 50,
   "metadata": {
    "colab": {},
    "colab_type": "code",
    "id": "I2S-uFqwSvmg"
   },
   "outputs": [],
   "source": [
    "import numpy as np\n",
    "import pandas as pd\n",
    "from sklearn.datasets import make_classification"
   ]
  },
  {
   "cell_type": "code",
   "execution_count": 51,
   "metadata": {
    "colab": {},
    "colab_type": "code",
    "id": "FUxLkBjISvmr"
   },
   "outputs": [],
   "source": [
    "X, y = make_classification(n_samples=50000, n_features=15, n_informative=10, n_redundant=5,\n",
    "                           n_classes=2, weights=[0.7], class_sep=0.7, random_state=15)"
   ]
  },
  {
   "cell_type": "code",
   "execution_count": 52,
   "metadata": {
    "colab": {},
    "colab_type": "code",
    "id": "xexp5GYNSvmz",
    "outputId": "48e3356f-3756-4945-f6b7-f643b59063b4"
   },
   "outputs": [
    {
     "data": {
      "text/plain": [
       "((50000, 15), (50000,))"
      ]
     },
     "execution_count": 52,
     "metadata": {},
     "output_type": "execute_result"
    }
   ],
   "source": [
    "X.shape, y.shape"
   ]
  },
  {
   "cell_type": "markdown",
   "metadata": {
    "colab_type": "text",
    "id": "54vJVc_KSvm9"
   },
   "source": [
    " "
   ]
  },
  {
   "cell_type": "code",
   "execution_count": 53,
   "metadata": {
    "colab": {},
    "colab_type": "code",
    "id": "9pKAn1-ASvm_"
   },
   "outputs": [],
   "source": [
    "from sklearn.model_selection import train_test_split"
   ]
  },
  {
   "cell_type": "code",
   "execution_count": 54,
   "metadata": {
    "colab": {},
    "colab_type": "code",
    "id": "r97pFTgrSvnE"
   },
   "outputs": [],
   "source": [
    "X_train, X_test, y_train, y_test = train_test_split(X, y, test_size=0.25, random_state=15)"
   ]
  },
  {
   "cell_type": "code",
   "execution_count": 55,
   "metadata": {
    "colab": {},
    "colab_type": "code",
    "id": "jykLIXZNSvnJ",
    "outputId": "2e462e5f-1546-4edf-bcc8-e7a42f9057d7"
   },
   "outputs": [
    {
     "data": {
      "text/plain": [
       "((37500, 15), (37500,), (12500, 15), (12500,))"
      ]
     },
     "execution_count": 55,
     "metadata": {},
     "output_type": "execute_result"
    }
   ],
   "source": [
    "X_train.shape, y_train.shape, X_test.shape, y_test.shape"
   ]
  },
  {
   "cell_type": "markdown",
   "metadata": {
    "colab_type": "text",
    "id": "g0-M6oXASvnO"
   },
   "source": [
    " "
   ]
  },
  {
   "cell_type": "code",
   "execution_count": 56,
   "metadata": {
    "colab": {},
    "colab_type": "code",
    "id": "sShoMeocSvnP"
   },
   "outputs": [],
   "source": [
    "from sklearn import linear_model"
   ]
  },
  {
   "cell_type": "code",
   "execution_count": 57,
   "metadata": {
    "colab": {},
    "colab_type": "code",
    "id": "gm6wi8L2SvnU",
    "outputId": "dccc42b5-e1eb-4e2f-9fa2-07f405d4f761"
   },
   "outputs": [
    {
     "data": {
      "text/plain": [
       "SGDClassifier(alpha=0.0001, average=False, class_weight=None,\n",
       "              early_stopping=False, epsilon=0.1, eta0=0.0001,\n",
       "              fit_intercept=True, l1_ratio=0.15, learning_rate='constant',\n",
       "              loss='log', max_iter=1000, n_iter_no_change=5, n_jobs=None,\n",
       "              penalty='l2', power_t=0.5, random_state=15, shuffle=True,\n",
       "              tol=0.001, validation_fraction=0.1, verbose=2, warm_start=False)"
      ]
     },
     "execution_count": 57,
     "metadata": {},
     "output_type": "execute_result"
    }
   ],
   "source": [
    "# alpha : float\n",
    "# Constant that multiplies the regularization term. \n",
    "\n",
    "# eta0 : double\n",
    "# The initial learning rate for the ‘constant’, ‘invscaling’ or ‘adaptive’ schedules.\n",
    "\n",
    "clf = linear_model.SGDClassifier(eta0=0.0001, alpha=0.0001, loss='log', random_state=15, penalty='l2', tol=1e-3, verbose=2, learning_rate='constant')\n",
    "clf"
   ]
  },
  {
   "cell_type": "code",
   "execution_count": 58,
   "metadata": {
    "colab": {},
    "colab_type": "code",
    "id": "Q4WFoxgASvnc",
    "outputId": "469de818-0a3e-42e8-bc19-ac6d088b9617"
   },
   "outputs": [
    {
     "name": "stdout",
     "output_type": "stream",
     "text": [
      "-- Epoch 1\n",
      "Norm: 0.77, NNZs: 15, Bias: -0.316653, T: 37500, Avg. loss: 0.455552\n",
      "Total training time: 0.01 seconds.\n",
      "-- Epoch 2\n",
      "Norm: 0.91, NNZs: 15, Bias: -0.472747, T: 75000, Avg. loss: 0.394686\n",
      "Total training time: 0.02 seconds.\n",
      "-- Epoch 3\n",
      "Norm: 0.98, NNZs: 15, Bias: -0.580082, T: 112500, Avg. loss: 0.385711\n",
      "Total training time: 0.03 seconds.\n",
      "-- Epoch 4\n",
      "Norm: 1.02, NNZs: 15, Bias: -0.658292, T: 150000, Avg. loss: 0.382083\n",
      "Total training time: 0.03 seconds.\n",
      "-- Epoch 5\n",
      "Norm: 1.04, NNZs: 15, Bias: -0.719528, T: 187500, Avg. loss: 0.380486\n",
      "Total training time: 0.05 seconds.\n",
      "-- Epoch 6\n",
      "Norm: 1.05, NNZs: 15, Bias: -0.763409, T: 225000, Avg. loss: 0.379578\n",
      "Total training time: 0.05 seconds.\n",
      "-- Epoch 7\n",
      "Norm: 1.06, NNZs: 15, Bias: -0.795106, T: 262500, Avg. loss: 0.379150\n",
      "Total training time: 0.06 seconds.\n",
      "-- Epoch 8\n",
      "Norm: 1.06, NNZs: 15, Bias: -0.819925, T: 300000, Avg. loss: 0.378856\n",
      "Total training time: 0.07 seconds.\n",
      "-- Epoch 9\n",
      "Norm: 1.07, NNZs: 15, Bias: -0.837805, T: 337500, Avg. loss: 0.378585\n",
      "Total training time: 0.08 seconds.\n",
      "-- Epoch 10\n",
      "Norm: 1.08, NNZs: 15, Bias: -0.853138, T: 375000, Avg. loss: 0.378630\n",
      "Total training time: 0.09 seconds.\n",
      "Convergence after 10 epochs took 0.09 seconds\n"
     ]
    },
    {
     "data": {
      "text/plain": [
       "SGDClassifier(alpha=0.0001, average=False, class_weight=None,\n",
       "              early_stopping=False, epsilon=0.1, eta0=0.0001,\n",
       "              fit_intercept=True, l1_ratio=0.15, learning_rate='constant',\n",
       "              loss='log', max_iter=1000, n_iter_no_change=5, n_jobs=None,\n",
       "              penalty='l2', power_t=0.5, random_state=15, shuffle=True,\n",
       "              tol=0.001, validation_fraction=0.1, verbose=2, warm_start=False)"
      ]
     },
     "execution_count": 58,
     "metadata": {},
     "output_type": "execute_result"
    }
   ],
   "source": [
    "clf.fit(X=X_train, y=y_train)"
   ]
  },
  {
   "cell_type": "code",
   "execution_count": 59,
   "metadata": {
    "colab": {},
    "colab_type": "code",
    "id": "7WaVxhGpSvnj",
    "outputId": "1e67badc-96e7-4633-eb72-1d4c24aaa295"
   },
   "outputs": [
    {
     "data": {
      "text/plain": [
       "(array([[-0.42336692,  0.18547565, -0.14859036,  0.34144407, -0.2081867 ,\n",
       "          0.56016579, -0.45242483, -0.09408813,  0.2092732 ,  0.18084126,\n",
       "          0.19705191,  0.00421916, -0.0796037 ,  0.33852802,  0.02266721]]),\n",
       " (1, 15),\n",
       " array([-0.8531383]))"
      ]
     },
     "execution_count": 59,
     "metadata": {},
     "output_type": "execute_result"
    }
   ],
   "source": [
    "clf.coef_, clf.coef_.shape, clf.intercept_"
   ]
  },
  {
   "cell_type": "code",
   "execution_count": 60,
   "metadata": {},
   "outputs": [
    {
     "data": {
      "text/plain": [
       "0.83336"
      ]
     },
     "execution_count": 60,
     "metadata": {},
     "output_type": "execute_result"
    }
   ],
   "source": [
    "from sklearn.metrics import accuracy_score\n",
    "y_pred = clf.predict(X_test)\n",
    "accuracy_score(y_test, y_pred)"
   ]
  },
  {
   "cell_type": "markdown",
   "metadata": {
    "colab_type": "text",
    "id": "Su9e8fRLSvno"
   },
   "source": [
    " "
   ]
  },
  {
   "cell_type": "markdown",
   "metadata": {
    "colab_type": "text",
    "id": "gcz5_UqCSvnq"
   },
   "source": [
    " "
   ]
  },
  {
   "cell_type": "markdown",
   "metadata": {
    "colab_type": "text",
    "id": "UOBvEchCSvnr"
   },
   "source": [
    "## Implement Logistc Regression with L2 regularization Using SGD: without using sklearn"
   ]
  },
  {
   "cell_type": "markdown",
   "metadata": {
    "colab_type": "text",
    "id": "Xbn61rrXSvnt"
   },
   "source": [
    "### Instructions"
   ]
  },
  {
   "cell_type": "markdown",
   "metadata": {
    "colab_type": "text",
    "id": "14bA5yR3Svnv"
   },
   "source": [
    "- Load the datasets(train and test) into the respective arrays"
   ]
  },
  {
   "cell_type": "markdown",
   "metadata": {
    "colab_type": "text",
    "id": "c7183hFBSvnv"
   },
   "source": [
    "- Initialize the weight_vector and intercept term randomly"
   ]
  },
  {
   "cell_type": "markdown",
   "metadata": {
    "colab_type": "text",
    "id": "hdLeFU0USvnx"
   },
   "source": [
    "- Calculate the initlal log loss for the train and test data with the current weight and intercept and store it in a list"
   ]
  },
  {
   "cell_type": "markdown",
   "metadata": {
    "colab_type": "text",
    "id": "pEVtAlO1Svny"
   },
   "source": [
    "- for each epoch:\n",
    "    - for each batch of data points in train: (keep batch size=1)\n",
    "        - calculate the gradient of loss function w.r.t each weight in weight vector\n",
    "        - Calculate the gradient of the intercept <a href='https://drive.google.com/file/d/1nQ08-XY4zvOLzRX-lGf8EYB5arb7-m1H/view?usp=sharing'>check this</a>\n",
    "        - Update weights and intercept (check the equation number 32 in the above mentioned <a href='https://drive.google.com/file/d/1nQ08-XY4zvOLzRX-lGf8EYB5arb7-m1H/view?usp=sharing'>pdf</a>): <br>\n",
    "        $w^{(t+1)} ← (1 − \\frac{αλ}{N} )w^{(t)} + αx_n(y_n − σ((w^{(t)})^{T} x_n+b^{t}))$ <br>\n",
    "        $b^{(t+1)} ← (b^t +  α(y_n - σ((w^{(t)})^{T} x_n+b^{t}))$ \n",
    "        - calculate the log loss for train and test with the updated weights (you can check the python assignment 10th question)\n",
    "        - And if you wish, you can compare the previous loss and the current loss, if it is not updating, then\n",
    "        you can stop the training\n",
    "        - append this loss in the list ( this will be used to see how loss is changing for each epoch after the training is over )\n"
   ]
  },
  {
   "cell_type": "markdown",
   "metadata": {
    "colab_type": "text",
    "id": "2qmRH4UpSvny"
   },
   "source": [
    "- Plot the train and test loss i.e on x-axis the epoch number, and on y-axis the loss"
   ]
  },
  {
   "cell_type": "markdown",
   "metadata": {
    "colab_type": "text",
    "id": "lbZf9p5gSvn1"
   },
   "source": [
    "- <strong>GOAL</strong>: compare your implementation and SGDClassifier's the weights and intercept, make sure they are as close as possible i.e difference should be in terms of 10^-3"
   ]
  },
  {
   "cell_type": "code",
   "execution_count": 61,
   "metadata": {
    "colab": {},
    "colab_type": "code",
    "id": "B6Y5kVscSvn5"
   },
   "outputs": [],
   "source": [
    "# write your code to implement SGD as per the above instructions\n",
    "# please choose the number of iternations on your own\n",
    "import numpy as np\n",
    "def sigmoid(w,x_train,b):\n",
    "    return 1/(1+np.exp(-(w@x_train+b)))"
   ]
  },
  {
   "cell_type": "code",
   "execution_count": 62,
   "metadata": {},
   "outputs": [],
   "source": [
    "def update_weights(X,y,w,b,lamda,alpha,N):\n",
    "    w_new = (1-alpha*lamda/N)*w + alpha*X*(y-sigmoid(w.T,X,b))\n",
    "    b_new = b + alpha*(y-sigmoid(w.T,X,b))\n",
    "    return w_new,b_new"
   ]
  },
  {
   "cell_type": "code",
   "execution_count": 63,
   "metadata": {},
   "outputs": [],
   "source": [
    "import math # you can free to change all these codes/structure\n",
    "def compute_log_loss(A,n):# your code\n",
    "    loss=0\n",
    "    for Y in A:\n",
    "        loss += Y[0]*math.log10(Y[1])+(1-Y[0])*math.log10(1-Y[1]) \n",
    "    loss = -loss/n\n",
    "    return loss"
   ]
  },
  {
   "cell_type": "code",
   "execution_count": 64,
   "metadata": {},
   "outputs": [],
   "source": [
    "def get_weights(iter_ind,data,op):\n",
    "    N = len(X_train)\n",
    "    w = np.zeros_like(X_train[0])\n",
    "    b = 0\n",
    "    lamda  = 0.0001\n",
    "    alpha = 0.0001\n",
    "    for j in range(15):\n",
    "        for ind in iter_ind:\n",
    "            X_sample = X[ind]\n",
    "            y_sample = y[ind]\n",
    "            w, b = update_weights(X_sample,y_sample,w,b,lamda,alpha,N)\n",
    "        \n",
    "        y_pred = [sigmoid(w.T,X,b) for X in data]\n",
    "        loss = compute_log_loss(zip(op,y_pred),len(op))\n",
    "        print('\\tIteration {} Loss: {}'.format(j,loss))  \n",
    "    \n",
    "    return w,b"
   ]
  },
  {
   "cell_type": "code",
   "execution_count": 65,
   "metadata": {},
   "outputs": [],
   "source": [
    "def pred_class(w,b, X):\n",
    "    N = len(X)\n",
    "    predict = []\n",
    "    for i in range(N):\n",
    "        if sigmoid(w,X[i],b) >= 0.5: # sigmoid(w,x,b) returns 1/(1+exp(-(dot(x,w)+b)))\n",
    "            predict.append(1)\n",
    "        else:\n",
    "            predict.append(0)\n",
    "    return np.array(predict)"
   ]
  },
  {
   "cell_type": "code",
   "execution_count": 66,
   "metadata": {},
   "outputs": [
    {
     "name": "stdout",
     "output_type": "stream",
     "text": [
      "Using 100 input points\n",
      "=========================\n",
      "\tIteration 0 Loss: 0.2980001794338907\n",
      "\tIteration 1 Loss: 0.29512183389443475\n",
      "\tIteration 2 Loss: 0.2923846908915767\n",
      "\tIteration 3 Loss: 0.2897792089915234\n",
      "\tIteration 4 Loss: 0.287296535321347\n",
      "\tIteration 5 Loss: 0.2849284656434659\n",
      "\tIteration 6 Loss: 0.2826674037660519\n",
      "\tIteration 7 Loss: 0.2805063211561269\n",
      "\tIteration 8 Loss: 0.27843871741654996\n",
      "\tIteration 9 Loss: 0.2764585821133676\n",
      "\tIteration 10 Loss: 0.27456035829457076\n",
      "\tIteration 11 Loss: 0.27273890792313366\n",
      "\tIteration 12 Loss: 0.27098947935302103\n",
      "\tIteration 13 Loss: 0.2693076769034951\n",
      "\tIteration 14 Loss: 0.26768943253128225\n",
      "=========================\n",
      "Coefficients: [-0.0525483   0.01494553  0.00976269  0.0245089   0.00137416  0.04246955\n",
      " -0.05690488 -0.013712    0.0348479   0.01865482  0.02853083  0.00505812\n",
      "  0.02059485  0.01411154  0.02348184]\n",
      "=========================\n",
      "Intercept: -0.01957953152103627\n",
      "=========================\n",
      "Accuracy Score: 0.77408\n",
      "----------------------------------------------------------------------------------------------------\n",
      "Using 350 input points\n",
      "=========================\n",
      "\tIteration 0 Loss: 0.2897081030991551\n",
      "\tIteration 1 Loss: 0.28075298875751364\n",
      "\tIteration 2 Loss: 0.27336007719404615\n",
      "\tIteration 3 Loss: 0.26706173283419526\n",
      "\tIteration 4 Loss: 0.2615749798061595\n",
      "\tIteration 5 Loss: 0.25671907605033595\n",
      "\tIteration 6 Loss: 0.2523717996502047\n",
      "\tIteration 7 Loss: 0.248445984572512\n",
      "\tIteration 8 Loss: 0.2448765624349772\n",
      "\tIteration 9 Loss: 0.24161313023537972\n",
      "\tIteration 10 Loss: 0.23861549795998485\n",
      "\tIteration 11 Loss: 0.23585089515386876\n",
      "\tIteration 12 Loss: 0.23329213570554824\n",
      "\tIteration 13 Loss: 0.23091635879199934\n",
      "\tIteration 14 Loss: 0.22870413105119253\n",
      "=========================\n",
      "Coefficients: [-0.12612064  0.0115175   0.0239269   0.0523508   0.01284209  0.14253099\n",
      " -0.14327878 -0.04176958  0.06483822 -0.00220611  0.00674725  0.00323565\n",
      "  0.04714308  0.08415544  0.03330826]\n",
      "=========================\n",
      "Intercept: -0.06883318001316313\n",
      "=========================\n",
      "Accuracy Score: 0.7944\n",
      "----------------------------------------------------------------------------------------------------\n",
      "Using 600 input points\n",
      "=========================\n",
      "\tIteration 0 Loss: 0.2832952947098739\n",
      "\tIteration 1 Loss: 0.2704626925834042\n",
      "\tIteration 2 Loss: 0.26024135047583086\n",
      "\tIteration 3 Loss: 0.25175038193424104\n",
      "\tIteration 4 Loss: 0.24455176110408866\n",
      "\tIteration 5 Loss: 0.2383727173776582\n",
      "\tIteration 6 Loss: 0.23301916036878415\n",
      "\tIteration 7 Loss: 0.2283438531956479\n",
      "\tIteration 8 Loss: 0.22423170743054127\n",
      "\tIteration 9 Loss: 0.22059130564162924\n",
      "\tIteration 10 Loss: 0.2173492391129606\n",
      "\tIteration 11 Loss: 0.21444603119611635\n",
      "\tIteration 12 Loss: 0.21183309947806353\n",
      "\tIteration 13 Loss: 0.2094704536853201\n",
      "\tIteration 14 Loss: 0.2073249333091825\n",
      "=========================\n",
      "Coefficients: [-0.14102739  0.03684536  0.00423423  0.10987917  0.04838806  0.19704551\n",
      " -0.23243115 -0.04645666  0.06313093 -0.00586979  0.01506519  0.0146491\n",
      "  0.02880811  0.14432735  0.01793374]\n",
      "=========================\n",
      "Intercept: -0.14389963636805186\n",
      "=========================\n",
      "Accuracy Score: 0.816\n",
      "----------------------------------------------------------------------------------------------------\n",
      "Using 850 input points\n",
      "=========================\n",
      "\tIteration 0 Loss: 0.2772970879208336\n",
      "\tIteration 1 Loss: 0.2617162976153933\n",
      "\tIteration 2 Loss: 0.2502264995175805\n",
      "\tIteration 3 Loss: 0.2412434037416509\n",
      "\tIteration 4 Loss: 0.23397214227138904\n",
      "\tIteration 5 Loss: 0.2279452269009435\n",
      "\tIteration 6 Loss: 0.2228613187250819\n",
      "\tIteration 7 Loss: 0.21851426454051304\n",
      "\tIteration 8 Loss: 0.21475667481722244\n",
      "\tIteration 9 Loss: 0.21147943307115774\n",
      "\tIteration 10 Loss: 0.2085994486481409\n",
      "\tIteration 11 Loss: 0.20605198510650843\n",
      "\tIteration 12 Loss: 0.20378565706817398\n",
      "\tIteration 13 Loss: 0.20175904810413056\n",
      "\tIteration 14 Loss: 0.199938350276874\n",
      "=========================\n",
      "Coefficients: [-0.13422289  0.09727569  0.03537767  0.17290434  0.02246224  0.22463579\n",
      " -0.2613068  -0.0892552   0.1093287   0.00749057  0.08521037  0.01500513\n",
      "  0.03622388  0.17385598  0.04307462]\n",
      "=========================\n",
      "Intercept: -0.13905190320227448\n",
      "=========================\n",
      "Accuracy Score: 0.81096\n",
      "----------------------------------------------------------------------------------------------------\n"
     ]
    }
   ],
   "source": [
    "import random\n",
    "random.seed(42)\n",
    "from sklearn.metrics import accuracy_score\n",
    "\n",
    "for i in [100,350,600,850]:\n",
    "    iter_ind = random.sample(range(0,len(X_train)),i)\n",
    "    print(\"Using {} input points\".format(i))\n",
    "    print('='*25)\n",
    "    w,b = get_weights(iter_ind,X_test,y_test)\n",
    "    print('='*25)\n",
    "    print('Coefficients: {}'.format(w))\n",
    "    print('='*25)\n",
    "    print('Intercept: {}'.format(b))\n",
    "    print('='*25)\n",
    "    y_pred_class = pred_class(w,b,X_test)\n",
    "    print('Accuracy Score: {}'.format(accuracy_score(y_test,y_pred_class)))\n",
    "    print('-'*100)    "
   ]
  },
  {
   "cell_type": "code",
   "execution_count": 67,
   "metadata": {},
   "outputs": [],
   "source": [
    "def loss_iters(iter_ind,data,op):\n",
    "    iterations = [0,1,2,3,4,5,6,7,8,9,10,11,12,13,14]\n",
    "    losses = []\n",
    "    N = len(X_train)\n",
    "    w = np.zeros_like(X_train[0])\n",
    "    b = 0\n",
    "    lamda  = 0.0001\n",
    "    alpha = 0.0001\n",
    "    for j in iterations:\n",
    "        for ind in iter_ind:\n",
    "            X_sample = X[ind]\n",
    "            y_sample = y[ind]\n",
    "            w, b = update_weights(X_sample,y_sample,w,b,lamda,alpha,N)\n",
    "        \n",
    "        y_pred = [sigmoid(w.T,X,b) for X in data]\n",
    "        losses.append(compute_log_loss(zip(op,y_pred),len(op)))\n",
    "    \n",
    "    return iterations,losses"
   ]
  },
  {
   "cell_type": "code",
   "execution_count": 68,
   "metadata": {},
   "outputs": [
    {
     "name": "stdout",
     "output_type": "stream",
     "text": [
      "\tIteration 0 Loss: 0.2832603978111956\n",
      "\tIteration 1 Loss: 0.27106273900895805\n",
      "\tIteration 2 Loss: 0.2615761296526396\n",
      "\tIteration 3 Loss: 0.25376139945497833\n",
      "\tIteration 4 Loss: 0.2471439152222933\n",
      "\tIteration 5 Loss: 0.24145088578991508\n",
      "\tIteration 6 Loss: 0.2364985159382703\n",
      "\tIteration 7 Loss: 0.23215172133981465\n",
      "\tIteration 8 Loss: 0.2283067551297265\n",
      "\tIteration 9 Loss: 0.22488202643766353\n",
      "\tIteration 10 Loss: 0.22181239941455688\n",
      "\tIteration 11 Loss: 0.2190452850569199\n",
      "\tIteration 12 Loss: 0.21653781623477503\n",
      "\tIteration 13 Loss: 0.21425474725263335\n",
      "\tIteration 14 Loss: 0.21216686572800242\n"
     ]
    }
   ],
   "source": [
    "most_eff_data_pts = 600\n",
    "iter_ind = random.sample(range(0,len(X_train)),most_eff_data_pts)\n",
    "w,b = get_weights(iter_ind,X_test,y_test)\n",
    "iterations, losses = loss_iters(iter_ind,X_test,y_test) "
   ]
  },
  {
   "cell_type": "code",
   "execution_count": 69,
   "metadata": {},
   "outputs": [
    {
     "data": {
      "image/png": "[encoded data removed]",
      "text/plain": [
       "<Figure size 432x288 with 1 Axes>"
      ]
     },
     "metadata": {
      "needs_background": "light"
     },
     "output_type": "display_data"
    }
   ],
   "source": [
    "import matplotlib.pyplot as plt\n",
    "plt.plot(iterations, losses)\n",
    "plt.xlabel('iterations')\n",
    "plt.ylabel('log-loss')\n",
    "plt.title('log-loss vs iterations for test data')\n",
    "plt.show()"
   ]
  },
  {
   "cell_type": "code",
   "execution_count": 70,
   "metadata": {},
   "outputs": [
    {
     "name": "stdout",
     "output_type": "stream",
     "text": [
      "\tIteration 0 Loss: 0.285400773691289\n",
      "\tIteration 1 Loss: 0.27311555021402145\n",
      "\tIteration 2 Loss: 0.2630727923536805\n",
      "\tIteration 3 Loss: 0.25466458243864387\n",
      "\tIteration 4 Loss: 0.24750943070000814\n",
      "\tIteration 5 Loss: 0.24134529022769682\n",
      "\tIteration 6 Loss: 0.23598160451087394\n",
      "\tIteration 7 Loss: 0.23127469590485672\n",
      "\tIteration 8 Loss: 0.22711352131744666\n",
      "\tIteration 9 Loss: 0.22341066445277027\n",
      "\tIteration 10 Loss: 0.22009628757705796\n",
      "\tIteration 11 Loss: 0.21711390239847006\n",
      "\tIteration 12 Loss: 0.21441732627224222\n",
      "\tIteration 13 Loss: 0.21196844277308563\n",
      "\tIteration 14 Loss: 0.20973552454094313\n"
     ]
    },
    {
     "data": {
      "image/png": "[encoded data removed]",
      "text/plain": [
       "<Figure size 432x288 with 1 Axes>"
      ]
     },
     "metadata": {
      "needs_background": "light"
     },
     "output_type": "display_data"
    }
   ],
   "source": [
    "most_eff_data_pts = 600\n",
    "iter_ind = random.sample(range(0,len(X_train)),most_eff_data_pts)\n",
    "w,b = get_weights(iter_ind,X_train,y_train)\n",
    "iterations, losses = loss_iters(iter_ind,X_train,y_train) \n",
    "\n",
    "plt.plot(iterations, losses)\n",
    "plt.xlabel('iterations')\n",
    "plt.ylabel('log-loss')\n",
    "plt.title('log-loss vs iterations for train data')\n",
    "plt.show()"
   ]
  },
  {
   "cell_type": "code",
   "execution_count": null,
   "metadata": {},
   "outputs": [],
   "source": []
  }
 ],
 "metadata": {
  "colab": {
   "collapsed_sections": [],
   "name": "Logistic Regression using SGD.ipynb",
   "provenance": []
  },
  "kernelspec": {
   "display_name": "Python 3",
   "language": "python",
   "name": "python3"
  },
  "language_info": {
   "codemirror_mode": {
    "name": "ipython",
    "version": 3
   },
   "file_extension": ".py",
   "mimetype": "text/x-python",
   "name": "python",
   "nbconvert_exporter": "python",
   "pygments_lexer": "ipython3",
   "version": "3.7.4"
  }
 },
 "nbformat": 4,
 "nbformat_minor": 1
}
