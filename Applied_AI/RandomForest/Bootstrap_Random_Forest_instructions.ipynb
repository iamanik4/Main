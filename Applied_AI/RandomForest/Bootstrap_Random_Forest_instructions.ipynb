{
 "cells": [
  {
   "cell_type": "markdown",
   "metadata": {
    "colab_type": "text",
    "id": "AjzGopb_YcKR"
   },
   "source": [
    "# Application of Bootstrap samples in Random Forest"
   ]
  },
  {
   "cell_type": "code",
   "execution_count": 79,
   "metadata": {
    "colab": {},
    "colab_type": "code",
    "id": "zZSCtDI6YcKT"
   },
   "outputs": [],
   "source": [
    "import numpy as np\n",
    "from sklearn.datasets import load_boston\n",
    "from sklearn.metrics import mean_squared_error"
   ]
  },
  {
   "cell_type": "markdown",
   "metadata": {
    "colab_type": "text",
    "id": "h2Y1Z1DoYcKZ"
   },
   "source": [
    " <li> Load the boston house dataset </li>"
   ]
  },
  {
   "cell_type": "code",
   "execution_count": 80,
   "metadata": {
    "colab": {},
    "colab_type": "code",
    "id": "wBWRNKCDYcKb"
   },
   "outputs": [],
   "source": [
    "boston = load_boston()\n",
    "x=boston.data #independent variables\n",
    "y=boston.target #target variable"
   ]
  },
  {
   "cell_type": "code",
   "execution_count": 81,
   "metadata": {
    "colab": {},
    "colab_type": "code",
    "id": "DTbK20-mWYHU",
    "outputId": "b473b251-a104-44df-f6c3-3427184c9042"
   },
   "outputs": [
    {
     "data": {
      "text/plain": [
       "(506, 13)"
      ]
     },
     "execution_count": 81,
     "metadata": {},
     "output_type": "execute_result"
    }
   ],
   "source": [
    "x.shape"
   ]
  },
  {
   "cell_type": "markdown",
   "metadata": {
    "colab_type": "text",
    "id": "JJ_FwP7xYcKg"
   },
   "source": [
    "### Task: 1\n",
    "<font color='red'><b>Step 1 Creating samples: </b></font> Randomly create 30 samples from the whole boston data points.\n",
    "<ol>\n",
    "<li>Creating each sample: Consider any random 303(60% of 506) data points from whole data set and then replicate any 203 points from the sampled points</li>\n",
    "<li>Ex: For better understanding of this procedure lets check this examples, assume we have 10 data points [1,2,3,4,5,6,7,8,9,10], first we take 6 data points randomly consider we have selected [4, 5, 7, 8, 9, 3] now we will replciate 4 points from [4, 5, 7, 8, 9, 3], consder they are [5, 8, 3,7] so our final sample will be [4, 5, 7, 8, 9, 3, 5, 8, 3,7]</li>\n",
    "<li> we create 30 samples like this </li>\n",
    "<li> Note that as a part of the Bagging when you are taking the random samples make sure each of the sample will have                different set of columns</li>\n",
    "<li> Ex: assume we have 10 columns for the first sample we will select [3, 4, 5, 9, 1, 2] and for the second sample [7, 9, 1, 4, 5, 6, 2] and so on...</li>\n",
    "<li> Make sure each sample will have atleast 3 feautres/columns/attributes</li>\n",
    "</ol>\n",
    "\n",
    "<font color='red'><b>Step 2 Building High Variance Models on each of the sample and finding train MSE value:</b></font> Build a DecisionTreeRegressor on each of the sample.\n",
    "<ol><li>Build a regression trees on each of 30 samples.</li>\n",
    "<li>computed the predicted values of each data point(506 data points) in your corpus.</li>\n",
    "<li> predicted house price of $i^{th}$ data point $y^{i}_{pred} =  \\frac{1}{30}\\sum_{k=1}^{30}(\\text{predicted value of } x^{i} \\text{ with } k^{th} \\text{ model})$.</li>\n",
    "<li>Now calculate the $MSE =  \\frac{1}{506}\\sum_{i=1}^{506}(y^{i} - y^{i}_{pred})^{2}$.</li>\n",
    "</ol>\n",
    "\n",
    "<font color='red'><b>Step 3 Calculating the OOB score :</b></font>\n",
    "<ol>\n",
    "<li>Computed the predicted values of each data point(506 data points) in your corpus.</li>\n",
    "<li>Predicted house price of $i^{th}$ data point $y^{i}_{pred} =  \\frac{1}{k}\\sum_{\\text{k= model which was buit on samples not included } x^{i}}(\\text{predicted value of } x^{i} \\text{ with } k^{th} \\text{ model})$.</li>\n",
    "<li>Now calculate the $OOB Score =  \\frac{1}{506}\\sum_{i=1}^{506}(y^{i} - y^{i}_{pred})^{2}$.</li>\n",
    "</ol>\n",
    "\n",
    "### Task: 2\n",
    "<pre>\n",
    "<font color='red'><b>Computing CI of OOB Score and Train MSE</b></font>\n",
    "<ol>\n",
    "<li> Repeat Task 1 for 35 times, and for each iteration store the Train MSE and OOB score </li>\n",
    "<li> After this we will have 35 Train MSE values and 35 OOB scores </li>\n",
    "<li> using these 35 values (assume like a sample) find the confidence intravels of MSE and OOB Score </li>\n",
    "<li> you need to report CI of MSE and CI of OOB Score </li>\n",
    "<li> Note: Refer the Central_Limit_theorem.ipynb to check how to find the confidence intravel</li>\n",
    "</ol>\n",
    "</pre>\n",
    "### Task: 3\n",
    "<pre>\n",
    "<font color='red'><b>Given a single query point predict the price of house.</b></font>\n",
    "\n",
    "<li>Consider xq= [0.18,20.0,5.00,0.0,0.421,5.60,72.2,7.95,7.0,30.0,19.1,372.13,18.60] Predict the house price for this point as mentioned in the step 2 of Task 1. </li>\n",
    "</pre>"
   ]
  },
  {
   "cell_type": "code",
   "execution_count": 82,
   "metadata": {
    "scrolled": true
   },
   "outputs": [
    {
     "name": "stdout",
     "output_type": "stream",
     "text": [
      "(506,)\n",
      "(277,)\n",
      "(11,)\n"
     ]
    }
   ],
   "source": [
    "import random \n",
    "\n",
    "row_indices_iob = []\n",
    "row_indices_oob = []\n",
    "col_indices     = []\n",
    "\n",
    "for i in range(30):\n",
    "    iob_indices = np.random.choice(range(506),303)\n",
    "    iob_indices = np.hstack([iob_indices,np.random.choice(iob_indices,size=203)])\n",
    "    col_index = np.array(random.sample(range(13),random.randint(3,13)))\n",
    "    row_indices_iob.append(iob_indices) \n",
    "    col_indices.append(col_index)\n",
    "    oob_indices = np.setdiff1d(range(506),iob_indices)\n",
    "    row_indices_oob.append(oob_indices)\n",
    "print(row_indices_iob[29].shape)\n",
    "print(row_indices_oob[29].shape)\n",
    "print(col_indices[29].shape)"
   ]
  },
  {
   "cell_type": "code",
   "execution_count": 83,
   "metadata": {},
   "outputs": [
    {
     "name": "stdout",
     "output_type": "stream",
     "text": [
      "4.148524204957465\n"
     ]
    }
   ],
   "source": [
    "from sklearn.tree import DecisionTreeRegressor\n",
    "Y_pred = [0 for i in range(506)]\n",
    "for i in range(30):\n",
    "    clf = DecisionTreeRegressor()\n",
    "    X_train = x[row_indices_iob[i][:,None],col_indices[i]]\n",
    "    Y_train = y[row_indices_iob[i]]\n",
    "    clf.fit(X_train,Y_train)\n",
    "    Y_pred += clf.predict(x[:,col_indices[i]])\n",
    "Y_pred = Y_pred/30\n",
    "\n",
    "errors = (y-Y_pred)**2\n",
    "MSE = errors.sum()/506\n",
    "print(MSE)"
   ]
  },
  {
   "cell_type": "code",
   "execution_count": 84,
   "metadata": {},
   "outputs": [
    {
     "name": "stdout",
     "output_type": "stream",
     "text": [
      "13.165122999441879\n"
     ]
    }
   ],
   "source": [
    "Y_pred_OOB = [0 for i in range(506)]\n",
    "Ks = [0 for i in range(506)]\n",
    "\n",
    "for i in range(30):\n",
    "    k = 0\n",
    "    clf = DecisionTreeRegressor()\n",
    "    X_train = x[row_indices_iob[i][:,None],col_indices[i]]\n",
    "    Y_train = y[row_indices_iob[i]]\n",
    "    clf.fit(X_train,Y_train)\n",
    "\n",
    "    for j in range(506):\n",
    "        if j not in row_indices_iob[i]:\n",
    "            Ks[j] += 1\n",
    "            Y_pred_OOB[k] += clf.predict(x[j,col_indices[i]].reshape(1,-1)).item()\n",
    "        k += 1\n",
    "        \n",
    "Y_pred_OOB = [x/y for x,y in zip(Y_pred_OOB,Ks)]\n",
    "\n",
    "errors_OOB = (y-Y_pred_OOB)**2\n",
    "OOB = errors_OOB.sum()/506\n",
    "print(OOB)"
   ]
  },
  {
   "cell_type": "code",
   "execution_count": 85,
   "metadata": {},
   "outputs": [
    {
     "name": "stdout",
     "output_type": "stream",
     "text": [
      "[4.118956748231545, 4.075369335903633, 5.033221878588019, 4.063964643362632, 5.351247126446244, 3.933621810908963, 4.279573644683178, 3.925516510123594, 4.340600935396307, 3.9072713629042846, 4.302113404388021, 4.455355902314506, 4.261866465703848, 3.8867571022857224, 3.9846047130702673, 4.470595588846469, 4.6696351251322215, 3.9953873323986047, 4.341209356051573, 3.9048308662639415, 4.577309714736203, 3.804574815396493, 5.417430372207078, 3.5540478758141356, 3.9609243601252357, 4.280395993011057, 3.9305223254007475, 4.530276668065598, 4.383725305476349, 4.26334498006185, 3.973298708250302, 4.132456744071148, 4.819316869097935, 4.827487601705585, 4.158914060057753]\n",
      "========================================================================================================================\n",
      "[13.671205645179297, 12.233803415201246, 14.773578131386559, 13.283374978285018, 14.89695554559028, 12.7176129247745, 14.439947738346918, 12.242654914727858, 13.623600746191928, 12.464781163302595, 13.18298448895454, 13.373173618080681, 13.875866765639143, 13.594170242039866, 12.392202617237702, 13.290133396058113, 14.440092991943931, 12.38139435530164, 12.969538116528724, 13.1226397784077, 14.404561966401467, 13.355770528150277, 16.929039920804094, 11.993809128456304, 12.885404831879548, 14.040749200724434, 12.966042381779388, 14.995977596533987, 13.978273319113075, 14.489452229212446, 12.290773355661868, 12.886305306701242, 14.795456888554675, 15.473483141365056, 13.440040230728203]\n"
     ]
    }
   ],
   "source": [
    "MSEs = []\n",
    "OOBs = []\n",
    "for _ in range(35):\n",
    "    row_indices_iob = []\n",
    "    row_indices_oob = []\n",
    "    col_indices     = []\n",
    "\n",
    "    for i in range(30):\n",
    "        iob_indices = np.random.choice(range(506),303)\n",
    "        iob_indices = np.hstack([iob_indices,np.random.choice(iob_indices,size=203)])\n",
    "        col_index = np.array(random.sample(range(13),random.randint(3,13)))\n",
    "        row_indices_iob.append(iob_indices) \n",
    "        col_indices.append(col_index)\n",
    "        oob_indices = np.setdiff1d(range(506),iob_indices)\n",
    "        row_indices_oob.append(oob_indices)\n",
    "    \n",
    "    Y_pred = [0 for i in range(506)]\n",
    "    for i in range(30):\n",
    "        clf = DecisionTreeRegressor()\n",
    "        X_train = x[row_indices_iob[i][:,None],col_indices[i]]\n",
    "        Y_train = y[row_indices_iob[i]]\n",
    "        clf.fit(X_train,Y_train)\n",
    "        Y_pred += clf.predict(x[:,col_indices[i]])\n",
    "    Y_pred = Y_pred/30\n",
    "\n",
    "    errors = (y-Y_pred)**2\n",
    "    MSE = errors.sum()/506\n",
    "    MSEs.append(MSE)\n",
    "    \n",
    "    Y_pred_OOB = [0 for i in range(506)]\n",
    "    Ks = [0 for i in range(506)]\n",
    "\n",
    "    for i in range(30):\n",
    "        k = 0\n",
    "        clf = DecisionTreeRegressor()\n",
    "        X_train = x[row_indices_iob[i][:,None],col_indices[i]]\n",
    "        Y_train = y[row_indices_iob[i]]\n",
    "        clf.fit(X_train,Y_train)\n",
    "\n",
    "        for j in range(506):\n",
    "            if j not in row_indices_iob[i]:\n",
    "                Ks[j] += 1\n",
    "                Y_pred_OOB[k] += clf.predict(x[j,col_indices[i]].reshape(1,-1)).item()\n",
    "            k += 1\n",
    "\n",
    "    Y_pred_OOB = [x/y for x,y in zip(Y_pred_OOB,Ks)]\n",
    "\n",
    "    errors_OOB = (y-Y_pred_OOB)**2\n",
    "    OOB = errors_OOB.sum()/506\n",
    "    OOBs.append(OOB)\n",
    "    \n",
    "print(MSEs)\n",
    "print('='*120)\n",
    "print(OOBs)"
   ]
  },
  {
   "cell_type": "code",
   "execution_count": 86,
   "metadata": {},
   "outputs": [
    {
     "name": "stdout",
     "output_type": "stream",
     "text": [
      "======================== Calculation Interval Calculations for MSE =========================\n",
      "+----------+-------------+--------------------+---------------------+----------+-----------+\n",
      "| #samples | Sample Size |    Sample mean     |      Sample std     | Left C.I | Right C.I |\n",
      "+----------+-------------+--------------------+---------------------+----------+-----------+\n",
      "|    1     |      10     | 4.311298922919435  | 0.39819339936217385 |  4.059   |   4.563   |\n",
      "|    2     |      10     | 4.376046934382901  |  0.5306450455697168 |   4.04   |   4.712   |\n",
      "|    3     |      10     | 4.258629162063739  | 0.25831490591714934 |  4.095   |   4.422   |\n",
      "|    4     |      10     | 4.309010269391684  | 0.26308188543699385 |  4.143   |   4.475   |\n",
      "|    5     |      10     | 4.170592949694572  | 0.48633280648007865 |  3.863   |   4.478   |\n",
      "|    6     |      10     |  4.23364108147643  | 0.47846906092928465 |  3.931   |   4.536   |\n",
      "|    7     |      10     | 4.387445964667564  |  0.405409693143745  |  4.131   |   4.644   |\n",
      "|    8     |      10     | 4.372296236877618  |  0.5356874254236131 |  4.033   |   4.711   |\n",
      "|    9     |      10     | 4.278558794523471  |  0.2375673352164192 |  4.128   |   4.429   |\n",
      "|    10    |      10     | 4.230201059754828  | 0.34201695987757225 |  4.014   |   4.447   |\n",
      "|    11    |      10     | 4.1832415563236935 | 0.42796370047720617 |  3.913   |   4.454   |\n",
      "|    12    |      10     | 4.382517016469015  |  0.3288698837898126 |  4.175   |   4.591   |\n",
      "|    13    |      10     |  4.42443596268024  | 0.25959609469648803 |   4.26   |   4.589   |\n",
      "|    14    |      10     | 4.107442417887332  | 0.18433151732032038 |  3.991   |   4.224   |\n",
      "|    15    |      10     | 4.270182709650689  | 0.31699157048139653 |   4.07   |   4.471   |\n",
      "|    16    |      10     | 4.123967626157987  | 0.13105316086288524 |  4.041   |   4.207   |\n",
      "|    17    |      10     | 4.396011490386025  |  0.3622720854751337 |  4.167   |   4.625   |\n",
      "|    18    |      10     | 4.278290837884365  | 0.27491394419103776 |  4.104   |   4.452   |\n",
      "|    19    |      10     | 4.128215998283702  |  0.2972829913240911 |   3.94   |   4.316   |\n",
      "|    20    |      10     | 4.093812456711765  |  0.2860982788359064 |  3.913   |   4.275   |\n",
      "|    21    |      10     | 4.277067620784665  | 0.29074104143985396 |  4.093   |   4.461   |\n",
      "|    22    |      10     | 4.439636228724927  | 0.37094397434489396 |  4.205   |   4.674   |\n",
      "|    23    |      10     |  4.18438980047434  |  0.2624301221412158 |  4.018   |    4.35   |\n",
      "|    24    |      10     | 4.168046952467387  | 0.34863169059361254 |  3.948   |   4.389   |\n",
      "|    25    |      10     |  4.50067560529545  | 0.45846508555828525 |  4.211   |   4.791   |\n",
      "|    26    |      10     | 4.407293282938873  | 0.48673484949749835 |  4.099   |   4.715   |\n",
      "|    27    |      10     | 4.038567039029263  | 0.42404729025767035 |   3.77   |   4.307   |\n",
      "|    28    |      10     |  4.36564742990818  | 0.39344314451785595 |  4.117   |   4.614   |\n",
      "|    29    |      10     | 4.2782299331607465 |  0.297438462202774  |   4.09   |   4.466   |\n",
      "|    30    |      10     | 4.294292653206524  |  0.2636748955096754 |  4.128   |   4.461   |\n",
      "|    31    |      10     | 4.050200058749443  | 0.17326077513165414 |  3.941   |    4.16   |\n",
      "|    32    |      10     | 4.398524921496667  |  0.6760991878514125 |  3.971   |   4.826   |\n",
      "|    33    |      10     | 4.1932278690572335 |  0.3673014392848909 |  3.961   |   4.426   |\n",
      "|    34    |      10     | 4.325892526246085  | 0.35333155238647146 |  4.102   |   4.549   |\n",
      "|    35    |      10     | 4.236144101851765  | 0.42373620933828615 |  3.968   |   4.504   |\n",
      "|    36    |      10     | 4.184064828691075  | 0.44452515025397277 |  3.903   |   4.465   |\n",
      "|    37    |      10     | 4.003204138151551  | 0.20488848067751914 |  3.874   |   4.133   |\n",
      "|    38    |      10     | 4.168076803358514  |  0.3062216941192534 |  3.974   |   4.362   |\n",
      "|    39    |      10     | 4.4797792351163235 |  0.5005897710892158 |  4.163   |   4.796   |\n",
      "|    40    |      10     | 4.214199116238669  |  0.5065826158426358 |  3.894   |   4.535   |\n",
      "|    41    |      10     | 4.458673858946017  |  0.497068428370351  |  4.144   |   4.773   |\n",
      "|    42    |      10     | 4.317860965596405  |  0.4291322258108957 |  4.046   |   4.589   |\n",
      "|    43    |      10     | 4.024577120455424  |  0.1465830552371625 |  3.932   |   4.117   |\n",
      "|    44    |      10     | 4.274954265305475  | 0.36256883266172085 |  4.046   |   4.504   |\n",
      "|    45    |      10     |  4.4376044289543   |  0.4250287922213726 |  4.169   |   4.706   |\n",
      "|    46    |      10     | 4.271144489800432  | 0.38829931651024485 |  4.026   |   4.517   |\n",
      "|    47    |      10     | 4.278576507467375  |  0.3740614513558461 |  4.042   |   4.515   |\n",
      "|    48    |      10     | 4.328630742273114  |  0.4697078318202483 |  4.032   |   4.626   |\n",
      "|    49    |      10     | 4.410448759488892  | 0.49810943086398135 |  4.095   |   4.725   |\n",
      "|    50    |      10     | 4.387317950733665  |  0.6132681876468573 |  3.999   |   4.775   |\n",
      "|    51    |      10     | 4.223357806908263  |  0.4761713147801208 |  3.922   |   4.525   |\n",
      "|    52    |      10     | 4.242476489155252  | 0.41330710882413285 |  3.981   |   4.504   |\n",
      "|    53    |      10     | 4.376613168369025  |  0.4053667095215028 |   4.12   |   4.633   |\n",
      "|    54    |      10     | 4.148911697219385  |  0.2620695351994131 |  3.983   |   4.315   |\n",
      "|    55    |      10     | 4.1353778438280235 | 0.30231449363244184 |  3.944   |   4.327   |\n",
      "|    56    |      10     | 4.3356168529213495 |  0.3606548218836037 |  4.108   |   4.564   |\n",
      "|    57    |      10     | 4.111213401682811  | 0.23072589952795436 |  3.965   |   4.257   |\n",
      "|    58    |      10     | 4.425686134137309  |  0.4417361549030749 |  4.146   |   4.705   |\n",
      "|    59    |      10     | 4.515241300815571  |  0.4392494392060719 |  4.237   |   4.793   |\n",
      "|    60    |      10     | 4.405910162070049  |  0.5117625056751063 |  4.082   |    4.73   |\n",
      "|    61    |      10     | 4.205390082638614  |  0.4179989932534383 |  3.941   |    4.47   |\n",
      "|    62    |      10     | 4.351651823461872  |  0.4729827742783789 |  4.053   |   4.651   |\n",
      "|    63    |      10     | 4.3516568642827975 |  0.2407516784339529 |  4.199   |   4.504   |\n",
      "|    64    |      10     | 4.331596255840371  |  0.3192399560088818 |   4.13   |   4.534   |\n",
      "|    65    |      10     | 4.294553478042786  |  0.3211228144518974 |  4.091   |   4.498   |\n",
      "|    66    |      10     | 4.251798409194957  |  0.2667764624618131 |  4.083   |   4.421   |\n",
      "|    67    |      10     | 4.295087057141908  |  0.4220584204887125 |  4.028   |   4.562   |\n",
      "|    68    |      10     | 4.402017679041896  |  0.5186558594143307 |  4.074   |    4.73   |\n",
      "|    69    |      10     | 4.398022946870702  | 0.42523595968807015 |  4.129   |   4.667   |\n",
      "|    70    |      10     | 4.132944437357521  |  0.1790457456176781 |   4.02   |   4.246   |\n",
      "|    71    |      10     |  4.40143797349751  | 0.48121343289767987 |  4.097   |   4.706   |\n",
      "|    72    |      10     | 4.349352251733203  | 0.25637233510948426 |  4.187   |   4.511   |\n",
      "|    73    |      10     | 4.1444460166656745 | 0.14402732607483637 |  4.053   |   4.236   |\n",
      "|    74    |      10     | 4.3335712484892674 |  0.4545940573764309 |  4.046   |   4.621   |\n",
      "|    75    |      10     | 4.501968444774187  |  0.4951074834720631 |  4.189   |   4.815   |\n",
      "|    76    |      10     | 4.323917354110376  |  0.4212763311549656 |  4.057   |    4.59   |\n",
      "|    77    |      10     | 4.476512426171249  |  0.5002099323155509 |   4.16   |   4.793   |\n",
      "|    78    |      10     | 4.372309687788437  | 0.44637034273776816 |   4.09   |   4.655   |\n",
      "|    79    |      10     |  4.28106857542212  | 0.48323000976474606 |  3.975   |   4.587   |\n",
      "|    80    |      10     | 4.199965196522504  |  0.162590667212134  |  4.097   |   4.303   |\n",
      "|    81    |      10     | 4.324450989102104  | 0.31212344374204093 |  4.127   |   4.522   |\n",
      "|    82    |      10     | 4.313283488712443  | 0.27910473392946444 |  4.137   |    4.49   |\n",
      "|    83    |      10     | 4.3335757027761295 |  0.2638799384617818 |  4.167   |    4.5    |\n",
      "|    84    |      10     | 4.261845791049548  |  0.2739393459583967 |  4.089   |   4.435   |\n",
      "|    85    |      10     | 4.104189116315362  | 0.19583204411954025 |   3.98   |   4.228   |\n",
      "|    86    |      10     | 4.428503950943982  |  0.5706566219395637 |  4.068   |   4.789   |\n",
      "|    87    |      10     | 4.155274090026722  | 0.16614608207634635 |   4.05   |    4.26   |\n",
      "|    88    |      10     | 4.189435055907437  |  0.5445841581754791 |  3.845   |   4.534   |\n",
      "|    89    |      10     | 4.169621070781027  |  0.350203938146913  |  3.948   |   4.391   |\n",
      "|    90    |      10     | 4.283689222670073  |  0.4317491021473944 |  4.011   |   4.557   |\n",
      "|    91    |      10     | 4.374869577423366  | 0.32769397130530276 |  4.168   |   4.582   |\n",
      "|    92    |      10     | 4.241237475704413  |  0.4653311124781132 |  3.947   |   4.536   |\n",
      "|    93    |      10     | 4.245172330115233  | 0.47790816147729587 |  3.943   |   4.547   |\n",
      "|    94    |      10     | 4.289032119080048  |  0.4444064788111949 |  4.008   |    4.57   |\n",
      "|    95    |      10     | 4.114839968880435  | 0.18874425838400816 |  3.995   |   4.234   |\n",
      "|    96    |      10     | 4.1306545768172045 | 0.17118228073280287 |  4.022   |   4.239   |\n",
      "|    97    |      10     |  4.19142024218778  | 0.47576386715572216 |  3.891   |   4.492   |\n",
      "|    98    |      10     | 4.232528090571507  | 0.32307600732042324 |  4.028   |   4.437   |\n",
      "|    99    |      10     | 4.391151384357042  |  0.3824733104569978 |  4.149   |   4.633   |\n",
      "|   100    |      10     | 4.325466034189467  | 0.30232666383100726 |  4.134   |   4.517   |\n",
      "+----------+-------------+--------------------+---------------------+----------+-----------+\n"
     ]
    }
   ],
   "source": [
    "#calculating 95% confidence interval\n",
    "no_of_samples = 100\n",
    "no_of_bins = 5\n",
    "\n",
    "from prettytable import PrettyTable\n",
    "MSE_means = []\n",
    "table = PrettyTable()\n",
    "table = PrettyTable([\"#samples\", \"Sample Size\", \"Sample mean\", \"Sample std\",\"Left C.I\",\"Right C.I\"])\n",
    "for i in range(no_of_samples):\n",
    "    sample=[MSEs[i] for i in random.choices(range(35),k=10)]\n",
    "    sample_mean = np.mean(sample)\n",
    "    MSE_means.append(sample_mean)\n",
    "    sample_std =  np.std(sample)\n",
    "    sample_size = len(sample)\n",
    "    # here we are using sample standard deviation instead of population standard deviation\n",
    "    left_limit  = np.round(sample_mean - 2*(sample_std/np.sqrt(sample_size)), 3)\n",
    "    right_limit = np.round(sample_mean + 2*(sample_std/np.sqrt(sample_size)), 3)\n",
    "    row = []\n",
    "    row.append(i+1)\n",
    "    row.append(sample_size)\n",
    "    row.append(sample_mean)\n",
    "    row.append(sample_std)\n",
    "    row.append(left_limit)\n",
    "    row.append(right_limit)\n",
    "    table.add_row(row)\n",
    "print('======================== Calculation Interval Calculations for MSE =========================')\n",
    "print(table)"
   ]
  },
  {
   "cell_type": "code",
   "execution_count": 87,
   "metadata": {},
   "outputs": [
    {
     "name": "stdout",
     "output_type": "stream",
     "text": [
      "Mean of Means:  4.281327020259221\n",
      "Mean Std-Dev :  0.30232666383100726\n",
      "Mean Left CI :  4.134\n",
      "Mean Right CI:  4.517\n"
     ]
    }
   ],
   "source": [
    "mean_Left_CI = np.mean(left_limit)\n",
    "mean_Right_CI = np.mean(right_limit)\n",
    "mean_of_means = np.mean(MSE_means)\n",
    "print('Mean of Means    : ',mean_of_means)\n",
    "print('Std-Dev of Means : ',np.mean(sample_std))\n",
    "print('Mean Left CI     : ',mean_Left_CI)\n",
    "print('Mean Right CI    : ',mean_Right_CI)"
   ]
  },
  {
   "cell_type": "code",
   "execution_count": 88,
   "metadata": {},
   "outputs": [
    {
     "data": {
      "image/png": "[encoded data removed]",
      "text/plain": [
       "<Figure size 576x360 with 1 Axes>"
      ]
     },
     "metadata": {
      "needs_background": "light"
     },
     "output_type": "display_data"
    }
   ],
   "source": [
    "import seaborn as sns\n",
    "import matplotlib.pyplot as plt\n",
    "plt.figure(figsize=(8,5))\n",
    "sns.distplot(MSE_means, bins=no_of_samples//no_of_bins)\n",
    "plt.axvline(x=mean_Left_CI, c='red',ls=':')\n",
    "plt.axvline(x=mean_of_means, c='green',ls='--')\n",
    "plt.axvline(x=mean_Right_CI, c='blue',ls=':')\n",
    "plt.legend(['left CI','Mean','right CI','MSE PDF'])\n",
    "plt.title('MSE Distrubution Plot')\n",
    "plt.show()"
   ]
  },
  {
   "cell_type": "code",
   "execution_count": 89,
   "metadata": {},
   "outputs": [
    {
     "name": "stdout",
     "output_type": "stream",
     "text": [
      "======================== Calculation Interval Calculations for OOB =========================\n",
      "+----------+-------------+--------------------+--------------------+----------+-----------+\n",
      "| #samples | Sample Size |    Sample mean     |     Sample std     | Left C.I | Right C.I |\n",
      "+----------+-------------+--------------------+--------------------+----------+-----------+\n",
      "|    1     |      10     | 13.38866206701859  | 0.9656467450214259 |  12.778  |   13.999  |\n",
      "|    2     |      10     | 13.557002864134887 | 1.2528284417704891 |  12.765  |   14.349  |\n",
      "|    3     |      10     | 13.081887566161026 | 0.828182614621331  |  12.558  |   13.606  |\n",
      "|    4     |      10     | 13.515853709919885 | 0.8836312444341573 |  12.957  |   14.075  |\n",
      "|    5     |      10     | 14.122814033902127 | 1.166913529374901  |  13.385  |   14.861  |\n",
      "|    6     |      10     | 14.337823540413632 | 1.152848503635227  |  13.609  |   15.067  |\n",
      "|    7     |      10     | 13.220336074296531 | 0.7901342156999115 |  12.721  |   13.72   |\n",
      "|    8     |      10     | 13.484725421651216 | 0.5827425169870947 |  13.116  |   13.853  |\n",
      "|    9     |      10     |  13.3421471127099  | 0.7367042635623121 |  12.876  |   13.808  |\n",
      "|    10    |      10     | 13.334033046913623 | 0.9019000526606568 |  12.764  |   13.904  |\n",
      "|    11    |      10     | 13.79901009675379  | 1.4403790717125968 |  12.888  |   14.71   |\n",
      "|    12    |      10     | 14.057834865911962 | 1.6828061465623323 |  12.994  |   15.122  |\n",
      "|    13    |      10     | 13.942746983760008 | 1.0025765087734597 |  13.309  |   14.577  |\n",
      "|    14    |      10     | 12.97704047243352  | 0.8949514915764667 |  12.411  |   13.543  |\n",
      "|    15    |      10     | 13.410500699611404 | 0.8693711823282055 |  12.861  |   13.96   |\n",
      "|    16    |      10     | 13.802249591608211 | 0.7951881059377368 |  13.299  |   14.305  |\n",
      "|    17    |      10     | 13.748055511726392 | 0.9055642477438764 |  13.175  |   14.321  |\n",
      "|    18    |      10     | 14.304299317255182 | 1.1208827204201148 |  13.595  |   15.013  |\n",
      "|    19    |      10     | 13.613256558434951 | 0.9486757319696532 |  13.013  |   14.213  |\n",
      "|    20    |      10     | 13.384024297789736 | 0.8017871137019928 |  12.877  |   13.891  |\n",
      "|    21    |      10     | 13.523912448303633 | 0.8976549989051064 |  12.956  |   14.092  |\n",
      "|    22    |      10     | 13.904986254324138 | 0.868276775064061  |  13.356  |   14.454  |\n",
      "|    23    |      10     | 13.727189652567844 | 0.9395620376658184 |  13.133  |   14.321  |\n",
      "|    24    |      10     | 13.139696863387613 | 0.6229898971499431 |  12.746  |   13.534  |\n",
      "|    25    |      10     | 14.084653754580634 | 0.9190604465567294 |  13.503  |   14.666  |\n",
      "|    26    |      10     | 13.58155861180585  | 1.0446921735455519 |  12.921  |   14.242  |\n",
      "|    27    |      10     | 13.996612965414537 | 0.8878742073126425 |  13.435  |   14.558  |\n",
      "|    28    |      10     | 13.647889392951196 | 0.7922531848513966 |  13.147  |   14.149  |\n",
      "|    29    |      10     | 14.043758831142075 | 1.6314159379965536 |  13.012  |   15.076  |\n",
      "|    30    |      10     | 13.873194360400333 | 1.181463414479977  |  13.126  |   14.62   |\n",
      "|    31    |      10     | 13.820368562403388 | 1.0377326437321783 |  13.164  |   14.477  |\n",
      "|    32    |      10     | 13.996157358993093 | 1.2846588530390455 |  13.184  |   14.809  |\n",
      "|    33    |      10     | 13.80279541456189  | 1.3606755681304614 |  12.942  |   14.663  |\n",
      "|    34    |      10     | 13.204081345775279 | 0.8335955312438144 |  12.677  |   13.731  |\n",
      "|    35    |      10     | 13.208518096838228 | 0.6703686202028808 |  12.785  |   13.632  |\n",
      "|    36    |      10     | 13.727012583562015 | 1.1659555817273615 |  12.99   |   14.464  |\n",
      "|    37    |      10     | 13.771081488805535 | 0.8268693040678382 |  13.248  |   14.294  |\n",
      "|    38    |      10     | 12.981791579436223 | 0.6414799963309501 |  12.576  |   13.387  |\n",
      "|    39    |      10     | 13.650523472851864 | 1.4260870029525965 |  12.749  |   14.552  |\n",
      "|    40    |      10     | 13.444118694155602 | 0.7643293386800983 |  12.961  |   13.928  |\n",
      "|    41    |      10     | 13.538455910094456 | 0.8373107964655335 |  13.009  |   14.068  |\n",
      "|    42    |      10     | 13.724315554482075 | 0.7540548043655694 |  13.247  |   14.201  |\n",
      "|    43    |      10     | 13.40710243747778  | 0.8092520321169496 |  12.895  |   13.919  |\n",
      "|    44    |      10     | 13.474895684211663 | 0.8702704078233907 |  12.924  |   14.025  |\n",
      "|    45    |      10     | 14.275486598979665 | 1.5890217058875786 |  13.271  |   15.28   |\n",
      "|    46    |      10     | 13.812861425796845 | 1.317157310601788  |  12.98   |   14.646  |\n",
      "|    47    |      10     | 13.199940214589748 | 0.8156702248265337 |  12.684  |   13.716  |\n",
      "|    48    |      10     | 13.802473250062196 | 0.942667505697375  |  13.206  |   14.399  |\n",
      "|    49    |      10     | 14.031441788843845 | 1.2124993869568113 |  13.265  |   14.798  |\n",
      "|    50    |      10     | 13.079212843119581 | 0.7685451846458442 |  12.593  |   13.565  |\n",
      "|    51    |      10     | 12.915662789922731 | 0.6534994593084579 |  12.502  |   13.329  |\n",
      "|    52    |      10     | 13.246339417782002 | 0.6200762975224473 |  12.854  |   13.639  |\n",
      "|    53    |      10     | 13.849654378321919 | 0.9010970151614013 |  13.28   |   14.42   |\n",
      "|    54    |      10     | 13.454994573023878 | 0.9720269462089568 |  12.84   |   14.07   |\n",
      "|    55    |      10     | 13.837787982727036 | 1.4022091333144207 |  12.951  |   14.725  |\n",
      "|    56    |      10     | 13.21579461770796  | 0.7831734812988642 |  12.72   |   13.711  |\n",
      "|    57    |      10     | 13.639498752364114 | 1.6880052917280202 |  12.572  |   14.707  |\n",
      "|    58    |      10     | 13.482474674204429 | 0.6608767735621199 |  13.064  |    13.9   |\n",
      "|    59    |      10     | 13.896745540754932 | 1.1765597736459583 |  13.153  |   14.641  |\n",
      "|    60    |      10     | 13.938968799968384 | 1.2586617079662084 |  13.143  |   14.735  |\n",
      "|    61    |      10     | 13.988477447987673 | 0.9955435510588068 |  13.359  |   14.618  |\n",
      "|    62    |      10     | 13.457432987150568 | 1.2485920191973456 |  12.668  |   14.247  |\n",
      "|    63    |      10     | 13.470459440429574 | 0.890516411419556  |  12.907  |   14.034  |\n",
      "|    64    |      10     | 14.239934295671096 | 1.1962934368613005 |  13.483  |   14.997  |\n",
      "|    65    |      10     | 13.404901899903859 | 0.503065384631322  |  13.087  |   13.723  |\n",
      "|    66    |      10     | 14.205031972024504 | 1.5758525481200483 |  13.208  |   15.202  |\n",
      "|    67    |      10     | 13.347693743003836 | 1.0419592961042308 |  12.689  |   14.007  |\n",
      "|    68    |      10     | 13.643412755999696 | 0.9196092929041669 |  13.062  |   14.225  |\n",
      "|    69    |      10     | 13.807810199437608 | 0.7657593890958642 |  13.324  |   14.292  |\n",
      "|    70    |      10     | 13.890053264707282 | 1.0179419863008028 |  13.246  |   14.534  |\n",
      "|    71    |      10     | 13.370309031456696 | 0.8858939769722917 |  12.81   |   13.931  |\n",
      "|    72    |      10     | 13.648071644646496 | 0.987332668751629  |  13.024  |   14.273  |\n",
      "|    73    |      10     | 13.491322074045252 | 0.9673182296575089 |  12.88   |   14.103  |\n",
      "|    74    |      10     | 13.081937461583077 | 0.6265929946565781 |  12.686  |   13.478  |\n",
      "|    75    |      10     | 13.239499429726987 | 0.8799841020388388 |  12.683  |   13.796  |\n",
      "|    76    |      10     |  13.7018820545122  | 1.4404679307644717 |  12.791  |   14.613  |\n",
      "|    77    |      10     | 13.990162610179791 | 0.8276773099508945 |  13.467  |   14.514  |\n",
      "|    78    |      10     | 13.199655673472952 | 0.543788400670139  |  12.856  |   13.544  |\n",
      "|    79    |      10     | 13.626240317956166 | 0.7163546711425007 |  13.173  |   14.079  |\n",
      "|    80    |      10     | 13.405571449560924 | 1.2907668703986612 |  12.589  |   14.222  |\n",
      "|    81    |      10     | 13.81847685193894  | 0.9412973693640614 |  13.223  |   14.414  |\n",
      "|    82    |      10     | 13.761418578876217 | 0.8433717988250613 |  13.228  |   14.295  |\n",
      "|    83    |      10     | 13.392776969990146 | 0.5317341824299117 |  13.056  |   13.729  |\n",
      "|    84    |      10     | 13.441366589147753 | 0.8438636870791929 |  12.908  |   13.975  |\n",
      "|    85    |      10     | 14.250702821697624 | 1.3561146753923217 |  13.393  |   15.108  |\n",
      "|    86    |      10     | 13.524800146609957 | 1.095026819503951  |  12.832  |   14.217  |\n",
      "|    87    |      10     | 13.125979427865289 | 0.9459973550901041 |  12.528  |   13.724  |\n",
      "|    88    |      10     | 13.501350423890102 | 1.133108924216469  |  12.785  |   14.218  |\n",
      "|    89    |      10     | 13.306597402611095 | 1.281586574219736  |  12.496  |   14.117  |\n",
      "|    90    |      10     | 14.421106649359757 | 0.8441010282882938 |  13.887  |   14.955  |\n",
      "|    91    |      10     | 13.57209695970364  | 1.1898467984810912 |  12.82   |   14.325  |\n",
      "|    92    |      10     | 14.462101125877236 | 1.1801455971063424 |  13.716  |   15.208  |\n",
      "|    93    |      10     | 12.910910133379312 | 0.5678607109877706 |  12.552  |   13.27   |\n",
      "|    94    |      10     | 13.593872935840093 | 0.864719465093618  |  13.047  |   14.141  |\n",
      "|    95    |      10     | 13.83767570581239  | 1.3135137651777764 |  13.007  |   14.668  |\n",
      "|    96    |      10     | 13.871922971393568 | 1.5207106858874069 |  12.91   |   14.834  |\n",
      "|    97    |      10     | 14.066851223567866 | 1.3447955486331622 |  13.216  |   14.917  |\n",
      "|    98    |      10     | 13.959210263614846 | 1.3098338457331646 |  13.131  |   14.788  |\n",
      "|    99    |      10     | 13.235942641145673 |  0.48528038137885  |  12.929  |   13.543  |\n",
      "|   100    |      10     | 13.297488592908024 | 1.0715460936703045 |  12.62   |   13.975  |\n",
      "+----------+-------------+--------------------+--------------------+----------+-----------+\n"
     ]
    }
   ],
   "source": [
    "#calculating 95% confidence interval\n",
    "from prettytable import PrettyTable\n",
    "OOB_means = []\n",
    "table = PrettyTable()\n",
    "table = PrettyTable([\"#samples\", \"Sample Size\", \"Sample mean\", \"Sample std\",\"Left C.I\",\"Right C.I\"])\n",
    "for i in range(no_of_samples):\n",
    "    sample=[OOBs[i] for i in random.choices(range(35),k=10)]\n",
    "    sample_mean = np.mean(sample)\n",
    "    OOB_means.append(sample_mean)\n",
    "    sample_std =  np.std(sample)\n",
    "    sample_size = len(sample)\n",
    "    # here we are using sample standard deviation instead of population standard deviation\n",
    "    left_limit  = np.round(sample_mean - 2*(sample_std/np.sqrt(sample_size)), 3)\n",
    "    right_limit = np.round(sample_mean + 2*(sample_std/np.sqrt(sample_size)), 3)\n",
    "    row = []\n",
    "    row.append(i+1)\n",
    "    row.append(sample_size)\n",
    "    row.append(sample_mean)\n",
    "    row.append(sample_std)\n",
    "    row.append(left_limit)\n",
    "    row.append(right_limit)\n",
    "    table.add_row(row)\n",
    "print('======================== Calculation Interval Calculations for OOB =========================')\n",
    "print(table)"
   ]
  },
  {
   "cell_type": "code",
   "execution_count": 90,
   "metadata": {},
   "outputs": [
    {
     "name": "stdout",
     "output_type": "stream",
     "text": [
      "Mean of Means:  13.629408209677884\n",
      "Mean Std-Dev :  1.0715460936703045\n",
      "Mean Left CI :  12.62\n",
      "Mean Right CI:  13.975\n"
     ]
    }
   ],
   "source": [
    "mean_Left_CI = np.mean(left_limit)\n",
    "mean_Right_CI = np.mean(right_limit)\n",
    "mean_of_means = np.mean(OOB_means)\n",
    "print('Mean of Means: ',mean_of_means)\n",
    "print('Mean Std-Dev : ',np.mean(sample_std))\n",
    "print('Mean Left CI : ',mean_Left_CI)\n",
    "print('Mean Right CI: ',mean_Right_CI)"
   ]
  },
  {
   "cell_type": "code",
   "execution_count": 91,
   "metadata": {},
   "outputs": [
    {
     "data": {
      "image/png": "[encoded data removed]",
      "text/plain": [
       "<Figure size 576x360 with 1 Axes>"
      ]
     },
     "metadata": {
      "needs_background": "light"
     },
     "output_type": "display_data"
    }
   ],
   "source": [
    "plt.figure(figsize=(8,5))\n",
    "sns.distplot(OOB_means, bins=no_of_samples//no_of_bins)\n",
    "plt.axvline(x=mean_Left_CI, c='red',ls=':')\n",
    "plt.axvline(x=mean_of_means, c='green',ls='--')\n",
    "plt.axvline(x=mean_Right_CI, c='blue',ls=':')\n",
    "plt.legend(['left CI','Mean','right CI','MSE PDF'])\n",
    "plt.title('OOB Distribution Plot')\n",
    "plt.show()"
   ]
  },
  {
   "cell_type": "code",
   "execution_count": 92,
   "metadata": {},
   "outputs": [
    {
     "name": "stdout",
     "output_type": "stream",
     "text": [
      "20.503809523809526\n"
     ]
    }
   ],
   "source": [
    "xq= np.array([0.18,20.0,5.00,0.0,0.421,5.60,72.2,7.95,7.0,30.0,19.1,372.13,18.60])\n",
    "Y_pred = 0\n",
    "for i in range(30):\n",
    "    clf = DecisionTreeRegressor()\n",
    "    X_train = x[row_indices_iob[i][:,None],col_indices[i]]\n",
    "    Y_train = y[row_indices_iob[i]]\n",
    "    clf.fit(X_train,Y_train)\n",
    "    Y_pred += clf.predict(xq[col_indices[i]].reshape(1,-1)).item()\n",
    "Y_pred = Y_pred/30\n",
    "\n",
    "print(Y_pred)"
   ]
  },
  {
   "cell_type": "code",
   "execution_count": null,
   "metadata": {},
   "outputs": [],
   "source": []
  }
 ],
 "metadata": {
  "colab": {
   "collapsed_sections": [],
   "name": "Bootstrap_Random_Forest_instructions.ipynb",
   "provenance": []
  },
  "kernelspec": {
   "display_name": "Python 3",
   "language": "python",
   "name": "python3"
  },
  "language_info": {
   "codemirror_mode": {
    "name": "ipython",
    "version": 3
   },
   "file_extension": ".py",
   "mimetype": "text/x-python",
   "name": "python",
   "nbconvert_exporter": "python",
   "pygments_lexer": "ipython3",
   "version": "3.7.4"
  }
 },
 "nbformat": 4,
 "nbformat_minor": 1
}
