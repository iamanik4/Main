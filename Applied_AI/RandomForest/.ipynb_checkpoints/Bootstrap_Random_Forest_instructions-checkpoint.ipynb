{
 "cells": [
  {
   "cell_type": "markdown",
   "metadata": {
    "colab_type": "text",
    "id": "AjzGopb_YcKR"
   },
   "source": [
    "# Application of Bootstrap samples in Random Forest"
   ]
  },
  {
   "cell_type": "code",
   "execution_count": 7,
   "metadata": {
    "colab": {},
    "colab_type": "code",
    "id": "zZSCtDI6YcKT"
   },
   "outputs": [],
   "source": [
    "import numpy as np\n",
    "from sklearn.datasets import load_boston\n",
    "from sklearn.metrics import mean_squared_error"
   ]
  },
  {
   "cell_type": "markdown",
   "metadata": {
    "colab_type": "text",
    "id": "h2Y1Z1DoYcKZ"
   },
   "source": [
    " <li> Load the boston house dataset </li>"
   ]
  },
  {
   "cell_type": "code",
   "execution_count": 8,
   "metadata": {
    "colab": {},
    "colab_type": "code",
    "id": "wBWRNKCDYcKb"
   },
   "outputs": [],
   "source": [
    "boston = load_boston()\n",
    "x=boston.data #independent variables\n",
    "y=boston.target #target variable"
   ]
  },
  {
   "cell_type": "code",
   "execution_count": 9,
   "metadata": {
    "colab": {},
    "colab_type": "code",
    "id": "DTbK20-mWYHU",
    "outputId": "b473b251-a104-44df-f6c3-3427184c9042"
   },
   "outputs": [
    {
     "data": {
      "text/plain": [
       "(506, 13)"
      ]
     },
     "execution_count": 9,
     "metadata": {},
     "output_type": "execute_result"
    }
   ],
   "source": [
    "x.shape"
   ]
  },
  {
   "cell_type": "code",
   "execution_count": 10,
   "metadata": {},
   "outputs": [
    {
     "data": {
      "text/plain": [
       "9.188011545278203"
      ]
     },
     "execution_count": 10,
     "metadata": {},
     "output_type": "execute_result"
    }
   ],
   "source": [
    "np.std(y)"
   ]
  },
  {
   "cell_type": "markdown",
   "metadata": {
    "colab_type": "text",
    "id": "JJ_FwP7xYcKg"
   },
   "source": [
    "### Task: 1\n",
    "<font color='red'><b>Step 1 Creating samples: </b></font> Randomly create 30 samples from the whole boston data points.\n",
    "<ol>\n",
    "<li>Creating each sample: Consider any random 303(60% of 506) data points from whole data set and then replicate any 203 points from the sampled points</li>\n",
    "<li>Ex: For better understanding of this procedure lets check this examples, assume we have 10 data points [1,2,3,4,5,6,7,8,9,10], first we take 6 data points randomly consider we have selected [4, 5, 7, 8, 9, 3] now we will replciate 4 points from [4, 5, 7, 8, 9, 3], consder they are [5, 8, 3,7] so our final sample will be [4, 5, 7, 8, 9, 3, 5, 8, 3,7]</li>\n",
    "<li> we create 30 samples like this </li>\n",
    "<li> Note that as a part of the Bagging when you are taking the random samples make sure each of the sample will have                different set of columns</li>\n",
    "<li> Ex: assume we have 10 columns for the first sample we will select [3, 4, 5, 9, 1, 2] and for the second sample [7, 9, 1, 4, 5, 6, 2] and so on...</li>\n",
    "<li> Make sure each sample will have atleast 3 feautres/columns/attributes</li>\n",
    "</ol>\n",
    "\n",
    "<font color='red'><b>Step 2 Building High Variance Models on each of the sample and finding train MSE value:</b></font> Build a DecisionTreeRegressor on each of the sample.\n",
    "<ol><li>Build a regression trees on each of 30 samples.</li>\n",
    "<li>computed the predicted values of each data point(506 data points) in your corpus.</li>\n",
    "<li> predicted house price of $i^{th}$ data point $y^{i}_{pred} =  \\frac{1}{30}\\sum_{k=1}^{30}(\\text{predicted value of } x^{i} \\text{ with } k^{th} \\text{ model})$.</li>\n",
    "<li>Now calculate the $MSE =  \\frac{1}{506}\\sum_{i=1}^{506}(y^{i} - y^{i}_{pred})^{2}$.</li>\n",
    "</ol>\n",
    "\n",
    "<font color='red'><b>Step 3 Calculating the OOB score :</b></font>\n",
    "<ol>\n",
    "<li>Computed the predicted values of each data point(506 data points) in your corpus.</li>\n",
    "<li>Predicted house price of $i^{th}$ data point $y^{i}_{pred} =  \\frac{1}{k}\\sum_{\\text{k= model which was buit on samples not included } x^{i}}(\\text{predicted value of } x^{i} \\text{ with } k^{th} \\text{ model})$.</li>\n",
    "<li>Now calculate the $OOB Score =  \\frac{1}{506}\\sum_{i=1}^{506}(y^{i} - y^{i}_{pred})^{2}$.</li>\n",
    "</ol>\n",
    "\n",
    "### Task: 2\n",
    "<pre>\n",
    "<font color='red'><b>Computing CI of OOB Score and Train MSE</b></font>\n",
    "<ol>\n",
    "<li> Repeat Task 1 for 35 times, and for each iteration store the Train MSE and OOB score </li>\n",
    "<li> After this we will have 35 Train MSE values and 35 OOB scores </li>\n",
    "<li> using these 35 values (assume like a sample) find the confidence intravels of MSE and OOB Score </li>\n",
    "<li> you need to report CI of MSE and CI of OOB Score </li>\n",
    "<li> Note: Refer the Central_Limit_theorem.ipynb to check how to find the confidence intravel</li>\n",
    "</ol>\n",
    "</pre>\n",
    "### Task: 3\n",
    "<pre>\n",
    "<font color='red'><b>Given a single query point predict the price of house.</b></font>\n",
    "\n",
    "<li>Consider xq= [0.18,20.0,5.00,0.0,0.421,5.60,72.2,7.95,7.0,30.0,19.1,372.13,18.60] Predict the house price for this point as mentioned in the step 2 of Task 1. </li>\n",
    "</pre>"
   ]
  },
  {
   "cell_type": "code",
   "execution_count": 11,
   "metadata": {
    "scrolled": true
   },
   "outputs": [
    {
     "name": "stdout",
     "output_type": "stream",
     "text": [
      "(506,)\n",
      "(289,)\n",
      "(7,)\n"
     ]
    }
   ],
   "source": [
    "import random \n",
    "\n",
    "row_indices_iob = []\n",
    "row_indices_oob = []\n",
    "col_indices     = []\n",
    "\n",
    "for i in range(30):\n",
    "    iob_indices = np.random.choice(range(506),303)\n",
    "    iob_indices = np.hstack([iob_indices,np.random.choice(iob_indices,size=203)])\n",
    "    col_index = np.array(random.sample(range(13),random.randint(3,13)))\n",
    "    row_indices_iob.append(iob_indices) \n",
    "    col_indices.append(col_index)\n",
    "    oob_indices = np.setdiff1d(range(506),iob_indices)\n",
    "    row_indices_oob.append(oob_indices)\n",
    "print(row_indices_iob[29].shape)\n",
    "print(row_indices_oob[29].shape)\n",
    "print(col_indices[29].shape)"
   ]
  },
  {
   "cell_type": "code",
   "execution_count": 12,
   "metadata": {},
   "outputs": [
    {
     "name": "stdout",
     "output_type": "stream",
     "text": [
      "4.1193550797833405\n"
     ]
    }
   ],
   "source": [
    "from sklearn.tree import DecisionTreeRegressor\n",
    "Y_pred = [0 for i in range(506)]\n",
    "for i in range(30):\n",
    "    clf = DecisionTreeRegressor()\n",
    "    X_train = x[row_indices_iob[i][:,None],col_indices[i]]\n",
    "    Y_train = y[row_indices_iob[i]]\n",
    "    clf.fit(X_train,Y_train)\n",
    "    Y_pred += clf.predict(x[:,col_indices[i]])\n",
    "Y_pred = Y_pred/30\n",
    "\n",
    "errors = (y-Y_pred)**2\n",
    "MSE = errors.sum()/506\n",
    "print(MSE)"
   ]
  },
  {
   "cell_type": "code",
   "execution_count": 13,
   "metadata": {},
   "outputs": [
    {
     "name": "stdout",
     "output_type": "stream",
     "text": [
      "12.945372616821892\n"
     ]
    }
   ],
   "source": [
    "Y_pred_OOB = [0 for i in range(506)]\n",
    "Ks = [0 for i in range(506)]\n",
    "\n",
    "for i in range(30):\n",
    "    k = 0\n",
    "    clf = DecisionTreeRegressor()\n",
    "    X_train = x[row_indices_iob[i][:,None],col_indices[i]]\n",
    "    Y_train = y[row_indices_iob[i]]\n",
    "    clf.fit(X_train,Y_train)\n",
    "\n",
    "    for j in range(506):\n",
    "        if j not in row_indices_iob[i]:\n",
    "            Ks[j] += 1\n",
    "            Y_pred_OOB[k] += clf.predict(x[j,col_indices[i]].reshape(1,-1)).item()\n",
    "        k += 1\n",
    "        \n",
    "Y_pred_OOB = [x/y for x,y in zip(Y_pred_OOB,Ks)]\n",
    "\n",
    "errors_OOB = (y-Y_pred_OOB)**2\n",
    "OOB = errors_OOB.sum()/506\n",
    "print(OOB)"
   ]
  },
  {
   "cell_type": "code",
   "execution_count": 14,
   "metadata": {},
   "outputs": [
    {
     "name": "stdout",
     "output_type": "stream",
     "text": [
      "[4.510852296716771, 4.189330259112869, 5.214461096850748, 4.79354266163864, 4.767504030567491, 5.078037014982554, 4.624828411326839, 4.1824797762248975, 3.651844505891209, 4.992748548809457, 4.740232363874002, 3.6810442399169157, 4.605977426046224, 4.812332023045917, 5.240589094106217, 4.183355715396974, 3.7810161725315714, 5.334102993267946, 4.152294388145975, 4.28591420314149, 5.593264095690863, 4.46609340849367, 3.3364926203282406, 3.797498331137462, 4.003545300834431, 4.265801784558097, 4.328816954585116, 5.382614254828624, 4.269726153034316, 3.7124685420192005, 4.194821733722997, 4.302505275516191, 4.332702901697309, 3.6395045500060013, 6.873706626099906]\n",
      "========================================================================================================================\n",
      "[13.982366283915601, 13.331783502107449, 15.949632693782616, 13.995275757740522, 14.674136841911404, 15.704447534394172, 14.116254415967221, 13.050230911791182, 11.774946726871528, 16.301209999778465, 14.793501347887302, 12.154460784112779, 15.085186126762357, 14.018684985482738, 13.748285408186545, 13.28200906369248, 12.783483636001817, 15.039348761467451, 13.325351108408437, 13.657578435203344, 14.422059741686054, 14.489720515740329, 11.641711477147776, 11.843562199349407, 12.897616672678414, 13.354260655038422, 14.525154303845843, 15.919373933422003, 14.693676248241127, 12.191688376494733, 13.398831566460627, 12.399181057493477, 14.046485900320807, 12.46928899117572, 18.933345994293667]\n"
     ]
    }
   ],
   "source": [
    "MSEs = []\n",
    "OOBs = []\n",
    "for _ in range(35):\n",
    "    row_indices_iob = []\n",
    "    row_indices_oob = []\n",
    "    col_indices     = []\n",
    "\n",
    "    for i in range(30):\n",
    "        iob_indices = np.random.choice(range(506),303)\n",
    "        iob_indices = np.hstack([iob_indices,np.random.choice(iob_indices,size=203)])\n",
    "        col_index = np.array(random.sample(range(13),random.randint(3,13)))\n",
    "        row_indices_iob.append(iob_indices) \n",
    "        col_indices.append(col_index)\n",
    "        oob_indices = np.setdiff1d(range(506),iob_indices)\n",
    "        row_indices_oob.append(oob_indices)\n",
    "    \n",
    "    Y_pred = [0 for i in range(506)]\n",
    "    for i in range(30):\n",
    "        clf = DecisionTreeRegressor()\n",
    "        X_train = x[row_indices_iob[i][:,None],col_indices[i]]\n",
    "        Y_train = y[row_indices_iob[i]]\n",
    "        clf.fit(X_train,Y_train)\n",
    "        Y_pred += clf.predict(x[:,col_indices[i]])\n",
    "    Y_pred = Y_pred/30\n",
    "\n",
    "    errors = (y-Y_pred)**2\n",
    "    MSE = errors.sum()/506\n",
    "    MSEs.append(MSE)\n",
    "    \n",
    "    Y_pred_OOB = [0 for i in range(506)]\n",
    "    Ks = [0 for i in range(506)]\n",
    "\n",
    "    for i in range(30):\n",
    "        k = 0\n",
    "        clf = DecisionTreeRegressor()\n",
    "        X_train = x[row_indices_iob[i][:,None],col_indices[i]]\n",
    "        Y_train = y[row_indices_iob[i]]\n",
    "        clf.fit(X_train,Y_train)\n",
    "\n",
    "        for j in range(506):\n",
    "            if j not in row_indices_iob[i]:\n",
    "                Ks[j] += 1\n",
    "                Y_pred_OOB[k] += clf.predict(x[j,col_indices[i]].reshape(1,-1)).item()\n",
    "            k += 1\n",
    "\n",
    "    Y_pred_OOB = [x/y for x,y in zip(Y_pred_OOB,Ks)]\n",
    "\n",
    "    errors_OOB = (y-Y_pred_OOB)**2\n",
    "    OOB = errors_OOB.sum()/506\n",
    "    OOBs.append(OOB)\n",
    "    \n",
    "print(MSEs)\n",
    "print('='*120)\n",
    "print(OOBs)"
   ]
  },
  {
   "cell_type": "code",
   "execution_count": 15,
   "metadata": {},
   "outputs": [
    {
     "name": "stdout",
     "output_type": "stream",
     "text": [
      "100\n",
      "100\n"
     ]
    }
   ],
   "source": [
    "MSE_means = []\n",
    "OOB_means = []\n",
    "for i in range(100):\n",
    "    sampled_mse = [MSEs[i] for i in random.choices(range(35),k=10)]\n",
    "    sampled_oob = [OOBs[i] for i in random.choices(range(35),k=10)]\n",
    "    MSE_means.append(np.mean(sampled_mse))\n",
    "    OOB_means.append(np.mean(sampled_oob))\n",
    "print(len(MSE_means))\n",
    "print(len(OOB_means))      "
   ]
  },
  {
   "cell_type": "code",
   "execution_count": 16,
   "metadata": {},
   "outputs": [
    {
     "data": {
      "text/plain": [
       "<Figure size 1000x500 with 2 Axes>"
      ]
     },
     "metadata": {},
     "output_type": "display_data"
    }
   ],
   "source": [
    "import seaborn as sns\n",
    "import matplotlib.pyplot as plt\n",
    "plt.figure(figsize=(10,5))\n",
    "plt.subplot(1,2,1)\n",
    "sns.distplot(MSE_means, bins=10)\n",
    "plt.subplot(1,2,2)\n",
    "sns.distplot(OOB_means, bins=10)\n",
    "plt.show()"
   ]
  },
  {
   "cell_type": "code",
   "execution_count": 17,
   "metadata": {},
   "outputs": [
    {
     "name": "stdout",
     "output_type": "stream",
     "text": [
      "4.471036901458916 0.06245034667997359\n",
      "13.903712034745208 0.13923431491577665\n"
     ]
    }
   ],
   "source": [
    "mse_exp_mean = np.mean(MSE_means)\n",
    "oob_exp_mean = np.mean(OOB_means)\n",
    "mse_std_dev = np.std(MSE_means)/np.sqrt(10)\n",
    "oob_std_dev = np.std(OOB_means)/np.sqrt(10)\n",
    "print(mse_exp_mean,mse_std_dev)\n",
    "print(oob_exp_mean,oob_std_dev)"
   ]
  },
  {
   "cell_type": "code",
   "execution_count": 18,
   "metadata": {},
   "outputs": [
    {
     "name": "stdout",
     "output_type": "stream",
     "text": [
      "+----------+-------------+--------------------+----------+-----------+\n",
      "| #samples | Sample Size |    Sample mean     | Left C.I | Right C.I |\n",
      "+----------+-------------+--------------------+----------+-----------+\n",
      "|    1     |      10     | 4.373694761424525  |  4.044   |   4.703   |\n",
      "|    2     |      10     | 4.492528695342234  |  4.201   |   4.785   |\n",
      "|    3     |      10     | 4.166551278334702  |  3.841   |   4.492   |\n",
      "|    4     |      10     | 4.454269219087342  |  4.082   |   4.826   |\n",
      "|    5     |      10     | 4.547602964771066  |  4.301   |   4.794   |\n",
      "|    6     |      10     |  4.56927199874877  |  3.953   |   5.185   |\n",
      "|    7     |      10     | 4.332107131721826  |  3.889   |   4.775   |\n",
      "|    8     |      10     | 4.690514882602174  |  4.148   |   5.233   |\n",
      "|    9     |      10     | 4.3448848261409445 |  4.119   |   4.571   |\n",
      "|    10    |      10     | 4.478483764456344  |  4.226   |   4.731   |\n",
      "|    11    |      10     | 4.571285533777495  |  4.228   |   4.915   |\n",
      "|    12    |      10     | 4.793285430065145  |  4.032   |   5.554   |\n",
      "|    13    |      10     | 4.661424036879608  |  4.245   |   5.078   |\n",
      "|    14    |      10     | 4.590320949714675  |   4.25   |    4.93   |\n",
      "|    15    |      10     |  4.24985321082099  |  3.858   |   4.642   |\n",
      "|    16    |      10     | 4.909504684254041  |  4.233   |   5.586   |\n",
      "|    17    |      10     | 4.534428997200236  |  4.176   |   4.893   |\n",
      "|    18    |      10     | 4.2430670731765385 |  3.869   |   4.617   |\n",
      "|    19    |      10     | 4.547848940525169  |  3.947   |   5.149   |\n",
      "|    20    |      10     | 4.364471944981389  |  3.718   |    5.01   |\n",
      "|    21    |      10     | 4.165039447231547  |  3.786   |   4.544   |\n",
      "|    22    |      10     | 4.439978725844488  |  4.194   |   4.686   |\n",
      "|    23    |      10     | 4.486419195421058  |  3.871   |   5.102   |\n",
      "|    24    |      10     | 4.684282573398854  |  4.102   |   5.266   |\n",
      "|    25    |      10     | 4.837733937120072  |  4.328   |   5.348   |\n",
      "|    26    |      10     | 4.382131834044186  |  4.183   |   4.581   |\n",
      "|    27    |      10     | 4.294586924823044  |  3.877   |   4.712   |\n",
      "|    28    |      10     | 4.500251021999945  |  4.127   |   4.874   |\n",
      "|    29    |      10     | 4.548168963927457  |  4.114   |   4.982   |\n",
      "|    30    |      10     | 4.453371881115784  |   4.06   |   4.847   |\n",
      "|    31    |      10     | 4.452907778630566  |  4.098   |   4.807   |\n",
      "|    32    |      10     | 4.443382596055584  |   4.25   |   4.636   |\n",
      "|    33    |      10     | 4.272259798861148  |  3.892   |   4.652   |\n",
      "|    34    |      10     | 4.522365566713442  |  4.165   |    4.88   |\n",
      "|    35    |      10     | 4.419774804826305  |  4.047   |   4.793   |\n",
      "|    36    |      10     | 4.3099747084775455 |  3.962   |   4.658   |\n",
      "|    37    |      10     | 4.0811335147938035 |  3.816   |   4.347   |\n",
      "|    38    |      10     | 4.511436219222269  |  4.205   |   4.818   |\n",
      "|    39    |      10     | 4.627395328850616  |  4.265   |   4.989   |\n",
      "|    40    |      10     | 4.419856995009507  |  4.053   |   4.787   |\n",
      "|    41    |      10     | 4.6769672129826585 |  4.348   |   5.006   |\n",
      "|    42    |      10     | 4.052336306704209  |  3.744   |   4.361   |\n",
      "|    43    |      10     | 4.642411017779283  |  4.099   |   5.185   |\n",
      "|    44    |      10     | 4.4311323290523585 |  4.127   |   4.735   |\n",
      "|    45    |      10     | 4.253448847246526  |  3.958   |   4.548   |\n",
      "|    46    |      10     | 4.421013164785936  |  4.119   |   4.723   |\n",
      "|    47    |      10     | 4.647735440276857  |  4.324   |   4.972   |\n",
      "|    48    |      10     | 4.630312471693217  |  4.089   |   5.171   |\n",
      "|    49    |      10     | 4.033823025780721  |   3.65   |   4.417   |\n",
      "|    50    |      10     | 4.692952923988097  |   4.11   |   5.276   |\n",
      "|    51    |      10     | 4.422977149004406  |  4.178   |   4.668   |\n",
      "|    52    |      10     | 4.449250831472691  |  4.113   |   4.786   |\n",
      "|    53    |      10     | 4.5927824498844965 |  4.077   |   5.108   |\n",
      "|    54    |      10     | 4.759006104228247  |  4.246   |   5.272   |\n",
      "|    55    |      10     | 4.662127225732538  |  4.097   |   5.227   |\n",
      "|    56    |      10     | 4.7680487138694145 |  4.274   |   5.263   |\n",
      "|    57    |      10     | 4.497183852563141  |  4.224   |    4.77   |\n",
      "|    58    |      10     | 5.033718461213422  |  4.386   |   5.681   |\n",
      "|    59    |      10     | 4.767464978779461  |  4.204   |   5.331   |\n",
      "|    60    |      10     | 4.4978920124315085 |  4.212   |   4.784   |\n",
      "|    61    |      10     | 4.387409610576871  |  4.043   |   4.732   |\n",
      "|    62    |      10     |  4.69617829437856  |  4.296   |   5.097   |\n",
      "|    63    |      10     | 4.3291601913749975 |  3.966   |   4.693   |\n",
      "|    64    |      10     | 4.420671494572915  |   4.0    |   4.841   |\n",
      "|    65    |      10     | 4.572029993060428  |  4.036   |   5.108   |\n",
      "|    66    |      10     | 4.066169248037712  |  3.704   |   4.428   |\n",
      "|    67    |      10     | 4.187524064269981  |  3.855   |    4.52   |\n",
      "|    68    |      10     | 4.538770928101722  |  4.105   |   4.973   |\n",
      "|    69    |      10     | 4.293880619336088  |  3.926   |   4.661   |\n",
      "|    70    |      10     | 4.728864527713382  |  4.339   |   5.119   |\n",
      "|    71    |      10     | 4.996618687024599  |  4.283   |   5.711   |\n",
      "|    72    |      10     | 4.566425283112312  |  4.173   |    4.96   |\n",
      "|    73    |      10     |  4.24004951618924  |  3.927   |   4.553   |\n",
      "|    74    |      10     | 4.7408444509638255 |  4.396   |   5.085   |\n",
      "|    75    |      10     | 4.505735034393579  |  4.168   |   4.843   |\n",
      "|    76    |      10     | 4.684663658788676  |  4.343   |   5.027   |\n",
      "|    77    |      10     | 4.3438349953850866 |  4.019   |   4.668   |\n",
      "|    78    |      10     | 4.755093221844588  |   4.46   |    5.05   |\n",
      "|    79    |      10     | 4.521615465868836  |  4.311   |   4.732   |\n",
      "|    80    |      10     | 4.329894991371636  |  4.058   |   4.601   |\n",
      "|    81    |      10     |  4.35297665454354  |  4.063   |   4.643   |\n",
      "|    82    |      10     | 4.866745591870973  |  4.228   |   5.506   |\n",
      "|    83    |      10     | 4.143354066017765  |  3.773   |   4.514   |\n",
      "|    84    |      10     | 4.333053895598537  |  4.108   |   4.558   |\n",
      "|    85    |      10     | 4.626577714889384  |  4.026   |   5.227   |\n",
      "|    86    |      10     | 4.598935773265816  |  4.169   |   5.028   |\n",
      "|    87    |      10     | 4.426619462052454  |   4.26   |   4.593   |\n",
      "|    88    |      10     | 4.154990130247339  |  3.809   |   4.501   |\n",
      "|    89    |      10     | 4.4203346384563655 |  4.049   |   4.792   |\n",
      "|    90    |      10     | 4.493080600362549  |  4.175   |   4.811   |\n",
      "|    91    |      10     | 4.559861655862707  |  4.229   |   4.891   |\n",
      "|    92    |      10     | 4.387488644322146  |  4.111   |   4.664   |\n",
      "|    93    |      10     | 4.465719653760877  |   4.1    |   4.831   |\n",
      "|    94    |      10     | 4.293735857651737  |  3.933   |   4.654   |\n",
      "|    95    |      10     | 4.721110971787047  |  4.381   |   5.061   |\n",
      "|    96    |      10     |  4.78002952241308  |  4.233   |   5.327   |\n",
      "|    97    |      10     | 4.901513210125961  |  4.381   |   5.422   |\n",
      "|    98    |      10     | 4.848524632701652  |  4.376   |   5.321   |\n",
      "|    99    |      10     | 4.427484690724695  |  4.129   |   4.726   |\n",
      "|   100    |      10     | 4.8409899403304815 |  4.448   |   5.234   |\n",
      "+----------+-------------+--------------------+----------+-----------+\n"
     ]
    }
   ],
   "source": [
    "#calculating 95% confidence interval\n",
    "from prettytable import PrettyTable\n",
    "table = PrettyTable()\n",
    "table = PrettyTable([\"#samples\", \"Sample Size\", \"Sample mean\",\"Left C.I\",\"Right C.I\"])\n",
    "for i in range(100):\n",
    "    sample=[MSEs[i] for i in random.choices(range(35),k=10)]\n",
    "    sample_mean = np.mean(sample)\n",
    "    sample_std =  np.std(sample)\n",
    "    sample_size = len(sample)\n",
    "    # here we are using sample standard deviation instead of population standard deviation\n",
    "    left_limit  = np.round(sample_mean - 2*(sample_std/np.sqrt(sample_size)), 3)\n",
    "    right_limit = np.round(sample_mean + 2*(sample_std/np.sqrt(sample_size)), 3)\n",
    "    row = []\n",
    "    row.append(i+1)\n",
    "    row.append(sample_size)\n",
    "    row.append(sample_mean)\n",
    "    row.append(left_limit)\n",
    "    row.append(right_limit)\n",
    "    table.add_row(row)\n",
    "print(table)"
   ]
  },
  {
   "cell_type": "code",
   "execution_count": 21,
   "metadata": {},
   "outputs": [
    {
     "ename": "Exception",
     "evalue": "Index (array([[482],\n       [131],\n       [148],\n       [313],\n       [321],\n       [ 40],\n       [411],\n       [503],\n       [330],\n       [294],\n       [274],\n       [193],\n       [167],\n       [215],\n       [505],\n       [159],\n       [247],\n       [136],\n       [375],\n       [247],\n       [279],\n       [325],\n       [342],\n       [491],\n       [314],\n       [231],\n       [187],\n       [489],\n       [461],\n       [504],\n       [ 57],\n       [281],\n       [439],\n       [431],\n       [333],\n       [ 22],\n       [179],\n       [ 78],\n       [ 55],\n       [ 82],\n       [259],\n       [304],\n       [236],\n       [ 32],\n       [ 55],\n       [ 82],\n       [ 22],\n       [ 33],\n       [182],\n       [465],\n       [392],\n       [505],\n       [103],\n       [280],\n       [178],\n       [200],\n       [355],\n       [154],\n       [258],\n       [251],\n       [181],\n       [399],\n       [384],\n       [ 25],\n       [253],\n       [ 34],\n       [178],\n       [360],\n       [469],\n       [283],\n       [ 66],\n       [330],\n       [433],\n       [309],\n       [279],\n       [390],\n       [166],\n       [278],\n       [406],\n       [154],\n       [126],\n       [273],\n       [ 70],\n       [144],\n       [ 35],\n       [392],\n       [127],\n       [108],\n       [ 11],\n       [337],\n       [134],\n       [492],\n       [314],\n       [366],\n       [272],\n       [174],\n       [ 55],\n       [436],\n       [213],\n       [143],\n       [500],\n       [ 99],\n       [327],\n       [204],\n       [202],\n       [323],\n       [178],\n       [288],\n       [499],\n       [370],\n       [246],\n       [203],\n       [ 60],\n       [ 94],\n       [ 37],\n       [403],\n       [ 95],\n       [169],\n       [279],\n       [467],\n       [425],\n       [262],\n       [186],\n       [470],\n       [ 43],\n       [261],\n       [149],\n       [254],\n       [ 39],\n       [203],\n       [403],\n       [154],\n       [180],\n       [114],\n       [420],\n       [259],\n       [466],\n       [ 81],\n       [ 58],\n       [328],\n       [438],\n       [480],\n       [283],\n       [218],\n       [282],\n       [147],\n       [492],\n       [300],\n       [ 39],\n       [484],\n       [195],\n       [195],\n       [458],\n       [362],\n       [276],\n       [158],\n       [ 73],\n       [449],\n       [ 49],\n       [480],\n       [466],\n       [203],\n       [274],\n       [294],\n       [220],\n       [417],\n       [145],\n       [405],\n       [185],\n       [402],\n       [291],\n       [228],\n       [189],\n       [202],\n       [ 74],\n       [131],\n       [ 66],\n       [501],\n       [438],\n       [348],\n       [399],\n       [453],\n       [409],\n       [247],\n       [456],\n       [502],\n       [ 88],\n       [467],\n       [ 74],\n       [462],\n       [380],\n       [362],\n       [  5],\n       [ 13],\n       [471],\n       [252],\n       [416],\n       [131],\n       [158],\n       [ 40],\n       [171],\n       [202],\n       [239],\n       [ 75],\n       [  2],\n       [254],\n       [212],\n       [423],\n       [ 22],\n       [209],\n       [249],\n       [434],\n       [251],\n       [351],\n       [ 55],\n       [ 18],\n       [260],\n       [243],\n       [272],\n       [381],\n       [215],\n       [345],\n       [364],\n       [478],\n       [449],\n       [189],\n       [325],\n       [ 54],\n       [  1],\n       [137],\n       [ 39],\n       [365],\n       [428],\n       [408],\n       [110],\n       [493],\n       [246],\n       [ 52],\n       [482],\n       [194],\n       [341],\n       [439],\n       [ 32],\n       [210],\n       [292],\n       [204],\n       [  7],\n       [ 12],\n       [235],\n       [355],\n       [237],\n       [496],\n       [458],\n       [ 59],\n       [ 66],\n       [ 89],\n       [105],\n       [353],\n       [ 52],\n       [193],\n       [425],\n       [492],\n       [  3],\n       [ 88],\n       [390],\n       [ 80],\n       [ 53],\n       [187],\n       [ 88],\n       [109],\n       [133],\n       [408],\n       [ 60],\n       [420],\n       [416],\n       [163],\n       [229],\n       [ 74],\n       [282],\n       [381],\n       [ 26],\n       [113],\n       [ 82],\n       [438],\n       [286],\n       [ 87],\n       [ 28],\n       [342],\n       [238],\n       [151],\n       [183],\n       [268],\n       [ 28],\n       [201],\n       [211],\n       [ 13],\n       [226],\n       [ 36],\n       [ 69],\n       [207],\n       [ 82],\n       [400],\n       [156],\n       [ 13],\n       [ 82],\n       [202],\n       [ 55],\n       [423],\n       [ 81],\n       [428],\n       [458],\n       [272],\n       [ 53],\n       [ 39],\n       [402],\n       [178],\n       [504],\n       [114],\n       [ 60],\n       [438],\n       [469],\n       [365],\n       [203],\n       [314],\n       [ 36],\n       [342],\n       [220],\n       [493],\n       [  5],\n       [229],\n       [204],\n       [167],\n       [200],\n       [406],\n       [166],\n       [321],\n       [360],\n       [144],\n       [193],\n       [178],\n       [500],\n       [ 18],\n       [209],\n       [300],\n       [417],\n       [ 94],\n       [ 87],\n       [195],\n       [ 66],\n       [ 88],\n       [260],\n       [151],\n       [202],\n       [500],\n       [  5],\n       [276],\n       [325],\n       [ 39],\n       [282],\n       [272],\n       [204],\n       [194],\n       [ 82],\n       [505],\n       [113],\n       [110],\n       [274],\n       [253],\n       [109],\n       [131],\n       [236],\n       [108],\n       [178],\n       [ 49],\n       [492],\n       [180],\n       [381],\n       [408],\n       [259],\n       [503],\n       [390],\n       [482],\n       [279],\n       [283],\n       [189],\n       [502],\n       [180],\n       [499],\n       [185],\n       [268],\n       [260],\n       [380],\n       [399],\n       [158],\n       [ 35],\n       [467],\n       [207],\n       [ 33],\n       [ 43],\n       [149],\n       [259],\n       [ 78],\n       [493],\n       [403],\n       [416],\n       [342],\n       [ 74],\n       [237],\n       [403],\n       [ 69],\n       [425],\n       [351],\n       [381],\n       [209],\n       [ 60],\n       [103],\n       [202],\n       [ 37],\n       [131],\n       [ 87],\n       [  5],\n       [158],\n       [294],\n       [480],\n       [282],\n       [403],\n       [126],\n       [458],\n       [480],\n       [ 12],\n       [399],\n       [381],\n       [ 99],\n       [195],\n       [276],\n       [203],\n       [438],\n       [ 39],\n       [  2],\n       [399],\n       [480],\n       [ 66],\n       [492],\n       [392],\n       [ 53],\n       [280],\n       [209],\n       [259],\n       [ 95],\n       [294],\n       [491],\n       [321],\n       [ 73],\n       [180],\n       [  2],\n       [ 26],\n       [148],\n       [  2],\n       [145],\n       [226],\n       [193],\n       [465],\n       [ 88],\n       [ 82],\n       [333],\n       [143],\n       [381],\n       [342],\n       [218],\n       [466],\n       [470],\n       [392],\n       [235],\n       [182],\n       [282],\n       [247],\n       [493],\n       [  3],\n       [325],\n       [156],\n       [309],\n       [ 49],\n       [ 53],\n       [147],\n       [178],\n       [400],\n       [229],\n       [210],\n       [272],\n       [163],\n       [291],\n       [409],\n       [247],\n       [283],\n       [333],\n       [ 25],\n       [ 58],\n       [158],\n       [272],\n       [449],\n       [249],\n       [469],\n       [ 66],\n       [501],\n       [203],\n       [183]]), array([10,  2, 12,  4,  7,  9,  3,  6,  1,  5,  8,  0])) is invalid, must be an integer or slice",
     "output_type": "error",
     "traceback": [
      "\u001b[1;31m---------------------------------------------------------------------------\u001b[0m",
      "\u001b[1;31mException\u001b[0m                                 Traceback (most recent call last)",
      "\u001b[1;32m<ipython-input-21-d06b7391b03b>\u001b[0m in \u001b[0;36m<module>\u001b[1;34m\u001b[0m\n\u001b[0;32m      3\u001b[0m \u001b[1;32mfor\u001b[0m \u001b[0mi\u001b[0m \u001b[1;32min\u001b[0m \u001b[0mrange\u001b[0m\u001b[1;33m(\u001b[0m\u001b[1;36m30\u001b[0m\u001b[1;33m)\u001b[0m\u001b[1;33m:\u001b[0m\u001b[1;33m\u001b[0m\u001b[1;33m\u001b[0m\u001b[0m\n\u001b[0;32m      4\u001b[0m     \u001b[0mclf\u001b[0m \u001b[1;33m=\u001b[0m \u001b[0mDecisionTreeRegressor\u001b[0m\u001b[1;33m(\u001b[0m\u001b[1;33m)\u001b[0m\u001b[1;33m\u001b[0m\u001b[1;33m\u001b[0m\u001b[0m\n\u001b[1;32m----> 5\u001b[1;33m     \u001b[0mX_train\u001b[0m \u001b[1;33m=\u001b[0m \u001b[0mx\u001b[0m\u001b[1;33m[\u001b[0m\u001b[0mrow_indices_iob\u001b[0m\u001b[1;33m[\u001b[0m\u001b[0mi\u001b[0m\u001b[1;33m]\u001b[0m\u001b[1;33m[\u001b[0m\u001b[1;33m:\u001b[0m\u001b[1;33m,\u001b[0m\u001b[1;32mNone\u001b[0m\u001b[1;33m]\u001b[0m\u001b[1;33m,\u001b[0m\u001b[0mcol_indices\u001b[0m\u001b[1;33m[\u001b[0m\u001b[0mi\u001b[0m\u001b[1;33m]\u001b[0m\u001b[1;33m]\u001b[0m\u001b[1;33m\u001b[0m\u001b[1;33m\u001b[0m\u001b[0m\n\u001b[0m\u001b[0;32m      6\u001b[0m     \u001b[0mY_train\u001b[0m \u001b[1;33m=\u001b[0m \u001b[0my\u001b[0m\u001b[1;33m[\u001b[0m\u001b[0mrow_indices_iob\u001b[0m\u001b[1;33m[\u001b[0m\u001b[0mi\u001b[0m\u001b[1;33m]\u001b[0m\u001b[1;33m]\u001b[0m\u001b[1;33m\u001b[0m\u001b[1;33m\u001b[0m\u001b[0m\n\u001b[0;32m      7\u001b[0m     \u001b[0mclf\u001b[0m\u001b[1;33m.\u001b[0m\u001b[0mfit\u001b[0m\u001b[1;33m(\u001b[0m\u001b[0mX_train\u001b[0m\u001b[1;33m,\u001b[0m\u001b[0mY_train\u001b[0m\u001b[1;33m)\u001b[0m\u001b[1;33m\u001b[0m\u001b[1;33m\u001b[0m\u001b[0m\n",
      "\u001b[1;32mC:\\Program Files\\Anaconda3\\lib\\site-packages\\prettytable.py\u001b[0m in \u001b[0;36m__getitem__\u001b[1;34m(self, index)\u001b[0m\n\u001b[0;32m    230\u001b[0m             \u001b[0mnew\u001b[0m\u001b[1;33m.\u001b[0m\u001b[0madd_row\u001b[0m\u001b[1;33m(\u001b[0m\u001b[0mself\u001b[0m\u001b[1;33m.\u001b[0m\u001b[0m_rows\u001b[0m\u001b[1;33m[\u001b[0m\u001b[0mindex\u001b[0m\u001b[1;33m]\u001b[0m\u001b[1;33m)\u001b[0m\u001b[1;33m\u001b[0m\u001b[1;33m\u001b[0m\u001b[0m\n\u001b[0;32m    231\u001b[0m         \u001b[1;32melse\u001b[0m\u001b[1;33m:\u001b[0m\u001b[1;33m\u001b[0m\u001b[1;33m\u001b[0m\u001b[0m\n\u001b[1;32m--> 232\u001b[1;33m             \u001b[1;32mraise\u001b[0m \u001b[0mException\u001b[0m\u001b[1;33m(\u001b[0m\u001b[1;34m\"Index %s is invalid, must be an integer or slice\"\u001b[0m \u001b[1;33m%\u001b[0m \u001b[0mstr\u001b[0m\u001b[1;33m(\u001b[0m\u001b[0mindex\u001b[0m\u001b[1;33m)\u001b[0m\u001b[1;33m)\u001b[0m\u001b[1;33m\u001b[0m\u001b[1;33m\u001b[0m\u001b[0m\n\u001b[0m\u001b[0;32m    233\u001b[0m         \u001b[1;32mreturn\u001b[0m \u001b[0mnew\u001b[0m\u001b[1;33m\u001b[0m\u001b[1;33m\u001b[0m\u001b[0m\n\u001b[0;32m    234\u001b[0m \u001b[1;33m\u001b[0m\u001b[0m\n",
      "\u001b[1;31mException\u001b[0m: Index (array([[482],\n       [131],\n       [148],\n       [313],\n       [321],\n       [ 40],\n       [411],\n       [503],\n       [330],\n       [294],\n       [274],\n       [193],\n       [167],\n       [215],\n       [505],\n       [159],\n       [247],\n       [136],\n       [375],\n       [247],\n       [279],\n       [325],\n       [342],\n       [491],\n       [314],\n       [231],\n       [187],\n       [489],\n       [461],\n       [504],\n       [ 57],\n       [281],\n       [439],\n       [431],\n       [333],\n       [ 22],\n       [179],\n       [ 78],\n       [ 55],\n       [ 82],\n       [259],\n       [304],\n       [236],\n       [ 32],\n       [ 55],\n       [ 82],\n       [ 22],\n       [ 33],\n       [182],\n       [465],\n       [392],\n       [505],\n       [103],\n       [280],\n       [178],\n       [200],\n       [355],\n       [154],\n       [258],\n       [251],\n       [181],\n       [399],\n       [384],\n       [ 25],\n       [253],\n       [ 34],\n       [178],\n       [360],\n       [469],\n       [283],\n       [ 66],\n       [330],\n       [433],\n       [309],\n       [279],\n       [390],\n       [166],\n       [278],\n       [406],\n       [154],\n       [126],\n       [273],\n       [ 70],\n       [144],\n       [ 35],\n       [392],\n       [127],\n       [108],\n       [ 11],\n       [337],\n       [134],\n       [492],\n       [314],\n       [366],\n       [272],\n       [174],\n       [ 55],\n       [436],\n       [213],\n       [143],\n       [500],\n       [ 99],\n       [327],\n       [204],\n       [202],\n       [323],\n       [178],\n       [288],\n       [499],\n       [370],\n       [246],\n       [203],\n       [ 60],\n       [ 94],\n       [ 37],\n       [403],\n       [ 95],\n       [169],\n       [279],\n       [467],\n       [425],\n       [262],\n       [186],\n       [470],\n       [ 43],\n       [261],\n       [149],\n       [254],\n       [ 39],\n       [203],\n       [403],\n       [154],\n       [180],\n       [114],\n       [420],\n       [259],\n       [466],\n       [ 81],\n       [ 58],\n       [328],\n       [438],\n       [480],\n       [283],\n       [218],\n       [282],\n       [147],\n       [492],\n       [300],\n       [ 39],\n       [484],\n       [195],\n       [195],\n       [458],\n       [362],\n       [276],\n       [158],\n       [ 73],\n       [449],\n       [ 49],\n       [480],\n       [466],\n       [203],\n       [274],\n       [294],\n       [220],\n       [417],\n       [145],\n       [405],\n       [185],\n       [402],\n       [291],\n       [228],\n       [189],\n       [202],\n       [ 74],\n       [131],\n       [ 66],\n       [501],\n       [438],\n       [348],\n       [399],\n       [453],\n       [409],\n       [247],\n       [456],\n       [502],\n       [ 88],\n       [467],\n       [ 74],\n       [462],\n       [380],\n       [362],\n       [  5],\n       [ 13],\n       [471],\n       [252],\n       [416],\n       [131],\n       [158],\n       [ 40],\n       [171],\n       [202],\n       [239],\n       [ 75],\n       [  2],\n       [254],\n       [212],\n       [423],\n       [ 22],\n       [209],\n       [249],\n       [434],\n       [251],\n       [351],\n       [ 55],\n       [ 18],\n       [260],\n       [243],\n       [272],\n       [381],\n       [215],\n       [345],\n       [364],\n       [478],\n       [449],\n       [189],\n       [325],\n       [ 54],\n       [  1],\n       [137],\n       [ 39],\n       [365],\n       [428],\n       [408],\n       [110],\n       [493],\n       [246],\n       [ 52],\n       [482],\n       [194],\n       [341],\n       [439],\n       [ 32],\n       [210],\n       [292],\n       [204],\n       [  7],\n       [ 12],\n       [235],\n       [355],\n       [237],\n       [496],\n       [458],\n       [ 59],\n       [ 66],\n       [ 89],\n       [105],\n       [353],\n       [ 52],\n       [193],\n       [425],\n       [492],\n       [  3],\n       [ 88],\n       [390],\n       [ 80],\n       [ 53],\n       [187],\n       [ 88],\n       [109],\n       [133],\n       [408],\n       [ 60],\n       [420],\n       [416],\n       [163],\n       [229],\n       [ 74],\n       [282],\n       [381],\n       [ 26],\n       [113],\n       [ 82],\n       [438],\n       [286],\n       [ 87],\n       [ 28],\n       [342],\n       [238],\n       [151],\n       [183],\n       [268],\n       [ 28],\n       [201],\n       [211],\n       [ 13],\n       [226],\n       [ 36],\n       [ 69],\n       [207],\n       [ 82],\n       [400],\n       [156],\n       [ 13],\n       [ 82],\n       [202],\n       [ 55],\n       [423],\n       [ 81],\n       [428],\n       [458],\n       [272],\n       [ 53],\n       [ 39],\n       [402],\n       [178],\n       [504],\n       [114],\n       [ 60],\n       [438],\n       [469],\n       [365],\n       [203],\n       [314],\n       [ 36],\n       [342],\n       [220],\n       [493],\n       [  5],\n       [229],\n       [204],\n       [167],\n       [200],\n       [406],\n       [166],\n       [321],\n       [360],\n       [144],\n       [193],\n       [178],\n       [500],\n       [ 18],\n       [209],\n       [300],\n       [417],\n       [ 94],\n       [ 87],\n       [195],\n       [ 66],\n       [ 88],\n       [260],\n       [151],\n       [202],\n       [500],\n       [  5],\n       [276],\n       [325],\n       [ 39],\n       [282],\n       [272],\n       [204],\n       [194],\n       [ 82],\n       [505],\n       [113],\n       [110],\n       [274],\n       [253],\n       [109],\n       [131],\n       [236],\n       [108],\n       [178],\n       [ 49],\n       [492],\n       [180],\n       [381],\n       [408],\n       [259],\n       [503],\n       [390],\n       [482],\n       [279],\n       [283],\n       [189],\n       [502],\n       [180],\n       [499],\n       [185],\n       [268],\n       [260],\n       [380],\n       [399],\n       [158],\n       [ 35],\n       [467],\n       [207],\n       [ 33],\n       [ 43],\n       [149],\n       [259],\n       [ 78],\n       [493],\n       [403],\n       [416],\n       [342],\n       [ 74],\n       [237],\n       [403],\n       [ 69],\n       [425],\n       [351],\n       [381],\n       [209],\n       [ 60],\n       [103],\n       [202],\n       [ 37],\n       [131],\n       [ 87],\n       [  5],\n       [158],\n       [294],\n       [480],\n       [282],\n       [403],\n       [126],\n       [458],\n       [480],\n       [ 12],\n       [399],\n       [381],\n       [ 99],\n       [195],\n       [276],\n       [203],\n       [438],\n       [ 39],\n       [  2],\n       [399],\n       [480],\n       [ 66],\n       [492],\n       [392],\n       [ 53],\n       [280],\n       [209],\n       [259],\n       [ 95],\n       [294],\n       [491],\n       [321],\n       [ 73],\n       [180],\n       [  2],\n       [ 26],\n       [148],\n       [  2],\n       [145],\n       [226],\n       [193],\n       [465],\n       [ 88],\n       [ 82],\n       [333],\n       [143],\n       [381],\n       [342],\n       [218],\n       [466],\n       [470],\n       [392],\n       [235],\n       [182],\n       [282],\n       [247],\n       [493],\n       [  3],\n       [325],\n       [156],\n       [309],\n       [ 49],\n       [ 53],\n       [147],\n       [178],\n       [400],\n       [229],\n       [210],\n       [272],\n       [163],\n       [291],\n       [409],\n       [247],\n       [283],\n       [333],\n       [ 25],\n       [ 58],\n       [158],\n       [272],\n       [449],\n       [249],\n       [469],\n       [ 66],\n       [501],\n       [203],\n       [183]]), array([10,  2, 12,  4,  7,  9,  3,  6,  1,  5,  8,  0])) is invalid, must be an integer or slice"
     ]
    }
   ],
   "source": [
    "xq= np.array([0.18,20.0,5.00,0.0,0.421,5.60,72.2,7.95,7.0,30.0,19.1,372.13,18.60])\n",
    "Y_pred = 0\n",
    "for i in range(30):\n",
    "    clf = DecisionTreeRegressor()\n",
    "    X_train = x[row_indices_iob[i][:,None],col_indices[i]]\n",
    "    Y_train = y[row_indices_iob[i]]\n",
    "    clf.fit(X_train,Y_train)\n",
    "    Y_pred += clf.predict(xq[col_indices[i]].reshape(1,-1)).item()\n",
    "Y_pred = Y_pred/30\n",
    "\n",
    "errors = (y-Y_pred)**2\n",
    "MSE = errors.sum()/506\n",
    "print(MSE)"
   ]
  },
  {
   "cell_type": "code",
   "execution_count": null,
   "metadata": {},
   "outputs": [],
   "source": [
    "import numpy as np\n",
    "xq= np.array([0.18,20.0,5.00,0.0,0.421,5.60,72.2,7.95,7.0,30.0,19.1,372.13,18.60])\n",
    "xq[[1,2,3]].reshape(1,-1).shape"
   ]
  },
  {
   "cell_type": "code",
   "execution_count": null,
   "metadata": {},
   "outputs": [],
   "source": []
  }
 ],
 "metadata": {
  "colab": {
   "collapsed_sections": [],
   "name": "Bootstrap_Random_Forest_instructions.ipynb",
   "provenance": []
  },
  "kernelspec": {
   "display_name": "Python 3",
   "language": "python",
   "name": "python3"
  },
  "language_info": {
   "codemirror_mode": {
    "name": "ipython",
    "version": 3
   },
   "file_extension": ".py",
   "mimetype": "text/x-python",
   "name": "python",
   "nbconvert_exporter": "python",
   "pygments_lexer": "ipython3",
   "version": "3.7.4"
  }
 },
 "nbformat": 4,
 "nbformat_minor": 1
}
