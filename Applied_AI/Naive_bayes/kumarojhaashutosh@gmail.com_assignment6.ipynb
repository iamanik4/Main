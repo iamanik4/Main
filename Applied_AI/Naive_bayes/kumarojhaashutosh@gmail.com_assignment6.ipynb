{
 "cells": [
  {
   "cell_type": "markdown",
   "metadata": {
    "colab_type": "text",
    "id": "Dnubs-Nnb3cw"
   },
   "source": [
    "# Assignment 6: Apply NB"
   ]
  },
  {
   "cell_type": "markdown",
   "metadata": {
    "colab_type": "text",
    "id": "12krXa2pb3c1"
   },
   "source": [
    "<ol>\n",
    "    <li><strong>Apply Multinomial NB on these feature sets</strong>\n",
    "        <ul>\n",
    "            <li><font color='red'>Set 1</font>: categorical, numerical features + preprocessed_essay (BOW)</li>\n",
    "            <li><font color='red'>Set 2</font>: categorical, numerical features + preprocessed_essay (TFIDF)</li>\n",
    "        </ul>\n",
    "    </li>\n",
    "    <li><strong>The hyper paramter tuning(find best alpha:smoothing parameter)</strong>\n",
    "        <ul>\n",
    "    <li>Find the best hyper parameter which will give the maximum <a href='https://www.appliedaicourse.com/course/applied-ai-course-online/lessons/receiver-operating-characteristic-curve-roc-curve-and-auc-1/'>AUC</a> value</li>\n",
    "    <li>find the best hyper paramter using k-fold cross validation(use GridsearchCV or RandomsearchCV)/simple cross validation data (write for loop to iterate over hyper parameter values)</li>\n",
    "    <li></li>\n",
    "        </ul>\n",
    "    </li>\n",
    "    <li>\n",
    "    <strong>Representation of results</strong>\n",
    "        <ul>\n",
    "    <li>You need to plot the performance of model both on train data and cross validation data for each hyper parameter, like shown in the figure\n",
    "    <img src='https://i.imgur.com/hUv6aEy.jpg' width=300px></li>\n",
    "    <li>Once after you found the best hyper parameter, you need to train your model with it, and find the AUC on test data and plot the ROC curve on both train and test.\n",
    "    <img src='https://i.imgur.com/wMQDTFe.jpg' width=300px></li>\n",
    "    <li>Along with plotting ROC curve, you need to print the <a href='https://www.appliedaicourse.com/course/applied-ai-course-online/lessons/confusion-matrix-tpr-fpr-fnr-tnr-1/'>confusion matrix</a> with predicted and original labels of test data points\n",
    "    <img src='https://i.imgur.com/IdN5Ctv.png' width=300px></li>\n",
    "        </ul>\n",
    "    </li>\n",
    "    <li>\n",
    "fine the top 20 features from either from feature <font color='red'>Set 1</font> or feature <font color='red'>Set 2</font> using absolute values of `feature_log_prob_ ` parameter of `MultinomialNB` \n",
    "(https://scikit-learn.org/stable/modules/generated/sklearn.naive_bayes.MultinomialNB.html) and print their corresponding feature names\n",
    "    </li>\n",
    "    <li>You need to summarize the results at the end of the notebook, summarize it in the table format\n",
    "        <img src='http://i.imgur.com/YVpIGGE.jpg' width=400px>\n",
    "    </li>\n",
    "</ol>"
   ]
  },
  {
   "cell_type": "markdown",
   "metadata": {
    "colab_type": "text",
    "id": "inzYCIaib3c3"
   },
   "source": [
    "<h1>2. Naive Bayes </h1>"
   ]
  },
  {
   "cell_type": "markdown",
   "metadata": {
    "colab_type": "text",
    "id": "FYqCIxzFb3c5"
   },
   "source": [
    "## 1.1 Loading Data"
   ]
  },
  {
   "cell_type": "code",
   "execution_count": 26,
   "metadata": {
    "colab": {},
    "colab_type": "code",
    "id": "dA1jknyqb3c_"
   },
   "outputs": [],
   "source": [
    "import pandas\n",
    "data = pandas.read_csv('preprocessed_data.csv')"
   ]
  },
  {
   "cell_type": "code",
   "execution_count": 27,
   "metadata": {},
   "outputs": [
    {
     "data": {
      "text/html": [
       "<div>\n",
       "<style scoped>\n",
       "    .dataframe tbody tr th:only-of-type {\n",
       "        vertical-align: middle;\n",
       "    }\n",
       "\n",
       "    .dataframe tbody tr th {\n",
       "        vertical-align: top;\n",
       "    }\n",
       "\n",
       "    .dataframe thead th {\n",
       "        text-align: right;\n",
       "    }\n",
       "</style>\n",
       "<table border=\"1\" class=\"dataframe\">\n",
       "  <thead>\n",
       "    <tr style=\"text-align: right;\">\n",
       "      <th></th>\n",
       "      <th>school_state</th>\n",
       "      <th>teacher_prefix</th>\n",
       "      <th>project_grade_category</th>\n",
       "      <th>teacher_number_of_previously_posted_projects</th>\n",
       "      <th>project_is_approved</th>\n",
       "      <th>clean_categories</th>\n",
       "      <th>clean_subcategories</th>\n",
       "      <th>essay</th>\n",
       "      <th>price</th>\n",
       "    </tr>\n",
       "  </thead>\n",
       "  <tbody>\n",
       "    <tr>\n",
       "      <th>0</th>\n",
       "      <td>ca</td>\n",
       "      <td>mrs</td>\n",
       "      <td>grades_prek_2</td>\n",
       "      <td>53</td>\n",
       "      <td>1</td>\n",
       "      <td>math_science</td>\n",
       "      <td>appliedsciences health_lifescience</td>\n",
       "      <td>i fortunate enough use fairy tale stem kits cl...</td>\n",
       "      <td>725.05</td>\n",
       "    </tr>\n",
       "    <tr>\n",
       "      <th>1</th>\n",
       "      <td>ut</td>\n",
       "      <td>ms</td>\n",
       "      <td>grades_3_5</td>\n",
       "      <td>4</td>\n",
       "      <td>1</td>\n",
       "      <td>specialneeds</td>\n",
       "      <td>specialneeds</td>\n",
       "      <td>imagine 8 9 years old you third grade classroo...</td>\n",
       "      <td>213.03</td>\n",
       "    </tr>\n",
       "    <tr>\n",
       "      <th>2</th>\n",
       "      <td>ca</td>\n",
       "      <td>mrs</td>\n",
       "      <td>grades_prek_2</td>\n",
       "      <td>10</td>\n",
       "      <td>1</td>\n",
       "      <td>literacy_language</td>\n",
       "      <td>literacy</td>\n",
       "      <td>having class 24 students comes diverse learner...</td>\n",
       "      <td>329.00</td>\n",
       "    </tr>\n",
       "  </tbody>\n",
       "</table>\n",
       "</div>"
      ],
      "text/plain": [
       "  school_state teacher_prefix project_grade_category  \\\n",
       "0           ca            mrs          grades_prek_2   \n",
       "1           ut             ms             grades_3_5   \n",
       "2           ca            mrs          grades_prek_2   \n",
       "\n",
       "   teacher_number_of_previously_posted_projects  project_is_approved  \\\n",
       "0                                            53                    1   \n",
       "1                                             4                    1   \n",
       "2                                            10                    1   \n",
       "\n",
       "    clean_categories                 clean_subcategories  \\\n",
       "0       math_science  appliedsciences health_lifescience   \n",
       "1       specialneeds                        specialneeds   \n",
       "2  literacy_language                            literacy   \n",
       "\n",
       "                                               essay   price  \n",
       "0  i fortunate enough use fairy tale stem kits cl...  725.05  \n",
       "1  imagine 8 9 years old you third grade classroo...  213.03  \n",
       "2  having class 24 students comes diverse learner...  329.00  "
      ]
     },
     "execution_count": 27,
     "metadata": {},
     "output_type": "execute_result"
    }
   ],
   "source": [
    "data.head(3)"
   ]
  },
  {
   "cell_type": "code",
   "execution_count": 28,
   "metadata": {},
   "outputs": [
    {
     "data": {
      "text/html": [
       "<div>\n",
       "<style scoped>\n",
       "    .dataframe tbody tr th:only-of-type {\n",
       "        vertical-align: middle;\n",
       "    }\n",
       "\n",
       "    .dataframe tbody tr th {\n",
       "        vertical-align: top;\n",
       "    }\n",
       "\n",
       "    .dataframe thead th {\n",
       "        text-align: right;\n",
       "    }\n",
       "</style>\n",
       "<table border=\"1\" class=\"dataframe\">\n",
       "  <thead>\n",
       "    <tr style=\"text-align: right;\">\n",
       "      <th></th>\n",
       "      <th>teacher_number_of_previously_posted_projects</th>\n",
       "      <th>project_is_approved</th>\n",
       "      <th>price</th>\n",
       "    </tr>\n",
       "  </thead>\n",
       "  <tbody>\n",
       "    <tr>\n",
       "      <th>count</th>\n",
       "      <td>109248.000000</td>\n",
       "      <td>109248.000000</td>\n",
       "      <td>109248.000000</td>\n",
       "    </tr>\n",
       "    <tr>\n",
       "      <th>mean</th>\n",
       "      <td>11.153165</td>\n",
       "      <td>0.848583</td>\n",
       "      <td>298.119343</td>\n",
       "    </tr>\n",
       "    <tr>\n",
       "      <th>std</th>\n",
       "      <td>27.777154</td>\n",
       "      <td>0.358456</td>\n",
       "      <td>367.498030</td>\n",
       "    </tr>\n",
       "    <tr>\n",
       "      <th>min</th>\n",
       "      <td>0.000000</td>\n",
       "      <td>0.000000</td>\n",
       "      <td>0.660000</td>\n",
       "    </tr>\n",
       "    <tr>\n",
       "      <th>25%</th>\n",
       "      <td>0.000000</td>\n",
       "      <td>1.000000</td>\n",
       "      <td>104.310000</td>\n",
       "    </tr>\n",
       "    <tr>\n",
       "      <th>50%</th>\n",
       "      <td>2.000000</td>\n",
       "      <td>1.000000</td>\n",
       "      <td>206.220000</td>\n",
       "    </tr>\n",
       "    <tr>\n",
       "      <th>75%</th>\n",
       "      <td>9.000000</td>\n",
       "      <td>1.000000</td>\n",
       "      <td>379.000000</td>\n",
       "    </tr>\n",
       "    <tr>\n",
       "      <th>max</th>\n",
       "      <td>451.000000</td>\n",
       "      <td>1.000000</td>\n",
       "      <td>9999.000000</td>\n",
       "    </tr>\n",
       "  </tbody>\n",
       "</table>\n",
       "</div>"
      ],
      "text/plain": [
       "       teacher_number_of_previously_posted_projects  project_is_approved  \\\n",
       "count                                 109248.000000        109248.000000   \n",
       "mean                                      11.153165             0.848583   \n",
       "std                                       27.777154             0.358456   \n",
       "min                                        0.000000             0.000000   \n",
       "25%                                        0.000000             1.000000   \n",
       "50%                                        2.000000             1.000000   \n",
       "75%                                        9.000000             1.000000   \n",
       "max                                      451.000000             1.000000   \n",
       "\n",
       "               price  \n",
       "count  109248.000000  \n",
       "mean      298.119343  \n",
       "std       367.498030  \n",
       "min         0.660000  \n",
       "25%       104.310000  \n",
       "50%       206.220000  \n",
       "75%       379.000000  \n",
       "max      9999.000000  "
      ]
     },
     "execution_count": 28,
     "metadata": {},
     "output_type": "execute_result"
    }
   ],
   "source": [
    "data.describe()"
   ]
  },
  {
   "cell_type": "markdown",
   "metadata": {
    "colab_type": "text",
    "id": "WtVV13Fyb3dH"
   },
   "source": [
    "<h2>1.2 Splitting data into Train and cross validation(or test): Stratified Sampling</h2>"
   ]
  },
  {
   "cell_type": "code",
   "execution_count": 4,
   "metadata": {
    "colab": {},
    "colab_type": "code",
    "id": "i-PyprDNb3dI"
   },
   "outputs": [
    {
     "name": "stdout",
     "output_type": "stream",
     "text": [
      "(65548, 8) (21850, 8) (21850, 8) (65548,) (21850,) (21850,)\n"
     ]
    }
   ],
   "source": [
    "# please write all the code with proper documentation, and proper titles for each subsection\n",
    "# go through documentations and blogs before you start coding\n",
    "# first figure out what to do, and then think about how to do.\n",
    "# reading and understanding error messages will be very much helpfull in debugging your code\n",
    "# when you plot any graph make sure you use \n",
    "    # a. Title, that describes your plot, this will be very helpful to the reader\n",
    "    # b. Legends if needed\n",
    "    # c. X-axis label\n",
    "    # d. Y-axis label\n",
    "from sklearn.model_selection import train_test_split\n",
    "\n",
    "y = data['project_is_approved']\n",
    "X = data.drop('project_is_approved',axis=1)\n",
    "\n",
    "X_train, X_test, y_train, y_test = train_test_split(X,y,test_size=0.2,stratify=y)\n",
    "X_train, X_cv, y_train, y_cv = train_test_split(X_train, y_train, test_size=0.25, stratify=y_train)\n",
    "print(X_train.shape,X_cv.shape,X_test.shape,y_train.shape,y_cv.shape,y_test.shape)"
   ]
  },
  {
   "cell_type": "markdown",
   "metadata": {
    "colab_type": "text",
    "id": "EnZwVNULb3dO"
   },
   "source": [
    "<h2>1.3 Make Data Model Ready: encoding essay, and project_title</h2>"
   ]
  },
  {
   "cell_type": "code",
   "execution_count": 5,
   "metadata": {
    "colab": {},
    "colab_type": "code",
    "id": "-SczZKiab3dR"
   },
   "outputs": [
    {
     "name": "stdout",
     "output_type": "stream",
     "text": [
      "After Vectorization\n",
      "==================================================\n",
      "(65548, 10000) (65548,)\n",
      "(21850, 10000) (21850,)\n",
      "(21850, 10000) (21850,)\n",
      "==================================================\n",
      "['10 000 steps', '10 blocks', '10 hours', '10 weeks', '108', '12 self', '12 self contained', '12 self contained classroom', '12 serious', '12th grade english']\n"
     ]
    }
   ],
   "source": [
    "# please write all the code with proper documentation, and proper titles for each subsection\n",
    "# go through documentations and blogs before you start coding\n",
    "# first figure out what to do, and then think about how to do.\n",
    "# reading and understanding error messages will be very much helpfull in debugging your code\n",
    "# make sure you featurize train and test data separatly\n",
    "\n",
    "# when you plot any graph make sure you use \n",
    "    # a. Title, that describes your plot, this will be very helpful to the reader\n",
    "    # b. Legends if needed\n",
    "    # c. X-axis label\n",
    "    # d. Y-axis label\n",
    "from sklearn.feature_extraction.text import CountVectorizer\n",
    "\n",
    "vectorizer_bow = CountVectorizer(ngram_range=(1,4),max_df=10,max_features=10000)\n",
    "vectorizer_bow.fit(X_train['essay'].values)\n",
    "\n",
    "X_train_essay_bow = vectorizer_bow.transform(X_train['essay'].values)\n",
    "X_cv_essay_bow = vectorizer_bow.transform(X_cv['essay'].values)\n",
    "X_test_essay_bow = vectorizer_bow.transform(X_test['essay'].values)\n",
    "\n",
    "    print('After Vectorization')\n",
    "    print('='*50)\n",
    "    print(X_train_essay_bow.shape, y_train.shape)\n",
    "    print(X_cv_essay_bow.shape, y_cv.shape)\n",
    "    print(X_test_essay_bow.shape, y_test.shape)\n",
    "    print('='*50)\n",
    "    print(vectorizer_bow.get_feature_names()[:10])"
   ]
  },
  {
   "cell_type": "markdown",
   "metadata": {
    "colab_type": "text",
    "id": "bGy86kgHb3dX"
   },
   "source": [
    "<h2>1.4 Make Data Model Ready: encoding numerical, categorical features</h2>"
   ]
  },
  {
   "cell_type": "code",
   "execution_count": 6,
   "metadata": {
    "colab": {},
    "colab_type": "code",
    "id": "EfXkofX1b3da"
   },
   "outputs": [
    {
     "name": "stdout",
     "output_type": "stream",
     "text": [
      "['ak', 'al', 'ar', 'az', 'ca']\n",
      "['dr', 'mr', 'mrs', 'ms', 'teacher']\n",
      "['appliedlearning', 'care_hunger', 'health_sports', 'history_civics', 'literacy_language']\n",
      "['appliedsciences', 'care_hunger', 'charactereducation', 'civics_government', 'college_careerprep']\n"
     ]
    }
   ],
   "source": [
    "# please write all the code with proper documentation, and proper titles for each subsection\n",
    "# go through documentations and blogs before you start coding \n",
    "# first figure out what to do, and then think about how to do.\n",
    "# reading and understanding error messages will be very much helpfull in debugging your code\n",
    "# make sure you featurize train and test data separatly\n",
    "\n",
    "# when you plot any graph make sure you use \n",
    "    # a. Title, that describes your plot, this will be very helpful to the reader\n",
    "    # b. Legends if needed\n",
    "    # c. X-axis label\n",
    "    # d. Y-axis label\n",
    "    \n",
    "# encoding categorical features\n",
    "    \n",
    "# encoding school_state\n",
    "vectorizer = CountVectorizer()\n",
    "vectorizer.fit(X_train['school_state'].values)\n",
    "\n",
    "X_train_state = vectorizer.transform(X_train['school_state'].values)\n",
    "X_test_state = vectorizer.transform(X_test['school_state'].values)\n",
    "X_cv_state = vectorizer.transform(X_cv['school_state'].values)\n",
    "\n",
    "print(vectorizer.get_feature_names()[:5])\n",
    "\n",
    "# encoding teacher_prefix\n",
    "vectorizer = CountVectorizer()\n",
    "vectorizer.fit(X_train['teacher_prefix'].values)\n",
    "\n",
    "X_train_teacher_prefix = vectorizer.transform(X_train['teacher_prefix'].values)\n",
    "X_test_teacher_prefix = vectorizer.transform(X_test['teacher_prefix'].values)\n",
    "X_cv_teacher_prefix = vectorizer.transform(X_cv['teacher_prefix'].values)\n",
    "\n",
    "print(vectorizer.get_feature_names()[:5])\n",
    "\n",
    "# encoding project_grade_category\n",
    "vectorizer = CountVectorizer()\n",
    "vectorizer.fit(X_train['project_grade_category'].values)\n",
    "\n",
    "X_train_project_grade_category = vectorizer.transform(X_train['project_grade_category'].values)\n",
    "X_test_project_grade_category= vectorizer.transform(X_test['project_grade_category'].values)\n",
    "X_cv_project_grade_category = vectorizer.transform(X_cv['project_grade_category'].values)\n",
    "\n",
    "# encoding clean_categories\n",
    "vectorizer = CountVectorizer()\n",
    "vectorizer.fit(X_train['clean_categories'].values)\n",
    "\n",
    "X_train_clean_categories = vectorizer.transform(X_train['clean_categories'].values)\n",
    "X_test_clean_categories = vectorizer.transform(X_test['clean_categories'].values)\n",
    "X_cv_clean_categories = vectorizer.transform(X_cv['clean_categories'].values)\n",
    "\n",
    "print(vectorizer.get_feature_names()[:5])\n",
    "\n",
    "# encoding clean_subcategories\n",
    "vectorizer = CountVectorizer()\n",
    "vectorizer.fit(X_train['clean_subcategories'].values)\n",
    "\n",
    "X_train_clean_subcategories = vectorizer.transform(X_train['clean_subcategories'].values)\n",
    "X_test_clean_subcategories = vectorizer.transform(X_test['clean_subcategories'].values)\n",
    "X_cv_clean_subcategories = vectorizer.transform(X_cv['clean_subcategories'].values)\n",
    "\n",
    "print(vectorizer.get_feature_names()[:5])"
   ]
  },
  {
   "cell_type": "code",
   "execution_count": 7,
   "metadata": {},
   "outputs": [
    {
     "name": "stdout",
     "output_type": "stream",
     "text": [
      "[[0.00326906]\n",
      " [0.00195115]\n",
      " [0.00421245]\n",
      " [0.00030863]\n",
      " [0.00272941]\n",
      " [0.00202338]\n",
      " [0.00456698]\n",
      " [0.00014115]\n",
      " [0.00181703]\n",
      " [0.00149462]]\n",
      "=========================\n",
      "[[0.        ]\n",
      " [0.00039161]\n",
      " [0.00156642]\n",
      " [0.00169696]\n",
      " [0.00287177]\n",
      " [0.00430766]\n",
      " [0.00926799]\n",
      " [0.0022191 ]\n",
      " [0.00117482]\n",
      " [0.00274124]]\n"
     ]
    }
   ],
   "source": [
    "# encoding numerical features\n",
    "# encoding price\n",
    "\n",
    "from sklearn.preprocessing import Normalizer\n",
    "normalizer = Normalizer()\n",
    "\n",
    "normalizer.fit(X_train['price'].values.reshape(1,-1))\n",
    "\n",
    "X_train_price_norm = normalizer.transform(X_train['price'].values.reshape(1,-1)).reshape(-1,1)\n",
    "X_cv_price_norm = normalizer.transform(X_cv['price'].values.reshape(1,-1)).reshape(-1,1)\n",
    "X_test_price_norm = normalizer.transform(X_test['price'].values.reshape(1,-1)).reshape(-1,1)\n",
    "\n",
    "print(X_cv_price_norm[:10])\n",
    "\n",
    "# encoding teacher_number_of_previously_posted_projects\n",
    "\n",
    "from sklearn.preprocessing import Normalizer\n",
    "normalizer = Normalizer()\n",
    "\n",
    "normalizer.fit(X_train['teacher_number_of_previously_posted_projects'].values.reshape(1,-1))\n",
    "\n",
    "X_train_teacher_number_of_previously_posted_projects_norm = normalizer.transform(X_train['teacher_number_of_previously_posted_projects'].values.reshape(1,-1)).reshape(-1,1)\n",
    "X_cv_teacher_number_of_previously_posted_projects_norm = normalizer.transform(X_cv['teacher_number_of_previously_posted_projects'].values.reshape(1,-1)).reshape(-1,1)\n",
    "X_test_teacher_number_of_previously_posted_projects_norm = normalizer.transform(X_test['teacher_number_of_previously_posted_projects'].values.reshape(1,-1)).reshape(-1,1)\n",
    "\n",
    "print('='*25)\n",
    "print(X_train_teacher_number_of_previously_posted_projects_norm[:10])"
   ]
  },
  {
   "cell_type": "code",
   "execution_count": 8,
   "metadata": {},
   "outputs": [
    {
     "name": "stdout",
     "output_type": "stream",
     "text": [
      "Final Data matrix\n",
      "==================================================\n",
      "(65548, 10101) (65548,)\n",
      "(21850, 10101) (21850,)\n",
      "(21850, 10101) (21850,)\n"
     ]
    }
   ],
   "source": [
    "# concatenating all features\n",
    "from scipy.sparse import hstack\n",
    "\n",
    "X_tr = hstack((X_train_essay_bow,X_train_state,X_train_teacher_prefix,X_train_project_grade_category,X_train_clean_categories,X_train_clean_subcategories,X_train_price_norm,X_train_teacher_number_of_previously_posted_projects_norm)).tocsr()\n",
    "X_crv = hstack((X_cv_essay_bow,X_cv_state,X_cv_teacher_prefix,X_cv_project_grade_category,X_cv_clean_categories,X_cv_clean_subcategories,X_cv_price_norm,X_cv_teacher_number_of_previously_posted_projects_norm)).tocsr()\n",
    "X_te = hstack((X_test_essay_bow,X_test_state,X_test_teacher_prefix,X_test_project_grade_category,X_test_clean_categories,X_test_clean_subcategories,X_test_price_norm,X_test_teacher_number_of_previously_posted_projects_norm)).tocsr()\n",
    "\n",
    "print(\"Final Data matrix\")\n",
    "print('='*50)\n",
    "print(X_tr.shape, y_train.shape)\n",
    "print(X_crv.shape, y_cv.shape)\n",
    "print(X_te.shape, y_test.shape)"
   ]
  },
  {
   "cell_type": "code",
   "execution_count": 9,
   "metadata": {},
   "outputs": [],
   "source": [
    "import pickle\n",
    "\n",
    "pickle_out = open(\"BOW_data.pickle\",\"wb\")\n",
    "pickle.dump({'X_tr':X_tr,'X_crv':X_crv,'X_te':X_te,'y_tr':y_train,'y_crv':y_cv,'y_te':y_test},pickle_out)\n",
    "pickle_out.close()"
   ]
  },
  {
   "cell_type": "markdown",
   "metadata": {
    "colab_type": "text",
    "id": "yYHPYadYb3dh"
   },
   "source": [
    "<h2>1.5 Appling NB on different kind of featurization as mentioned in the instructions</h2>\n",
    "\n",
    "<br>Apply NB on different kind of featurization as mentioned in the instructions\n",
    "<br> For Every model that you work on make sure you do the step 2 and step 3 of instrucations"
   ]
  },
  {
   "cell_type": "code",
   "execution_count": 10,
   "metadata": {
    "colab": {},
    "colab_type": "code",
    "id": "DNwqilFxb3di"
   },
   "outputs": [],
   "source": [
    "# please write all the code with proper documentation, and proper titles for each subsection\n",
    "# go through documentations and blogs before you start coding\n",
    "# first figure out what to do, and then think about how to do.\n",
    "# reading and understanding error messages will be very much helpfull in debugging your code\n",
    "# when you plot any graph make sure you use \n",
    "    # a. Title, that describes your plot, this will be very helpful to the reader\n",
    "    # b. Legends if needed\n",
    "    # c. X-axis label\n",
    "    # d. Y-axis label\n",
    "def batch_predict(clf, data):\n",
    "    # roc_auc_score(y_true, y_score) the 2nd parameter should be probability estimates of the positive class\n",
    "    # not the predicted outputs\n",
    "\n",
    "    y_data_pred = []\n",
    "    tr_loop = data.shape[0] - data.shape[0]%1000\n",
    "    # consider you X_tr shape is 49041, then your tr_loop will be 49041 - 49041%1000 = 49000\n",
    "    # in this for loop we will iterate unti the last 1000 multiplier\n",
    "    for i in range(0, tr_loop, 1000):\n",
    "        y_data_pred.extend(clf.predict_proba(data[i:i+1000])[:,1])\n",
    "    # we will be predicting for the last data points\n",
    "    if data.shape[0]%1000 !=0:\n",
    "        y_data_pred.extend(clf.predict_proba(data[tr_loop:])[:,1])\n",
    "    \n",
    "    return y_data_pred"
   ]
  },
  {
   "cell_type": "code",
   "execution_count": 12,
   "metadata": {},
   "outputs": [
    {
     "name": "stderr",
     "output_type": "stream",
     "text": [
      "100%|██████████████████████████████████████████████████████████████████████████████████| 10/10 [00:01<00:00,  6.06it/s]\n"
     ]
    },
    {
     "data": {
      "image/png": "[encoded data removed]",
      "text/plain": [
       "<Figure size 432x288 with 1 Axes>"
      ]
     },
     "metadata": {
      "needs_background": "light"
     },
     "output_type": "display_data"
    }
   ],
   "source": [
    "from sklearn.naive_bayes import MultinomialNB\n",
    "from tqdm import tqdm\n",
    "from sklearn.metrics import roc_auc_score\n",
    "import numpy as np\n",
    "import matplotlib.pyplot as plt\n",
    "alphas = [0.00001,0.0001,0.001,0.01,0.1,1,10,100,1000,10000]\n",
    "train_auc = []\n",
    "cv_auc = []\n",
    "for alpha in tqdm(alphas):\n",
    "    clf = MultinomialNB(alpha=alpha, class_prior=[0.5,0.5])\n",
    "    clf.fit(X_tr, y_train)\n",
    "\n",
    "    y_train_pred = batch_predict(clf, X_tr)    \n",
    "    y_cv_pred = batch_predict(clf, X_crv)\n",
    "\n",
    "    # roc_auc_score(y_true, y_score) the 2nd parameter should be probability estimates of the positive class\n",
    "    # not the predicted outputs        \n",
    "    train_auc.append(roc_auc_score(y_train,y_train_pred))\n",
    "    cv_auc.append(roc_auc_score(y_cv, y_cv_pred))\n",
    "\n",
    "plt.plot(np.log(alphas), train_auc, label='Train AUC')\n",
    "plt.plot(np.log(alphas), cv_auc, label='CV AUC')\n",
    "\n",
    "plt.scatter(np.log(alphas), train_auc, label='Train AUC points')\n",
    "plt.scatter(np.log(alphas), cv_auc, label='CV AUC points')\n",
    "\n",
    "plt.legend()\n",
    "plt.xlabel(\"Alpha: hyperparameter\")\n",
    "plt.ylabel(\"AUC\")\n",
    "plt.title(\"AUC Scores vs Alpha\")\n",
    "plt.grid()\n",
    "plt.show()"
   ]
  },
  {
   "cell_type": "code",
   "execution_count": 13,
   "metadata": {},
   "outputs": [
    {
     "data": {
      "image/png": "[encoded data removed]",
      "text/plain": [
       "<Figure size 432x288 with 1 Axes>"
      ]
     },
     "metadata": {
      "needs_background": "light"
     },
     "output_type": "display_data"
    }
   ],
   "source": [
    "# https://scikit-learn.org/stable/modules/generated/sklearn.metrics.roc_curve.html#sklearn.metrics.roc_curve\n",
    "from sklearn.metrics import roc_curve, auc\n",
    "\n",
    "clf = MultinomialNB(alpha=0.00001, class_prior=[0.5,0.5]) #AUC score for cv is highest at 0.00001\n",
    "clf.fit(X_tr, y_train)\n",
    "# roc_auc_score(y_true, y_score) the 2nd parameter should be probability estimates of the positive class\n",
    "# not the predicted outputs\n",
    "\n",
    "y_train_pred = batch_predict(clf, X_tr)    \n",
    "y_test_pred = batch_predict(clf, X_te)\n",
    "\n",
    "train_fpr, train_tpr, tr_thresholds = roc_curve(y_train, y_train_pred)\n",
    "test_fpr, test_tpr, te_thresholds = roc_curve(y_test, y_test_pred)\n",
    "\n",
    "plt.plot(train_fpr, train_tpr, label=\"train AUC =\"+str(auc(train_fpr, train_tpr)))\n",
    "plt.plot(test_fpr, test_tpr, label=\"test AUC =\"+str(auc(test_fpr, test_tpr)))\n",
    "plt.legend()\n",
    "plt.xlabel(\"K: hyperparameter\")\n",
    "plt.ylabel(\"AUC\")\n",
    "plt.title(\"ERROR PLOTS\")\n",
    "plt.grid()\n",
    "plt.show()"
   ]
  },
  {
   "cell_type": "code",
   "execution_count": 14,
   "metadata": {},
   "outputs": [],
   "source": [
    "def find_best_threshold(threshould, fpr, tpr):\n",
    "    t = threshould[np.argmax(tpr*(1-fpr))]\n",
    "    # (tpr*(1-fpr)) will be maximum if fpr is very low and tpr is very high\n",
    "    print(\"the maximum value of tpr*(1-fpr)\", max(tpr*(1-fpr)), \"for threshold\", np.round(t,3))\n",
    "    print('='*50)\n",
    "    return t\n",
    "\n",
    "def predict_with_best_t(proba, threshould):\n",
    "    predictions = []\n",
    "    for i in proba:\n",
    "        if i>=threshould:\n",
    "            predictions.append(1)\n",
    "        else:\n",
    "            predictions.append(0)\n",
    "    return predictions"
   ]
  },
  {
   "cell_type": "code",
   "execution_count": 15,
   "metadata": {},
   "outputs": [
    {
     "name": "stdout",
     "output_type": "stream",
     "text": [
      "the maximum value of tpr*(1-fpr) 0.4790028643262344 for threshold 0.479\n",
      "==================================================\n",
      "Train confusion matrix\n",
      "[[ 7255  2670]\n",
      " [19174 36449]]\n",
      "Accuracy Score:  0.6667480319765668\n",
      "==================================================\n",
      "Test confusion matrix\n",
      "[[ 1552  1756]\n",
      " [ 7137 11405]]\n",
      "Accuracy Score:  0.5929977116704805\n"
     ]
    }
   ],
   "source": [
    "from sklearn.metrics import confusion_matrix,accuracy_score\n",
    "best_t = find_best_threshold(tr_thresholds, train_fpr, train_tpr)\n",
    "print(\"Train confusion matrix\")\n",
    "print(confusion_matrix(y_train, predict_with_best_t(y_train_pred, best_t)))\n",
    "print('Accuracy Score: ',accuracy_score(y_train, predict_with_best_t(y_train_pred, best_t)))\n",
    "print('='*50)\n",
    "print(\"Test confusion matrix\")\n",
    "print(confusion_matrix(y_test, predict_with_best_t(y_test_pred, best_t)))\n",
    "print('Accuracy Score: ',accuracy_score(y_test, predict_with_best_t(y_test_pred, best_t)))"
   ]
  },
  {
   "cell_type": "code",
   "execution_count": 16,
   "metadata": {},
   "outputs": [
    {
     "name": "stdout",
     "output_type": "stream",
     "text": [
      "(65548, 8) (21850, 8) (21850, 8) (65548,) (21850,) (21850,)\n"
     ]
    }
   ],
   "source": [
    "y = data['project_is_approved']\n",
    "X = data.drop('project_is_approved',axis=1)\n",
    "\n",
    "X_train, X_test, y_train, y_test = train_test_split(X,y,test_size=0.2,stratify=y)\n",
    "X_train, X_cv, y_train, y_cv = train_test_split(X_train, y_train, test_size=0.25, stratify=y_train)\n",
    "print(X_train.shape,X_cv.shape,X_test.shape,y_train.shape,y_cv.shape,y_test.shape)"
   ]
  },
  {
   "cell_type": "code",
   "execution_count": 17,
   "metadata": {},
   "outputs": [
    {
     "name": "stdout",
     "output_type": "stream",
     "text": [
      "After Tfidf Vectorization\n",
      "==================================================\n",
      "(65548, 10000) (65548,)\n",
      "(21850, 10000) (21850,)\n",
      "(21850, 10000) (21850,)\n",
      "==================================================\n",
      "['10 000 steps', '10 copies', '100th day school', '12 serious', '16 17', '16 school year', '17th', '18 boys', '18 children', '18 kindergarten']\n"
     ]
    }
   ],
   "source": [
    "from sklearn.feature_extraction.text import TfidfVectorizer\n",
    "\n",
    "feature_names = [] # to store all the features\n",
    "\n",
    "tfidf_Vectorizer = TfidfVectorizer(ngram_range=(1,4),max_df=10,max_features=10000)\n",
    "tfidf_Vectorizer.fit(X_train['essay'].values)\n",
    "\n",
    "X_train_essay_tfidf = tfidf_Vectorizer.transform(X_train['essay'].values)\n",
    "X_cv_essay_tfidf = tfidf_Vectorizer.transform(X_cv['essay'].values)\n",
    "X_test_essay_tfidf = tfidf_Vectorizer.transform(X_test['essay'].values)\n",
    "\n",
    "print('After Tfidf Vectorization')\n",
    "print('='*50)\n",
    "print(X_train_essay_tfidf.shape, y_train.shape)\n",
    "print(X_cv_essay_tfidf.shape, y_cv.shape)\n",
    "print(X_test_essay_tfidf.shape, y_test.shape)\n",
    "print('='*50)\n",
    "\n",
    "print(tfidf_Vectorizer.get_feature_names()[:10])\n",
    "feature_names.extend(tfidf_Vectorizer.get_feature_names())"
   ]
  },
  {
   "cell_type": "code",
   "execution_count": 18,
   "metadata": {},
   "outputs": [
    {
     "name": "stdout",
     "output_type": "stream",
     "text": [
      "['ak', 'al', 'ar', 'az', 'ca']\n",
      "['dr', 'mr', 'mrs', 'ms', 'teacher']\n",
      "['grades_3_5', 'grades_6_8', 'grades_9_12', 'grades_prek_2']\n",
      "['appliedlearning', 'care_hunger', 'health_sports', 'history_civics', 'literacy_language']\n",
      "['appliedsciences', 'care_hunger', 'charactereducation', 'civics_government', 'college_careerprep']\n"
     ]
    }
   ],
   "source": [
    "# encoding categorical features using tfidf vectorizer\n",
    "    \n",
    "# encoding school_state\n",
    "vectorizer = TfidfVectorizer()\n",
    "vectorizer.fit(X_train['school_state'].values)\n",
    "\n",
    "X_train_state = vectorizer.transform(X_train['school_state'].values)\n",
    "X_test_state = vectorizer.transform(X_test['school_state'].values)\n",
    "X_cv_state = vectorizer.transform(X_cv['school_state'].values)\n",
    "\n",
    "print(vectorizer.get_feature_names()[:5])\n",
    "feature_names.extend(vectorizer.get_feature_names())\n",
    "\n",
    "# encoding teacher_prefix\n",
    "vectorizer = TfidfVectorizer()\n",
    "vectorizer.fit(X_train['teacher_prefix'].values)\n",
    "\n",
    "X_train_teacher_prefix = vectorizer.transform(X_train['teacher_prefix'].values)\n",
    "X_test_teacher_prefix = vectorizer.transform(X_test['teacher_prefix'].values)\n",
    "X_cv_teacher_prefix = vectorizer.transform(X_cv['teacher_prefix'].values)\n",
    "\n",
    "print(vectorizer.get_feature_names()[:5])\n",
    "feature_names.extend(vectorizer.get_feature_names())\n",
    "\n",
    "# encoding project_grade_category\n",
    "vectorizer = TfidfVectorizer()\n",
    "vectorizer.fit(X_train['project_grade_category'].values)\n",
    "\n",
    "X_train_project_grade_category = vectorizer.transform(X_train['project_grade_category'].values)\n",
    "X_test_project_grade_category= vectorizer.transform(X_test['project_grade_category'].values)\n",
    "X_cv_project_grade_category = vectorizer.transform(X_cv['project_grade_category'].values)\n",
    "\n",
    "print(vectorizer.get_feature_names()[:5])\n",
    "feature_names.extend(vectorizer.get_feature_names())\n",
    "\n",
    "# encoding clean_categories\n",
    "vectorizer = TfidfVectorizer()\n",
    "vectorizer.fit(X_train['clean_categories'].values)\n",
    "\n",
    "X_train_clean_categories = vectorizer.transform(X_train['clean_categories'].values)\n",
    "X_test_clean_categories = vectorizer.transform(X_test['clean_categories'].values)\n",
    "X_cv_clean_categories = vectorizer.transform(X_cv['clean_categories'].values)\n",
    "\n",
    "print(vectorizer.get_feature_names()[:5])\n",
    "feature_names.extend(vectorizer.get_feature_names())\n",
    "\n",
    "\n",
    "# encoding clean_subcategories\n",
    "vectorizer = TfidfVectorizer()\n",
    "vectorizer.fit(X_train['clean_subcategories'].values)\n",
    "\n",
    "X_train_clean_subcategories = vectorizer.transform(X_train['clean_subcategories'].values)\n",
    "X_test_clean_subcategories = vectorizer.transform(X_test['clean_subcategories'].values)\n",
    "X_cv_clean_subcategories = vectorizer.transform(X_cv['clean_subcategories'].values)\n",
    "\n",
    "print(vectorizer.get_feature_names()[:5])\n",
    "feature_names.extend(vectorizer.get_feature_names())\n"
   ]
  },
  {
   "cell_type": "code",
   "execution_count": 19,
   "metadata": {},
   "outputs": [
    {
     "name": "stdout",
     "output_type": "stream",
     "text": [
      "Final Data matrix\n",
      "==================================================\n",
      "(65548, 10101) (65548,)\n",
      "(21850, 10101) (21850,)\n",
      "(21850, 10101) (21850,)\n",
      "10101\n"
     ]
    }
   ],
   "source": [
    "X_tr_tfidf = hstack((X_train_essay_tfidf,X_train_state,X_train_teacher_prefix,X_train_project_grade_category,X_train_clean_categories,X_train_clean_subcategories,X_train_price_norm,X_train_teacher_number_of_previously_posted_projects_norm)).tocsr()\n",
    "X_crv_tfidf = hstack((X_cv_essay_tfidf,X_cv_state,X_cv_teacher_prefix,X_cv_project_grade_category,X_cv_clean_categories,X_cv_clean_subcategories,X_cv_price_norm,X_cv_teacher_number_of_previously_posted_projects_norm)).tocsr()\n",
    "X_te_tfidf = hstack((X_test_essay_tfidf,X_test_state,X_test_teacher_prefix,X_test_project_grade_category,X_test_clean_categories,X_test_clean_subcategories,X_test_price_norm,X_test_teacher_number_of_previously_posted_projects_norm)).tocsr()\n",
    "\n",
    "feature_names.extend(['Price','teacher_number_of_previously_posted_projects'])\n",
    "\n",
    "print(\"Final Data matrix\")\n",
    "print('='*50)\n",
    "print(X_tr_tfidf.shape, y_train.shape)\n",
    "print(X_crv_tfidf.shape, y_cv.shape)\n",
    "print(X_te_tfidf.shape, y_test.shape)\n",
    "print(len(feature_names))"
   ]
  },
  {
   "cell_type": "code",
   "execution_count": 20,
   "metadata": {},
   "outputs": [],
   "source": [
    "pickle_out = open(\"Tfidf_data.pickle\",\"wb\")\n",
    "pickle.dump({'X_tr_tfidf':X_tr_tfidf,'X_crv_tfidf':X_crv_tfidf,'X_te_tfidf':X_te_tfidf,'y_tr':y_train,'y_crv':y_cv,'y_te':y_test},pickle_out)\n",
    "pickle_out.close()"
   ]
  },
  {
   "cell_type": "code",
   "execution_count": 21,
   "metadata": {},
   "outputs": [
    {
     "name": "stderr",
     "output_type": "stream",
     "text": [
      "100%|██████████████████████████████████████████████████████████████████████████████████| 10/10 [00:01<00:00,  5.63it/s]\n"
     ]
    },
    {
     "data": {
      "image/png": "[encoded data removed]",
      "text/plain": [
       "<Figure size 432x288 with 1 Axes>"
      ]
     },
     "metadata": {
      "needs_background": "light"
     },
     "output_type": "display_data"
    }
   ],
   "source": [
    "alphas = [0.00001,0.0001,0.001,0.01,0.1,1,10,100,1000,10000]\n",
    "train_auc = []\n",
    "cv_auc = []\n",
    "for alpha in tqdm(alphas):\n",
    "    clf = MultinomialNB(alpha=alpha, class_prior=[0.5,0.5])\n",
    "    clf.fit(X_tr_tfidf, y_train)\n",
    "\n",
    "    y_train_pred = batch_predict(clf, X_tr_tfidf)    \n",
    "    y_cv_pred = batch_predict(clf, X_crv_tfidf)\n",
    "\n",
    "    # roc_auc_score(y_true, y_score) the 2nd parameter should be probability estimates of the positive class\n",
    "    # not the predicted outputs        \n",
    "    train_auc.append(roc_auc_score(y_train,y_train_pred))\n",
    "    cv_auc.append(roc_auc_score(y_cv, y_cv_pred))\n",
    "\n",
    "plt.plot(np.log(alphas), train_auc, label='Train AUC')\n",
    "plt.plot(np.log(alphas), cv_auc, label='CV AUC')\n",
    "\n",
    "plt.scatter(np.log(alphas), train_auc, label='Train AUC points')\n",
    "plt.scatter(np.log(alphas), cv_auc, label='CV AUC points')\n",
    "\n",
    "plt.legend()\n",
    "plt.xlabel(\"Alpha: hyperparameter\")\n",
    "plt.ylabel(\"AUC\")\n",
    "plt.title(\"AUC Scores vs Alpha\")\n",
    "plt.grid()\n",
    "plt.show()"
   ]
  },
  {
   "cell_type": "code",
   "execution_count": 22,
   "metadata": {},
   "outputs": [
    {
     "data": {
      "image/png": "[encoded data removed]",
      "text/plain": [
       "<Figure size 432x288 with 1 Axes>"
      ]
     },
     "metadata": {
      "needs_background": "light"
     },
     "output_type": "display_data"
    }
   ],
   "source": [
    "clf = MultinomialNB(alpha=0.01, class_prior=[0.5,0.5]) #AUC score for cv is highest at 0.00001\n",
    "clf.fit(X_tr_tfidf, y_train)\n",
    "# roc_auc_score(y_true, y_score) the 2nd parameter should be probability estimates of the positive class\n",
    "# not the predicted outputs\n",
    "\n",
    "y_train_pred = batch_predict(clf, X_tr_tfidf)    \n",
    "y_test_pred = batch_predict(clf, X_te_tfidf)\n",
    "\n",
    "train_fpr, train_tpr, tr_thresholds = roc_curve(y_train, y_train_pred)\n",
    "test_fpr, test_tpr, te_thresholds = roc_curve(y_test, y_test_pred)\n",
    "\n",
    "plt.plot(train_fpr, train_tpr, label=\"train AUC =\"+str(auc(train_fpr, train_tpr)))\n",
    "plt.plot(test_fpr, test_tpr, label=\"test AUC =\"+str(auc(test_fpr, test_tpr)))\n",
    "plt.legend()\n",
    "plt.xlabel(\"K: hyperparameter\")\n",
    "plt.ylabel(\"AUC\")\n",
    "plt.title(\"ERROR PLOTS\")\n",
    "plt.grid()\n",
    "plt.show()"
   ]
  },
  {
   "cell_type": "code",
   "execution_count": 23,
   "metadata": {},
   "outputs": [
    {
     "name": "stdout",
     "output_type": "stream",
     "text": [
      "the maximum value of tpr*(1-fpr) 0.4973160578020499 for threshold 0.498\n",
      "==================================================\n",
      "Train confusion matrix\n",
      "[[ 7737  2188]\n",
      " [20138 35485]]\n",
      "Accuracy Score:  0.6593946420943431\n",
      "==================================================\n",
      "Test confusion matrix\n",
      "[[ 1657  1651]\n",
      " [ 7701 10841]]\n",
      "Accuracy Score:  0.5719908466819222\n"
     ]
    }
   ],
   "source": [
    "best_t = find_best_threshold(tr_thresholds, train_fpr, train_tpr)\n",
    "print(\"Train confusion matrix\")\n",
    "print(confusion_matrix(y_train, predict_with_best_t(y_train_pred, best_t)))\n",
    "print('Accuracy Score: ',accuracy_score(y_train, predict_with_best_t(y_train_pred, best_t)))\n",
    "print('='*50)\n",
    "print(\"Test confusion matrix\")\n",
    "print(confusion_matrix(y_test, predict_with_best_t(y_test_pred, best_t)))\n",
    "print('Accuracy Score: ',accuracy_score(y_test, predict_with_best_t(y_test_pred, best_t)))"
   ]
  },
  {
   "cell_type": "code",
   "execution_count": 24,
   "metadata": {},
   "outputs": [
    {
     "name": "stdout",
     "output_type": "stream",
     "text": [
      "Top 20 features for negative class\n",
      "==================================================\n",
      "reduced lunch 70\n",
      "day definitely\n",
      "science helps\n",
      "day eager learn some\n",
      "texas instruments ti\n",
      "testing computer\n",
      "job ready\n",
      "science know\n",
      "science music\n",
      "day english half\n",
      "job easier if not\n",
      "science observations\n",
      "telling kits\n",
      "technology specialist\n",
      "science olympiad\n",
      "science pe\n",
      "day five days\n",
      "day free choice\n",
      "day fun engaging\n",
      "day fun exciting\n",
      "==================================================\n",
      "Top 20 features for positive class\n",
      "==================================================\n",
      "school welcome\n",
      "marsh\n",
      "toppings\n",
      "far greater\n",
      "level resources\n",
      "understanding time\n",
      "understanding surroundings constantly want\n",
      "torso\n",
      "spend day working\n",
      "like stability balls\n",
      "difficult would\n",
      "classroom fun place learn\n",
      "spend classroom time\n",
      "spend class time working\n",
      "looks items\n",
      "boost need teachers\n",
      "throughout day teach\n",
      "look our\n",
      "marshall islands\n",
      "truly inspire\n"
     ]
    }
   ],
   "source": [
    "# printing top 20 features for class 0 and class 1 for set2\n",
    "max_ind_neg = np.argsort((clf.feature_log_prob_)[0][::-1])[:20]\n",
    "max_ind_pos = np.argsort((clf.feature_log_prob_)[1][::-1])[:20]\n",
    "\n",
    "top_neg=np.take(feature_names,max_ind_neg) \n",
    "print('Top 20 features for negative class')\n",
    "print('='*50)\n",
    "for feature in top_neg:\n",
    "    print(feature)\n",
    "print('='*50)\n",
    "top_pos=np.take(feature_names,max_ind_pos) \n",
    "print('Top 20 features for positive class')\n",
    "print('='*50)\n",
    "for feature in top_pos:\n",
    "    print(feature)"
   ]
  },
  {
   "cell_type": "markdown",
   "metadata": {
    "colab_type": "text",
    "id": "lS9hIHdib3dp"
   },
   "source": [
    "<h1>3. Summary</h1>\n",
    "\n",
    "<br> as mentioned in the step 5 of instructions"
   ]
  },
  {
   "cell_type": "code",
   "execution_count": 25,
   "metadata": {},
   "outputs": [
    {
     "name": "stdout",
     "output_type": "stream",
     "text": [
      "+------------+-------+------------------------+\n",
      "| Vectorizer | Model | Hyper Parameter |  AUC |\n",
      "+------------+-------+------------------------+\n",
      "|    BOW     | Brute |    0.00001      | 0.56 |\n",
      "+------------+-------+------------------------+\n",
      "|   TFIDF    | Brute |      0.01       | 0.56 |\n",
      "+------------+-------+------------------------+\n"
     ]
    }
   ],
   "source": [
    "print('+------------+-------+------------------------+')\n",
    "print('| Vectorizer | Model | Hyper Parameter |  AUC |')\n",
    "print('+------------+-------+------------------------+')\n",
    "print('|    BOW     | Brute |    0.00001      | 0.56 |')\n",
    "print('+------------+-------+------------------------+')\n",
    "print('|   TFIDF    | Brute |      0.01       | 0.56 |')\n",
    "print('+------------+-------+------------------------+')"
   ]
  },
  {
   "cell_type": "code",
   "execution_count": null,
   "metadata": {},
   "outputs": [],
   "source": []
  }
 ],
 "metadata": {
  "colab": {
   "collapsed_sections": [],
   "name": "6_Assignment_NB_Instructions.ipynb",
   "provenance": [],
   "version": "0.3.2"
  },
  "kernelspec": {
   "display_name": "Python 3",
   "language": "python",
   "name": "python3"
  },
  "language_info": {
   "codemirror_mode": {
    "name": "ipython",
    "version": 3
   },
   "file_extension": ".py",
   "mimetype": "text/x-python",
   "name": "python",
   "nbconvert_exporter": "python",
   "pygments_lexer": "ipython3",
   "version": "3.7.4"
  }
 },
 "nbformat": 4,
 "nbformat_minor": 1
}
