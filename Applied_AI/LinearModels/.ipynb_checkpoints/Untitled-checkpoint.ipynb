{
 "cells": [
  {
   "cell_type": "code",
   "execution_count": 53,
   "metadata": {},
   "outputs": [],
   "source": [
    "import openpyxl"
   ]
  },
  {
   "cell_type": "code",
   "execution_count": 54,
   "metadata": {},
   "outputs": [],
   "source": [
    "fob = openpyxl.load_workbook(r'C:\\Users\\hoj5kor\\Desktop\\fbl\\SampleTestCase.xlsx')\n",
    "wb = openpyxl.Workbook()\n",
    "sheet_des = wb.active\n",
    "sheet_des.title = 'Import'"
   ]
  },
  {
   "cell_type": "code",
   "execution_count": 55,
   "metadata": {},
   "outputs": [
    {
     "data": {
      "text/plain": [
       "['TC_01', 'TC_02']"
      ]
     },
     "execution_count": 55,
     "metadata": {},
     "output_type": "execute_result"
    }
   ],
   "source": [
    "fob.sheetnames"
   ]
  },
  {
   "cell_type": "code",
   "execution_count": 56,
   "metadata": {},
   "outputs": [],
   "source": [
    "li = []\n",
    "row_offset = 27\n",
    "col_step = 1\n",
    "tot_row=1\n",
    "\n",
    "sheet_des.cell(row=tot_row,column=col_step).value   = 'TestCaseName' \n",
    "sheet_des.cell(row=tot_row,column=col_step+1).value = 'TestScriptName'\n",
    "sheet_des.cell(row=tot_row,column=col_step+2).value = 'TestStep'\n",
    "sheet_des.cell(row=tot_row,column=col_step+3).value = 'TestStepDescription'\n",
    "sheet_des.cell(row=tot_row,column=col_step+4).value = 'ExpectedResult'\n",
    "sheet_des.cell(row=tot_row,column=col_step+5).value = 'ActualResult'\n",
    "sheet_des.cell(row=tot_row,column=col_step+6).value = 'Logs'\n",
    "sheet_des.cell(row=tot_row,column=col_step+7).value = 'DoorsLink'\n",
    "sheet_des.cell(row=tot_row,column=col_step+8).value = 'TCERName'\n",
    "\n",
    "tot_row+=1\n",
    "\n",
    "for sheet in fob.sheetnames:\n",
    "    if 'TC' not in sheet:\n",
    "        continue\n",
    "    curr_sheet = fob[sheet]\n",
    "    row_cnt = curr_sheet.max_row\n",
    "    step = 1\n",
    "    \n",
    "    sheet_des.cell(row=tot_row,column=col_step).value = sheet\n",
    "    sheet_des.cell(row=tot_row,column=col_step+1).value = sheet+'_TS_01'\n",
    "    sheet_des.cell(row=tot_row,column=col_step+8).value = sheet+'_TS_01_TCER'\n",
    "    for row in range(row_offset,row_cnt):\n",
    "        if curr_sheet.cell(row=row,column=col_step).value!=None:\n",
    "            sheet_des.cell(row=tot_row,column=col_step+2).value = 'Step_'+str(step)\n",
    "            sheet_des.cell(row=tot_row,column=col_step+3).value = curr_sheet.cell(row=row,column=col_step+1).value\n",
    "            sheet_des.cell(row=tot_row,column=col_step+4).value = curr_sheet.cell(row=row,column=col_step+3).value\n",
    "            sheet_des.cell(row=tot_row,column=col_step+5).value = curr_sheet.cell(row=row,column=col_step+5).value\n",
    "            sheet_des.cell(row=tot_row,column=col_step+6).value = curr_sheet.cell(row=row,column=col_step+4).value\n",
    "            sheet_des.cell(row=tot_row,column=col_step+7).value = curr_sheet.cell(row=row,column=col_step+6).value\n",
    "            tot_row += 1\n",
    "            step += 1\n",
    "\n",
    "    tot_row += 1\n",
    "wb.save(r'C:\\Users\\hoj5kor\\Desktop\\fbl\\SampleTestCase2.xlsx') "
   ]
  },
  {
   "cell_type": "code",
   "execution_count": null,
   "metadata": {},
   "outputs": [],
   "source": []
  }
 ],
 "metadata": {
  "kernelspec": {
   "display_name": "Python 3",
   "language": "python",
   "name": "python3"
  },
  "language_info": {
   "codemirror_mode": {
    "name": "ipython",
    "version": 3
   },
   "file_extension": ".py",
   "mimetype": "text/x-python",
   "name": "python",
   "nbconvert_exporter": "python",
   "pygments_lexer": "ipython3",
   "version": "3.7.4"
  }
 },
 "nbformat": 4,
 "nbformat_minor": 2
}
