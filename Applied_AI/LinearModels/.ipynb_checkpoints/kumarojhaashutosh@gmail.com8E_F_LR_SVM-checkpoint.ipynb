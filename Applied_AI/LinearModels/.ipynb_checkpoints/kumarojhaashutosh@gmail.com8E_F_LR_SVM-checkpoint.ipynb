{
 "cells": [
  {
   "cell_type": "markdown",
   "metadata": {
    "colab_type": "text",
    "id": "5HExLQrE4ZxR"
   },
   "source": [
    "<h1><font color='blue'> 9E and 9F: Finding the Probability P(Y==1|X)</font></h1>"
   ]
  },
  {
   "cell_type": "markdown",
   "metadata": {
    "colab_type": "text",
    "id": "4LuKrFzC4ZxV"
   },
   "source": [
    "<h2><font color='Geen'> 9E: Implementing Decision Function of SVM RBF Kernel</font></h2>"
   ]
  },
  {
   "cell_type": "markdown",
   "metadata": {
    "colab_type": "text",
    "id": "1wES-wWN4ZxX"
   },
   "source": [
    "<font face=' Comic Sans MS' size=3>After we train a kernel SVM model, we will be getting support vectors and their corresponsing coefficients $\\alpha_{i}$\n",
    "\n",
    "Check the documentation for better understanding of these attributes: \n",
    "\n",
    "https://scikit-learn.org/stable/modules/generated/sklearn.svm.SVC.html\n",
    "<img src='https://i.imgur.com/K11msU4.png' width=500>\n",
    "\n",
    "As a part of this assignment you will be implementing the ```decision_function()``` of kernel SVM, here decision_function() means based on the value return by ```decision_function()``` model will classify the data point either as positive or negative\n",
    "\n",
    "Ex 1: In logistic regression After traning the models with the optimal weights $w$ we get, we will find the value $\\frac{1}{1+\\exp(-(wx+b))}$, if this value comes out to be < 0.5 we will mark it as negative class, else its positive class\n",
    "\n",
    "Ex 2: In Linear SVM After traning the models with the optimal weights $w$ we get, we will find the value of $sign(wx+b)$, if this value comes out to be -ve we will mark it as negative class, else its positive class.\n",
    "\n",
    "Similarly in Kernel SVM After traning the models with the coefficients $\\alpha_{i}$ we get, we will find the value of \n",
    "$sign(\\sum_{i=1}^{n}(y_{i}\\alpha_{i}K(x_{i},x_{q})) + intercept)$, here $K(x_{i},x_{q})$ is the RBF kernel. If this value comes out to be -ve we will mark $x_{q}$ as negative class, else its positive class.\n",
    "\n",
    "RBF kernel is defined as: $K(x_{i},x_{q})$ = $exp(-\\gamma ||x_{i} - x_{q}||^2)$\n",
    "\n",
    "For better understanding check this link: https://scikit-learn.org/stable/modules/svm.html#svm-mathematical-formulation\n",
    "</font>"
   ]
  },
  {
   "cell_type": "markdown",
   "metadata": {
    "colab_type": "text",
    "id": "z830CfMk4Zxa"
   },
   "source": [
    "## Task E"
   ]
  },
  {
   "cell_type": "markdown",
   "metadata": {
    "colab_type": "text",
    "id": "MuBxHiCQ4Zxc"
   },
   "source": [
    "> 1. Split the data into $X_{train}$(60), $X_{cv}$(20), $X_{test}$(20)\n",
    "\n",
    "> 2. Train $SVC(gamma=0.001, C=100.)$ on the ($X_{train}$, $y_{train}$)\n",
    "\n",
    "> 3. Get the decision boundry values $f_{cv}$ on the $X_{cv}$ data  i.e. ` `$f_{cv}$ ```= decision_function(```$X_{cv}$```)```  <font color='red'>you need to implement this decision_function()</font>"
   ]
  },
  {
   "cell_type": "code",
   "execution_count": 1,
   "metadata": {},
   "outputs": [],
   "source": [
    "import numpy as np\n",
    "import pandas as pd\n",
    "from sklearn.datasets import make_classification\n",
    "import numpy as np\n",
    "from sklearn.svm import SVC"
   ]
  },
  {
   "cell_type": "code",
   "execution_count": 2,
   "metadata": {},
   "outputs": [],
   "source": [
    "X, y = make_classification(n_samples=5000, n_features=5, n_redundant=2,\n",
    "                           n_classes=2, weights=[0.7], class_sep=0.7, random_state=15)"
   ]
  },
  {
   "cell_type": "code",
   "execution_count": 3,
   "metadata": {},
   "outputs": [
    {
     "name": "stdout",
     "output_type": "stream",
     "text": [
      "(3200, 5) (3200,)\n",
      "(800, 5) (800,)\n",
      "(1000, 5) (1000,)\n"
     ]
    }
   ],
   "source": [
    "from sklearn.model_selection import train_test_split\n",
    "X_train,X_test,y_train,y_test = train_test_split(X,y,test_size=0.2,random_state=42)\n",
    "X_train,X_val,y_train,y_val = train_test_split(X_train,y_train,test_size=0.2,random_state=24)\n",
    "print(X_train.shape, y_train.shape)\n",
    "print(X_val.shape, y_val.shape)\n",
    "print(X_test.shape, y_test.shape)"
   ]
  },
  {
   "cell_type": "markdown",
   "metadata": {
    "colab_type": "text",
    "id": "tHie1zqH4Zxt"
   },
   "source": [
    "### Pseudo code\n",
    "\n",
    "clf = SVC(gamma=0.001, C=100.)<br>\n",
    "clf.fit(Xtrain, ytrain)\n",
    "\n",
    "<font color='green'>def</font> <font color='blue'>decision_function</font>(Xcv, ...): #use appropriate parameters <br>\n",
    "&nbsp;&nbsp;&nbsp;&nbsp;&nbsp;&nbsp;<font color='green'>for</font> a data point $x_q$ <font color='green'>in</font> Xcv: <br>\n",
    "&nbsp;&nbsp;&nbsp;&nbsp;&nbsp;&nbsp;&nbsp;&nbsp;&nbsp;&nbsp;&nbsp;&nbsp;<font color='grey'>#write code to implement $(\\sum_{i=1}^{\\text{all the support vectors}}(y_{i}\\alpha_{i}K(x_{i},x_{q})) + intercept)$, here the values $y_i$, $\\alpha_{i}$, and $intercept$ can be obtained from the trained model</font><br>\n",
    "   <font color='green'>return</font> <font color='grey'><i># the decision_function output for all the data points in the Xcv</i></font>\n",
    "    \n",
    "fcv = decision_function(Xcv, ...)  <i># based on your requirement you can pass any other parameters </i>\n",
    "\n",
    "<b>Note</b>: Make sure the values you get as fcv, should be equal to outputs of clf.decision_function(Xcv)\n"
   ]
  },
  {
   "cell_type": "code",
   "execution_count": 4,
   "metadata": {},
   "outputs": [
    {
     "data": {
      "text/plain": [
       "SVC(C=100, cache_size=200, class_weight=None, coef0=0.0,\n",
       "  decision_function_shape='ovr', degree=3, gamma=0.001, kernel='rbf',\n",
       "  max_iter=-1, probability=False, random_state=None, shrinking=True,\n",
       "  tol=0.001, verbose=False)"
      ]
     },
     "execution_count": 4,
     "metadata": {},
     "output_type": "execute_result"
    }
   ],
   "source": [
    "# you can write your code here\n",
    "gamma = 0.001\n",
    "clf = SVC(gamma=gamma, C=100)\n",
    "clf.fit(X_train,y_train)"
   ]
  },
  {
   "cell_type": "code",
   "execution_count": 5,
   "metadata": {},
   "outputs": [],
   "source": [
    "def K(xq):\n",
    "    val = 0\n",
    "    for alpha,xi in zip(clf.dual_coef_[0],clf.support_vectors_): #the dual_coef_[i] contains label[i]*alpha[i]\n",
    "        val += alpha*np.exp(-gamma*np.linalg.norm(xi-xq)**2) \n",
    "    return val+clf.intercept_.item()"
   ]
  },
  {
   "cell_type": "code",
   "execution_count": 6,
   "metadata": {},
   "outputs": [],
   "source": [
    "def dec_fun(X_val):\n",
    "    fcv = []\n",
    "    for xq in X_val:\n",
    "        fcv.append(K(xq))\n",
    "    return(np.array(fcv))"
   ]
  },
  {
   "cell_type": "code",
   "execution_count": 7,
   "metadata": {},
   "outputs": [
    {
     "data": {
      "text/plain": [
       "array([-2.69065026, -4.01123357, -2.48966713,  1.35046624, -2.59528514])"
      ]
     },
     "execution_count": 7,
     "metadata": {},
     "output_type": "execute_result"
    }
   ],
   "source": [
    "dec_fun(X_val)[:5]"
   ]
  },
  {
   "cell_type": "code",
   "execution_count": 8,
   "metadata": {},
   "outputs": [
    {
     "data": {
      "text/plain": [
       "array([-2.69065026, -4.01123357, -2.48966713,  1.35046624, -2.59528514])"
      ]
     },
     "execution_count": 8,
     "metadata": {},
     "output_type": "execute_result"
    }
   ],
   "source": [
    "clf.decision_function(X_val)[:5]"
   ]
  },
  {
   "cell_type": "markdown",
   "metadata": {},
   "source": [
    "We observe that the custom function gives same values as the inbuilt decision function."
   ]
  },
  {
   "cell_type": "markdown",
   "metadata": {
    "colab_type": "text",
    "id": "c0bKCboN4Zxu"
   },
   "source": [
    "<h2><font color='Geen'> 9F: Implementing Platt Scaling to find P(Y==1|X)</font></h2>"
   ]
  },
  {
   "cell_type": "markdown",
   "metadata": {
    "colab_type": "text",
    "id": "nMn7OEN94Zxw"
   },
   "source": [
    "Check this <a href='https://drive.google.com/open?id=133odBinMOIVb_rh_GQxxsyMRyW-Zts7a'>PDF</a>\n",
    "<img src='https://i.imgur.com/CAMnVnh.png'>\n"
   ]
  },
  {
   "cell_type": "markdown",
   "metadata": {
    "colab_type": "text",
    "id": "e0n5EFkx4Zxz"
   },
   "source": [
    "## TASK F"
   ]
  },
  {
   "cell_type": "markdown",
   "metadata": {
    "colab_type": "text",
    "id": "t0HOqVJq4Zx1"
   },
   "source": [
    "\n",
    "> 4. Apply SGD algorithm with ($f_{cv}$, $y_{cv}$) and find the weight $W$ intercept $b$ ```Note: here our data is of one dimensional so we will have a one dimensional weight vector i.e W.shape (1,)``` \n",
    "\n",
    "> Note1: Don't forget to change the values of $y_{cv}$ as mentioned in the above image. you will calculate y+, y- based on data points in train data\n",
    "\n",
    "> Note2: the Sklearn's SGD algorithm doesn't support the real valued outputs, you need to use the code that was done in the `'Logistic Regression with SGD and L2'` Assignment after modifying loss function, and use same parameters that used in that assignment.\n",
    "<img src='https://i.imgur.com/zKYE9Oc.png'>\n",
    "if Y[i] is 1, it will be replaced with y+ value else it will replaced with y- value\n",
    "\n",
    "> 5. For a given data point from $X_{test}$, $P(Y=1|X) = \\frac{1}{1+exp(-(W*f_{test}+ b))}$ where ` `$f_{test}$ ```= decision_function(```$X_{test}$```)```, W and b will be learned as metioned in the above step"
   ]
  },
  {
   "cell_type": "markdown",
   "metadata": {
    "colab_type": "text",
    "id": "oTY7z2bd4Zx2"
   },
   "source": [
    "__Note: in the above algorithm, the steps 2, 4 might need hyper parameter tuning, To reduce the complexity of the assignment we are excluding the hyerparameter tuning part, but intrested students can try that__"
   ]
  },
  {
   "cell_type": "code",
   "execution_count": 9,
   "metadata": {},
   "outputs": [
    {
     "name": "stdout",
     "output_type": "stream",
     "text": [
      "[0. 1.] [550 250]\n"
     ]
    }
   ],
   "source": [
    "fcv = dec_fun(X_val)\n",
    "y_val_cpy = y_val.astype('float')\n",
    "unique,counts = np.unique(y_val_cpy,return_counts=True)\n",
    "print(unique,counts)\n",
    "y_val_cpy[y_val_cpy==unique[0]]=1.0/(counts[0]+2)\n",
    "y_val_cpy[y_val_cpy==unique[1]]=(counts[1]+1.0)/(counts[1]+2)"
   ]
  },
  {
   "cell_type": "code",
   "execution_count": 10,
   "metadata": {},
   "outputs": [],
   "source": [
    "def sigmoid(w,x,b):\n",
    "    return 1/(1+np.exp(-(w@x+b)))"
   ]
  },
  {
   "cell_type": "code",
   "execution_count": 11,
   "metadata": {},
   "outputs": [],
   "source": [
    "def update_weights(X,y,w,b,lamda,alpha,N):\n",
    "    w_new = (1-alpha*lamda/N)*w + alpha*X*(y-sigmoid(w,X.T,b))\n",
    "    b_new = b + alpha*(y-sigmoid(w,X.T,b))\n",
    "    return w_new,b_new"
   ]
  },
  {
   "cell_type": "code",
   "execution_count": 12,
   "metadata": {},
   "outputs": [],
   "source": [
    "def next_batch(X, y, batchSize):\n",
    "    # loop over our dataset `X` in mini-batches of size `batchSize`\n",
    "    for i in np.arange(0, X.shape[0], batchSize):\n",
    "        # yield a tuple of the current batched data and labels\n",
    "        yield (X[i:i + batchSize], y[i:i + batchSize])"
   ]
  },
  {
   "cell_type": "code",
   "execution_count": 13,
   "metadata": {},
   "outputs": [],
   "source": [
    "def compute_log_loss(A,n):# your code\n",
    "    loss=0\n",
    "    for Y in A:\n",
    "        loss += Y[0]*math.log(Y[1])+(1-Y[0])*math.log(1-Y[1]) \n",
    "    loss = -loss/n\n",
    "    return loss"
   ]
  },
  {
   "cell_type": "code",
   "execution_count": 14,
   "metadata": {},
   "outputs": [
    {
     "data": {
      "text/plain": [
       "(1,)"
      ]
     },
     "execution_count": 14,
     "metadata": {},
     "output_type": "execute_result"
    }
   ],
   "source": [
    "w = np.zeros((1,))\n",
    "b = 0\n",
    "lamda  = 0.0001\n",
    "alpha = 0.0001\n",
    "N = len(fcv)\n",
    "w.shape"
   ]
  },
  {
   "cell_type": "code",
   "execution_count": 15,
   "metadata": {},
   "outputs": [
    {
     "name": "stdout",
     "output_type": "stream",
     "text": [
      "iteration:1\n",
      "Training Loss:0.6552991440625178\n",
      "Test Loss:0.6216799191875771\n",
      "===========================================================================\n",
      "iteration:2\n",
      "Training Loss:0.5899504093091643\n",
      "Test Loss:0.5645912433935767\n",
      "===========================================================================\n",
      "iteration:3\n",
      "Training Loss:0.5376450468017597\n",
      "Test Loss:0.5185955466686065\n",
      "===========================================================================\n",
      "iteration:4\n",
      "Training Loss:0.4953452949234486\n",
      "Test Loss:0.4811179312138139\n",
      "===========================================================================\n",
      "iteration:5\n",
      "Training Loss:0.4607177842269182\n",
      "Test Loss:0.4502053772357796\n",
      "===========================================================================\n",
      "iteration:6\n",
      "Training Loss:0.43201116620223556\n",
      "Test Loss:0.4243957071932323\n",
      "===========================================================================\n",
      "iteration:7\n",
      "Training Loss:0.40792005329857134\n",
      "Test Loss:0.40259569163253994\n",
      "===========================================================================\n",
      "iteration:8\n",
      "Training Loss:0.38746914857339987\n",
      "Test Loss:0.3839836238254411\n",
      "===========================================================================\n",
      "iteration:9\n",
      "Training Loss:0.3699243012691913\n",
      "Test Loss:0.3679364008743245\n",
      "===========================================================================\n",
      "iteration:10\n",
      "Training Loss:0.35472727885274635\n",
      "Test Loss:0.3539765039079248\n",
      "===========================================================================\n",
      "iteration:11\n",
      "Training Loss:0.34144882027064943\n",
      "Test Loss:0.3417338531083492\n",
      "===========================================================================\n",
      "iteration:12\n",
      "Training Loss:0.32975501183164174\n",
      "Test Loss:0.3309183847754427\n",
      "===========================================================================\n",
      "iteration:13\n",
      "Training Loss:0.31938314266484286\n",
      "Test Loss:0.3213002439334413\n",
      "===========================================================================\n",
      "iteration:14\n",
      "Training Loss:0.31012425112115755\n",
      "Test Loss:0.31269536737583653\n",
      "===========================================================================\n",
      "iteration:15\n",
      "Training Loss:0.30181039569982493\n",
      "Test Loss:0.3049548927351467\n",
      "===========================================================================\n",
      "iteration:16\n",
      "Training Loss:0.29430527895800895\n",
      "Test Loss:0.2979573002257887\n",
      "===========================================================================\n",
      "iteration:17\n",
      "Training Loss:0.2874972693182899\n",
      "Test Loss:0.29160252219300625\n",
      "===========================================================================\n",
      "iteration:18\n",
      "Training Loss:0.2812941533109972\n",
      "Test Loss:0.2858074827676511\n",
      "===========================================================================\n",
      "iteration:19\n",
      "Training Loss:0.2756191487461773\n",
      "Test Loss:0.28050268691278957\n",
      "===========================================================================\n",
      "iteration:20\n",
      "Training Loss:0.27040784585353755\n",
      "Test Loss:0.27562958702863327\n",
      "===========================================================================\n",
      "iteration:21\n",
      "Training Loss:0.26560583812342137\n",
      "Test Loss:0.27113853126412746\n",
      "===========================================================================\n",
      "iteration:22\n",
      "Training Loss:0.2611668707347844\n",
      "Test Loss:0.26698715111215393\n",
      "===========================================================================\n",
      "iteration:23\n",
      "Training Loss:0.25705138105688347\n",
      "Test Loss:0.26313908375226086\n",
      "===========================================================================\n",
      "iteration:24\n",
      "Training Loss:0.2532253388312813\n",
      "Test Loss:0.25956295170834337\n",
      "===========================================================================\n",
      "iteration:25\n",
      "Training Loss:0.24965931739417382\n",
      "Test Loss:0.2562315419516265\n",
      "===========================================================================\n",
      "iteration:26\n",
      "Training Loss:0.24632774449024541\n",
      "Test Loss:0.25312114082534004\n",
      "===========================================================================\n",
      "iteration:27\n",
      "Training Loss:0.2432082937828996\n",
      "Test Loss:0.2502109916324353\n",
      "===========================================================================\n",
      "iteration:28\n",
      "Training Loss:0.24028138741329827\n",
      "Test Loss:0.24748284948063623\n",
      "===========================================================================\n",
      "iteration:29\n",
      "Training Loss:0.23752978683073997\n",
      "Test Loss:0.24492061377030055\n",
      "===========================================================================\n",
      "Final Weights:\n",
      "[0.90106319]\n",
      "Final Intercept: [-0.1014738]\n"
     ]
    }
   ],
   "source": [
    "import math\n",
    "lossHistoryTrain = []\n",
    "lossHistoryTest = []\n",
    "epochs = range(1,30)\n",
    "for epoch in epochs:\n",
    "    # initialize the total loss for the epoch\n",
    "    epochLossTrain = []\n",
    "    epochLossTest = []\n",
    "    # loop over our data in batches\n",
    "    for (batchX, batchY) in next_batch(fcv, y_val_cpy, 1):\n",
    "        preds = sigmoid(w,batchX,b)\n",
    "        loss = -(batchY*math.log(preds)+(1-batchY)*math.log(1-preds))\n",
    "        epochLossTrain.append(loss)\n",
    "        w, b = update_weights(batchX,batchY,w,b,lamda,alpha,N)\n",
    "        \n",
    "    avgLossTrain = np.average(epochLossTrain)\n",
    "    lossHistoryTrain.append(avgLossTrain)\n",
    "    print(\"iteration:{}\".format(epoch))\n",
    "    print(\"Training Loss:{}\".format(avgLossTrain))\n",
    "    y_pred = [sigmoid(w,x.reshape(-1,1),b) for x in dec_fun(X_test)]\n",
    "    avgLossTest = compute_log_loss(zip(y_test,y_pred),len(y_test))\n",
    "    lossHistoryTest.append(avgLossTest)\n",
    "    print(\"Test Loss:{}\".format(avgLossTest))\n",
    "    print('='*75)\n",
    "print('Final Weights:')\n",
    "print(w)\n",
    "print('Final Intercept:',b)"
   ]
  },
  {
   "cell_type": "code",
   "execution_count": 17,
   "metadata": {},
   "outputs": [
    {
     "data": {
      "image/png": "[encoded data removed]",
      "text/plain": [
       "<Figure size 432x288 with 1 Axes>"
      ]
     },
     "metadata": {},
     "output_type": "display_data"
    }
   ],
   "source": [
    "import matplotlib.pyplot as plt\n",
    "plt.plot(epochs,lossHistoryTrain)\n",
    "plt.plot(epochs,lossHistoryTest)\n",
    "plt.legend(['train loss','test loss'])\n",
    "plt.title('Loss vs epochs')\n",
    "plt.xlabel('epochs')\n",
    "plt.ylabel('Loss')\n",
    "plt.show()"
   ]
  },
  {
   "cell_type": "markdown",
   "metadata": {
    "colab_type": "text",
    "id": "CM3odN1Z4Zx3"
   },
   "source": [
    "\n",
    "If any one wants to try other calibration algorithm istonic regression also please check these tutorials\n",
    "\n",
    "1. http://fa.bianp.net/blog/tag/scikit-learn.html#fn:1\n",
    "\n",
    "2. https://drive.google.com/open?id=1MzmA7QaP58RDzocB0RBmRiWfl7Co_VJ7\n",
    "\n",
    "3. https://drive.google.com/open?id=133odBinMOIVb_rh_GQxxsyMRyW-Zts7a\n",
    "\n",
    "4. https://stat.fandom.com/wiki/Isotonic_regression#Pool_Adjacent_Violators_Algorithm\n"
   ]
  }
 ],
 "metadata": {
  "colab": {
   "collapsed_sections": [],
   "name": "8E&F_LR_SVM.ipynb",
   "provenance": []
  },
  "kernelspec": {
   "display_name": "Python 3",
   "language": "python",
   "name": "python3"
  },
  "language_info": {
   "codemirror_mode": {
    "name": "ipython",
    "version": 3
   },
   "file_extension": ".py",
   "mimetype": "text/x-python",
   "name": "python",
   "nbconvert_exporter": "python",
   "pygments_lexer": "ipython3",
   "version": "3.6.5"
  }
 },
 "nbformat": 4,
 "nbformat_minor": 1
}
